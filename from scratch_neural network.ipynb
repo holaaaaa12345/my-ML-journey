{
 "cells": [
  {
   "cell_type": "markdown",
   "id": "02737cbd",
   "metadata": {},
   "source": [
    "# Neural network learning from scratch (Math + Numpy)"
   ]
  },
  {
   "cell_type": "markdown",
   "id": "c588d68a",
   "metadata": {},
   "source": [
    "This notebook is a part of the series __From Scratch__, where i try to code machine learning algorithms from scratch (just numpy and math)"
   ]
  },
  {
   "cell_type": "markdown",
   "id": "7d7a2fbf",
   "metadata": {},
   "source": [
    "This is a major milestone during my self-taught machine learning journey. Understanding the backpropagation and calculus in it is quite an experience. That said, this is really the simplest implementation :p."
   ]
  },
  {
   "cell_type": "code",
   "execution_count": 189,
   "id": "285ac7b3",
   "metadata": {},
   "outputs": [],
   "source": [
    "import pandas as pd\n",
    "import numpy as np\n",
    "import matplotlib.pyplot as plt\n",
    "from sklearn.linear_model import LogisticRegression\n",
    "from sklearn.model_selection import train_test_split\n",
    "from sklearn.metrics import accuracy_score, f1_score\n",
    "from tensorflow.keras.models import Sequential\n",
    "from tensorflow.keras.layers import Dense, Normalization\n",
    "from tensorflow.keras.activations import linear, relu, sigmoid, softmax\n",
    "from tensorflow.keras.losses import BinaryCrossentropy\n",
    "from tensorflow.keras.optimizers import Adam\n",
    "from keras.datasets import mnist\n",
    "import tensorflow as tf\n",
    "from tqdm import tqdm"
   ]
  },
  {
   "cell_type": "markdown",
   "id": "df75c1df",
   "metadata": {},
   "source": [
    "### Objective: Determine a tumor's malignancy given its texture_mean and radius_mean"
   ]
  },
  {
   "cell_type": "markdown",
   "id": "9b9e7e12",
   "metadata": {},
   "source": [
    "#### The dataset"
   ]
  },
  {
   "cell_type": "code",
   "execution_count": 2,
   "id": "0c8caac3",
   "metadata": {
    "scrolled": true
   },
   "outputs": [
    {
     "data": {
      "text/html": [
       "<div>\n",
       "<style scoped>\n",
       "    .dataframe tbody tr th:only-of-type {\n",
       "        vertical-align: middle;\n",
       "    }\n",
       "\n",
       "    .dataframe tbody tr th {\n",
       "        vertical-align: top;\n",
       "    }\n",
       "\n",
       "    .dataframe thead th {\n",
       "        text-align: right;\n",
       "    }\n",
       "</style>\n",
       "<table border=\"1\" class=\"dataframe\">\n",
       "  <thead>\n",
       "    <tr style=\"text-align: right;\">\n",
       "      <th></th>\n",
       "      <th>diagnosis</th>\n",
       "      <th>texture_mean</th>\n",
       "      <th>radius_mean</th>\n",
       "    </tr>\n",
       "  </thead>\n",
       "  <tbody>\n",
       "    <tr>\n",
       "      <th>0</th>\n",
       "      <td>1</td>\n",
       "      <td>10.38</td>\n",
       "      <td>17.99</td>\n",
       "    </tr>\n",
       "    <tr>\n",
       "      <th>1</th>\n",
       "      <td>1</td>\n",
       "      <td>17.77</td>\n",
       "      <td>20.57</td>\n",
       "    </tr>\n",
       "    <tr>\n",
       "      <th>2</th>\n",
       "      <td>1</td>\n",
       "      <td>21.25</td>\n",
       "      <td>19.69</td>\n",
       "    </tr>\n",
       "    <tr>\n",
       "      <th>3</th>\n",
       "      <td>1</td>\n",
       "      <td>20.38</td>\n",
       "      <td>11.42</td>\n",
       "    </tr>\n",
       "    <tr>\n",
       "      <th>4</th>\n",
       "      <td>1</td>\n",
       "      <td>14.34</td>\n",
       "      <td>20.29</td>\n",
       "    </tr>\n",
       "    <tr>\n",
       "      <th>...</th>\n",
       "      <td>...</td>\n",
       "      <td>...</td>\n",
       "      <td>...</td>\n",
       "    </tr>\n",
       "    <tr>\n",
       "      <th>564</th>\n",
       "      <td>1</td>\n",
       "      <td>22.39</td>\n",
       "      <td>21.56</td>\n",
       "    </tr>\n",
       "    <tr>\n",
       "      <th>565</th>\n",
       "      <td>1</td>\n",
       "      <td>28.25</td>\n",
       "      <td>20.13</td>\n",
       "    </tr>\n",
       "    <tr>\n",
       "      <th>566</th>\n",
       "      <td>1</td>\n",
       "      <td>28.08</td>\n",
       "      <td>16.60</td>\n",
       "    </tr>\n",
       "    <tr>\n",
       "      <th>567</th>\n",
       "      <td>1</td>\n",
       "      <td>29.33</td>\n",
       "      <td>20.60</td>\n",
       "    </tr>\n",
       "    <tr>\n",
       "      <th>568</th>\n",
       "      <td>0</td>\n",
       "      <td>24.54</td>\n",
       "      <td>7.76</td>\n",
       "    </tr>\n",
       "  </tbody>\n",
       "</table>\n",
       "<p>569 rows × 3 columns</p>\n",
       "</div>"
      ],
      "text/plain": [
       "     diagnosis  texture_mean  radius_mean\n",
       "0            1         10.38        17.99\n",
       "1            1         17.77        20.57\n",
       "2            1         21.25        19.69\n",
       "3            1         20.38        11.42\n",
       "4            1         14.34        20.29\n",
       "..         ...           ...          ...\n",
       "564          1         22.39        21.56\n",
       "565          1         28.25        20.13\n",
       "566          1         28.08        16.60\n",
       "567          1         29.33        20.60\n",
       "568          0         24.54         7.76\n",
       "\n",
       "[569 rows x 3 columns]"
      ]
     },
     "execution_count": 2,
     "metadata": {},
     "output_type": "execute_result"
    }
   ],
   "source": [
    "df = pd.read_csv(\"bdiag.csv\")[[\"diagnosis\", \"texture_mean\", \"radius_mean\"]]\n",
    "df[\"diagnosis\"] = df[\"diagnosis\"].replace({\"M\":1, \"B\":0})\n",
    "df"
   ]
  },
  {
   "cell_type": "code",
   "execution_count": 233,
   "id": "0da2e048",
   "metadata": {},
   "outputs": [
    {
     "data": {
      "image/png": "[encoded data removed]",
      "text/plain": [
       "<Figure size 432x288 with 1 Axes>"
      ]
     },
     "metadata": {
      "needs_background": "light"
     },
     "output_type": "display_data"
    }
   ],
   "source": [
    "fig, ax = plt.subplots()\n",
    "\n",
    "mal = df[df[\"diagnosis\"]==1]\n",
    "ben = df[df[\"diagnosis\"]==0]\n",
    "\n",
    "ax.scatter(mal[\"texture_mean\"], mal[\"radius_mean\"], label=\"malignant\", c=\"r\")\n",
    "ax.scatter(ben[\"texture_mean\"], ben[\"radius_mean\"], label=\"benign\", c=\"b\")\n",
    "ax.set_xlabel(\"texture_mean\")\n",
    "ax.set_ylabel(\"radius_mean\")\n",
    "ax.legend()\n",
    "\n",
    "plt.show()\n"
   ]
  },
  {
   "cell_type": "markdown",
   "id": "6b617ade",
   "metadata": {},
   "source": [
    "### Train-test split"
   ]
  },
  {
   "cell_type": "code",
   "execution_count": 3,
   "id": "b641944f",
   "metadata": {},
   "outputs": [],
   "source": [
    "X = df[[\"texture_mean\", \"radius_mean\"]].values\n",
    "y = df[\"diagnosis\"].values.reshape(-1, 1)\n",
    "X_train, X_test, y_train, y_test = train_test_split(X, y, test_size=0.2)"
   ]
  },
  {
   "cell_type": "code",
   "execution_count": 4,
   "id": "b827b2f3",
   "metadata": {},
   "outputs": [
    {
     "name": "stdout",
     "output_type": "stream",
     "text": [
      "X_train: (455, 2)\n",
      "Y_train: (455, 1)\n",
      "X_test:  (114, 2)\n",
      "Y_test:  (114, 1)\n"
     ]
    }
   ],
   "source": [
    "print('X_train: ' + str(X_train.shape))\n",
    "print('Y_train: ' + str(y_train.shape))\n",
    "print('X_test:  '  + str(X_test.shape))\n",
    "print('Y_test:  '  + str(y_test.shape))"
   ]
  },
  {
   "cell_type": "markdown",
   "id": "cca568a5",
   "metadata": {},
   "source": [
    "### Baseline model"
   ]
  },
  {
   "cell_type": "markdown",
   "id": "6fbfafdc",
   "metadata": {},
   "source": [
    "predict only based on the mean of radius_mean"
   ]
  },
  {
   "cell_type": "code",
   "execution_count": 249,
   "id": "02168e1b",
   "metadata": {},
   "outputs": [
    {
     "data": {
      "text/plain": [
       "0.8070175438596491"
      ]
     },
     "execution_count": 249,
     "metadata": {},
     "output_type": "execute_result"
    }
   ],
   "source": [
    "rad_mean = X_test\n",
    "diag = y_test\n",
    "mean = rad_mean.mean()\n",
    "pred = np.where(rad_mean>mean, 1, 0)\n",
    "(pred==diag).mean()"
   ]
  },
  {
   "cell_type": "markdown",
   "id": "ce7056c1",
   "metadata": {},
   "source": [
    "### Feature normalization"
   ]
  },
  {
   "cell_type": "code",
   "execution_count": 5,
   "id": "3c85e917",
   "metadata": {},
   "outputs": [],
   "source": [
    "norm = Normalization(axis=1)\n",
    "norm.adapt(X_train)"
   ]
  },
  {
   "cell_type": "code",
   "execution_count": 6,
   "id": "d033f987",
   "metadata": {},
   "outputs": [],
   "source": [
    "X_train = np.array(norm(X_train))  # converts back to numpy because tensor is slower\n",
    "X_test = np.array(norm(X_test))"
   ]
  },
  {
   "cell_type": "markdown",
   "id": "63535d4f",
   "metadata": {},
   "source": [
    "### The Model overview"
   ]
  },
  {
   "cell_type": "markdown",
   "id": "9cce2cc6",
   "metadata": {},
   "source": [
    "![alt text](model_nn_scratch.jpg \"test\")"
   ]
  },
  {
   "cell_type": "markdown",
   "id": "a1324519",
   "metadata": {},
   "source": [
    "## Doing it the \"easy\" way (using library)"
   ]
  },
  {
   "cell_type": "code",
   "execution_count": 250,
   "id": "95555dbb",
   "metadata": {
    "scrolled": true
   },
   "outputs": [
    {
     "name": "stdout",
     "output_type": "stream",
     "text": [
      "Epoch 1/80\n",
      "15/15 [==============================] - 10s 8ms/step - loss: 0.7970 - accuracy: 0.5055\n",
      "Epoch 2/80\n",
      "15/15 [==============================] - 0s 4ms/step - loss: 0.7055 - accuracy: 0.5824\n",
      "Epoch 3/80\n",
      "15/15 [==============================] - 0s 12ms/step - loss: 0.6626 - accuracy: 0.6066\n",
      "Epoch 4/80\n",
      "15/15 [==============================] - 0s 5ms/step - loss: 0.6311 - accuracy: 0.6176\n",
      "Epoch 5/80\n",
      "15/15 [==============================] - 0s 3ms/step - loss: 0.5961 - accuracy: 0.6154\n",
      "Epoch 6/80\n",
      "15/15 [==============================] - 0s 3ms/step - loss: 0.5547 - accuracy: 0.6176\n",
      "Epoch 7/80\n",
      "15/15 [==============================] - 0s 5ms/step - loss: 0.5097 - accuracy: 0.6242\n",
      "Epoch 8/80\n",
      "15/15 [==============================] - 0s 5ms/step - loss: 0.4647 - accuracy: 0.6352\n",
      "Epoch 9/80\n",
      "15/15 [==============================] - 0s 5ms/step - loss: 0.4240 - accuracy: 0.6901\n",
      "Epoch 10/80\n",
      "15/15 [==============================] - 0s 7ms/step - loss: 0.3872 - accuracy: 0.7692\n",
      "Epoch 11/80\n",
      "15/15 [==============================] - 0s 3ms/step - loss: 0.3575 - accuracy: 0.8242\n",
      "Epoch 12/80\n",
      "15/15 [==============================] - 0s 4ms/step - loss: 0.3316 - accuracy: 0.8593\n",
      "Epoch 13/80\n",
      "15/15 [==============================] - 0s 3ms/step - loss: 0.3126 - accuracy: 0.8681\n",
      "Epoch 14/80\n",
      "15/15 [==============================] - 0s 3ms/step - loss: 0.2971 - accuracy: 0.8747\n",
      "Epoch 15/80\n",
      "15/15 [==============================] - 0s 3ms/step - loss: 0.2876 - accuracy: 0.8835\n",
      "Epoch 16/80\n",
      "15/15 [==============================] - 0s 3ms/step - loss: 0.2808 - accuracy: 0.8857\n",
      "Epoch 17/80\n",
      "15/15 [==============================] - 0s 7ms/step - loss: 0.2776 - accuracy: 0.8879\n",
      "Epoch 18/80\n",
      "15/15 [==============================] - 0s 3ms/step - loss: 0.2753 - accuracy: 0.8945\n",
      "Epoch 19/80\n",
      "15/15 [==============================] - 0s 3ms/step - loss: 0.2734 - accuracy: 0.8967\n",
      "Epoch 20/80\n",
      "15/15 [==============================] - 0s 3ms/step - loss: 0.2721 - accuracy: 0.8945\n",
      "Epoch 21/80\n",
      "15/15 [==============================] - 0s 3ms/step - loss: 0.2717 - accuracy: 0.8923\n",
      "Epoch 22/80\n",
      "15/15 [==============================] - 0s 3ms/step - loss: 0.2706 - accuracy: 0.8945\n",
      "Epoch 23/80\n",
      "15/15 [==============================] - 0s 3ms/step - loss: 0.2702 - accuracy: 0.8945\n",
      "Epoch 24/80\n",
      "15/15 [==============================] - 0s 3ms/step - loss: 0.2691 - accuracy: 0.8967\n",
      "Epoch 25/80\n",
      "15/15 [==============================] - 0s 4ms/step - loss: 0.2687 - accuracy: 0.8923\n",
      "Epoch 26/80\n",
      "15/15 [==============================] - 0s 3ms/step - loss: 0.2681 - accuracy: 0.8879\n",
      "Epoch 27/80\n",
      "15/15 [==============================] - 0s 3ms/step - loss: 0.2680 - accuracy: 0.8901\n",
      "Epoch 28/80\n",
      "15/15 [==============================] - 0s 3ms/step - loss: 0.2674 - accuracy: 0.8945\n",
      "Epoch 29/80\n",
      "15/15 [==============================] - 0s 4ms/step - loss: 0.2678 - accuracy: 0.8901\n",
      "Epoch 30/80\n",
      "15/15 [==============================] - 0s 5ms/step - loss: 0.2662 - accuracy: 0.8901\n",
      "Epoch 31/80\n",
      "15/15 [==============================] - 0s 3ms/step - loss: 0.2663 - accuracy: 0.8923\n",
      "Epoch 32/80\n",
      "15/15 [==============================] - 0s 4ms/step - loss: 0.2658 - accuracy: 0.8967\n",
      "Epoch 33/80\n",
      "15/15 [==============================] - 0s 3ms/step - loss: 0.2654 - accuracy: 0.8923\n",
      "Epoch 34/80\n",
      "15/15 [==============================] - 0s 3ms/step - loss: 0.2653 - accuracy: 0.8923\n",
      "Epoch 35/80\n",
      "15/15 [==============================] - 0s 3ms/step - loss: 0.2648 - accuracy: 0.8945\n",
      "Epoch 36/80\n",
      "15/15 [==============================] - 0s 3ms/step - loss: 0.2649 - accuracy: 0.8857\n",
      "Epoch 37/80\n",
      "15/15 [==============================] - 0s 3ms/step - loss: 0.2654 - accuracy: 0.8857\n",
      "Epoch 38/80\n",
      "15/15 [==============================] - 0s 6ms/step - loss: 0.2648 - accuracy: 0.8857\n",
      "Epoch 39/80\n",
      "15/15 [==============================] - 0s 4ms/step - loss: 0.2643 - accuracy: 0.8879\n",
      "Epoch 40/80\n",
      "15/15 [==============================] - 0s 6ms/step - loss: 0.2639 - accuracy: 0.8901\n",
      "Epoch 41/80\n",
      "15/15 [==============================] - 0s 6ms/step - loss: 0.2638 - accuracy: 0.8945\n",
      "Epoch 42/80\n",
      "15/15 [==============================] - 0s 5ms/step - loss: 0.2640 - accuracy: 0.8923\n",
      "Epoch 43/80\n",
      "15/15 [==============================] - 0s 3ms/step - loss: 0.2633 - accuracy: 0.8879\n",
      "Epoch 44/80\n",
      "15/15 [==============================] - 0s 3ms/step - loss: 0.2634 - accuracy: 0.8879\n",
      "Epoch 45/80\n",
      "15/15 [==============================] - 0s 7ms/step - loss: 0.2635 - accuracy: 0.8879\n",
      "Epoch 46/80\n",
      "15/15 [==============================] - 0s 5ms/step - loss: 0.2634 - accuracy: 0.8835\n",
      "Epoch 47/80\n",
      "15/15 [==============================] - 0s 5ms/step - loss: 0.2630 - accuracy: 0.8879\n",
      "Epoch 48/80\n",
      "15/15 [==============================] - 0s 7ms/step - loss: 0.2633 - accuracy: 0.8901\n",
      "Epoch 49/80\n",
      "15/15 [==============================] - 0s 5ms/step - loss: 0.2627 - accuracy: 0.8835\n",
      "Epoch 50/80\n",
      "15/15 [==============================] - 0s 6ms/step - loss: 0.2638 - accuracy: 0.8901\n",
      "Epoch 51/80\n",
      "15/15 [==============================] - 0s 3ms/step - loss: 0.2626 - accuracy: 0.8857\n",
      "Epoch 52/80\n",
      "15/15 [==============================] - 0s 3ms/step - loss: 0.2627 - accuracy: 0.8835\n",
      "Epoch 53/80\n",
      "15/15 [==============================] - 0s 3ms/step - loss: 0.2621 - accuracy: 0.8835\n",
      "Epoch 54/80\n",
      "15/15 [==============================] - 0s 3ms/step - loss: 0.2621 - accuracy: 0.8857\n",
      "Epoch 55/80\n",
      "15/15 [==============================] - 0s 3ms/step - loss: 0.2619 - accuracy: 0.8835\n",
      "Epoch 56/80\n",
      "15/15 [==============================] - 0s 3ms/step - loss: 0.2618 - accuracy: 0.8813\n",
      "Epoch 57/80\n",
      "15/15 [==============================] - 0s 5ms/step - loss: 0.2617 - accuracy: 0.8813\n",
      "Epoch 58/80\n",
      "15/15 [==============================] - 0s 4ms/step - loss: 0.2618 - accuracy: 0.8813\n",
      "Epoch 59/80\n",
      "15/15 [==============================] - 0s 4ms/step - loss: 0.2619 - accuracy: 0.8835\n",
      "Epoch 60/80\n",
      "15/15 [==============================] - 0s 4ms/step - loss: 0.2616 - accuracy: 0.8835\n",
      "Epoch 61/80\n",
      "15/15 [==============================] - 0s 4ms/step - loss: 0.2614 - accuracy: 0.8813\n",
      "Epoch 62/80\n",
      "15/15 [==============================] - 0s 3ms/step - loss: 0.2621 - accuracy: 0.8813\n",
      "Epoch 63/80\n",
      "15/15 [==============================] - 0s 3ms/step - loss: 0.2614 - accuracy: 0.8835\n",
      "Epoch 64/80\n",
      "15/15 [==============================] - 0s 4ms/step - loss: 0.2613 - accuracy: 0.8813\n",
      "Epoch 65/80\n",
      "15/15 [==============================] - 0s 6ms/step - loss: 0.2610 - accuracy: 0.8813\n",
      "Epoch 66/80\n",
      "15/15 [==============================] - 0s 10ms/step - loss: 0.2616 - accuracy: 0.8791\n",
      "Epoch 67/80\n",
      "15/15 [==============================] - 0s 5ms/step - loss: 0.2615 - accuracy: 0.8813\n",
      "Epoch 68/80\n",
      "15/15 [==============================] - 0s 4ms/step - loss: 0.2610 - accuracy: 0.8813\n",
      "Epoch 69/80\n",
      "15/15 [==============================] - 0s 3ms/step - loss: 0.2610 - accuracy: 0.8813\n",
      "Epoch 70/80\n",
      "15/15 [==============================] - 0s 3ms/step - loss: 0.2612 - accuracy: 0.8791\n",
      "Epoch 71/80\n",
      "15/15 [==============================] - 0s 3ms/step - loss: 0.2613 - accuracy: 0.8835\n",
      "Epoch 72/80\n",
      "15/15 [==============================] - 0s 3ms/step - loss: 0.2617 - accuracy: 0.8879\n",
      "Epoch 73/80\n",
      "15/15 [==============================] - 0s 3ms/step - loss: 0.2609 - accuracy: 0.8835\n",
      "Epoch 74/80\n",
      "15/15 [==============================] - 0s 4ms/step - loss: 0.2606 - accuracy: 0.8791\n",
      "Epoch 75/80\n",
      "15/15 [==============================] - 0s 4ms/step - loss: 0.2612 - accuracy: 0.8791\n",
      "Epoch 76/80\n",
      "15/15 [==============================] - 0s 4ms/step - loss: 0.2614 - accuracy: 0.8835\n",
      "Epoch 77/80\n",
      "15/15 [==============================] - 0s 4ms/step - loss: 0.2608 - accuracy: 0.8813\n",
      "Epoch 78/80\n",
      "15/15 [==============================] - 0s 4ms/step - loss: 0.2608 - accuracy: 0.8813\n",
      "Epoch 79/80\n",
      "15/15 [==============================] - 0s 5ms/step - loss: 0.2609 - accuracy: 0.8813\n",
      "Epoch 80/80\n",
      "15/15 [==============================] - 0s 4ms/step - loss: 0.2606 - accuracy: 0.8813\n"
     ]
    },
    {
     "data": {
      "text/plain": [
       "<keras.callbacks.History at 0x1f00a608f40>"
      ]
     },
     "execution_count": 250,
     "metadata": {},
     "output_type": "execute_result"
    }
   ],
   "source": [
    "model = Sequential([\n",
    "    \n",
    "    Dense(units=2, activation=relu),\n",
    "    Dense(units=1, activation=linear)\n",
    "])\n",
    "\n",
    "model.compile(loss=BinaryCrossentropy(from_logits=True),  # to avoid numerical instability\n",
    "              optimizer=Adam(learning_rate=0.01),\n",
    "              metrics=\"accuracy\"\n",
    "             )\n",
    "model.fit(X_train, y_train, epochs=80)"
   ]
  },
  {
   "cell_type": "markdown",
   "id": "5610e0c6",
   "metadata": {},
   "source": [
    "### Evaluation"
   ]
  },
  {
   "cell_type": "code",
   "execution_count": 251,
   "id": "4df90265",
   "metadata": {
    "scrolled": true
   },
   "outputs": [
    {
     "name": "stdout",
     "output_type": "stream",
     "text": [
      "114/114 [==============================] - 1s 2ms/step - loss: 0.2026 - accuracy: 0.9123\n"
     ]
    },
    {
     "data": {
      "text/plain": [
       "[0.20262475311756134, 0.9122806787490845]"
      ]
     },
     "execution_count": 251,
     "metadata": {},
     "output_type": "execute_result"
    }
   ],
   "source": [
    "model.evaluate(X_test, y_test, batch_size=1)"
   ]
  },
  {
   "cell_type": "markdown",
   "id": "cf855c6c",
   "metadata": {},
   "source": [
    "# Doing it the hard way (scratch)"
   ]
  },
  {
   "cell_type": "markdown",
   "id": "ce210e61",
   "metadata": {},
   "source": [
    "### The math"
   ]
  },
  {
   "cell_type": "markdown",
   "id": "7843ec1c",
   "metadata": {},
   "source": [
    "2 features --> 1 hidden layer (2 neuron relu) --> 1 output layer (1 neuron sigmoid)\n",
    "\n",
    "#### Forward propagation:\n",
    "\n",
    "$$z_{1}^{[1]} = w_{1}^{[1]}x_{1} + w_{2}^{[1]}x_{2} + b_{1}^{[1]} $$ <br>\n",
    "$$z_{2}^{[1]} = w_{3}^{[1]}x_{1} + w_{4}^{[1]}x_{2} + b_{2}^{[1]} $$ <br>\n",
    "$$a_{1}^{[1]} = \\text{relu}(z_{1}^{[1]})$$ <br>\n",
    "$$a_{2}^{[1]} = \\text{relu}(z_{2}^{[1]})$$ <br>\n",
    "$$z^{[2]} = w_{1}^{[2]}x_{1} + w_{2}^{[2]}x_{2} + b^{[2]} $$ <br>\n",
    "$$a^{[2]} = \\frac{1}{1 + e^{-z^{[2]}}}$$ <br>\n",
    "\n",
    "#### cost & loss function: <br>\n",
    "$$\\text{cross entropy cost}(\\hat{a}^{[2]}, \\hat{y}) = -\\frac{1}{n}\\sum_{i=1}^{n}\\sum_{j=1}^{m}y_{ij}\\text{log}(a^{[2]}[ij])$$ <br>\n",
    "$$\\text{binary cross entropy cost}(\\hat{a}^{[2]}, \\hat{y}) = -\\frac{1}{n}\\sum_{i=1}^{n}y_{i}\\text{log}(a^{[2]}[i]) + (1-y_{i})\\text{log}(1-a^{[2]}[i])$$ <br>\n",
    "\n",
    "#####  Derivative of cost function w.r.t parameters\n",
    "$$\\frac{\\partial ( \\text{binary cross entropy cost}(\\vec{a}^{[2]}, \\vec{y}))}{\\partial \\vec{w}} = \\frac{1}{n}(\\frac {\\partial (\\text{binary cross entropy loss}(a^{[2]}, \\hat{y}))_{1}}{\\partial \\vec{w}} + \\frac {\\partial (\\text{binary cross entropy loss}(a^{[2]}, \\hat{y}))_{2}}{\\partial \\vec{w}}+ ...+ \\frac {\\partial (\\text{binary cross entropy loss}(a^{[2]}, \\hat{y}))_{n}}{\\partial \\vec{w}})\\space \\text{for n=number of examples}$$<br>\n",
    "\n",
    "$$\\text{binary cross entropy loss}(a^{[2]}, \\hat{y}) = -(y_{i}\\text{log}(a^{[2]}) + (1-y_{i})\\text{log}(1-a^{[2]}))$$\n",
    "\n",
    "- The point of backpropagation is to determine the gradient of cost function wrt to each parameter $w$\n",
    "- Intuitively speaking, the gradient of cost function wrt to parameter $w$ is the average of all the gradient of loss function wrt to parameter $w_{1}, w_{2},..., w_{n}$ where $n=$number of examples.\n",
    "- Backpropagation involves the derivation of loss function wrt to each parameters, then averaging them later for gradient descent\n",
    "\n",
    "#### Backward propagation:\n",
    "\n",
    "##### output layer\n",
    "$\\frac{\\partial \\text{cost}(a^{[2]})}{\\partial z^{[2]}}=\\frac{\\partial a^{[2]}}{\\partial z^{[2]}}\\times\\frac{\\partial\\text{cost}(a^{[2]})}{\\partial a^{[2]}} = (1-a^{[2]})\\times \\frac{a^{[2]}-y}{a^{[2]}(1-a^{[2]})} = a^{[2]} - y$\n",
    "\n",
    "\n",
    "$$\\frac{\\partial\\text{cost}(a^{[2]})}{\\partial w_{1}^{[2]}} = \\frac{\\partial z^{[2]}}{\\partial w_{1}^{[2]}}\\times\\frac{\\partial \\text{cost}(a^{[2]})}{\\partial z^{[2]}} = a_{1}^{[1]}\\times (a^{[2]} - y)$$\n",
    "\n",
    "$$\\frac{\\partial\\text{cost}(a^{[2]})}{\\partial w_{2}^{[2]}} = \\frac{\\partial z^{[2]}}{\\partial w_{2}^{[2]}}\\times\\frac{\\partial \\text{cost}(a^{[2]})}{\\partial z^{[2]}} = a_{2}^{[1]}\\times (a^{[2]} - y)$$\n",
    "\n",
    "$$\\frac{\\partial\\text{cost}(a^{[2]})}{\\partial b^{[2]}} = \\frac{\\partial z^{[2]}}{\\partial b^{[2]}}\\times\\frac{\\partial \\text{cost}(a^{[2]})}{\\partial z^{[2]}} = a^{[2]} - y$$\n",
    "\n",
    "\n",
    "##### hidden layer\n",
    "$\\frac{\\partial \\text{cost}(a^{[2]})}{\\partial z_{1}^{[1]}}=\\frac{\\partial a_{1}^{[1]}}{\\partial z_{1}^{[1]}}\\times\\frac{\\partial z^{[2]}}{\\partial a_{1}^{[1]}}\\times\\frac{\\partial \\text{cost}(a^{[2]})}{\\partial z^{[2]}} = \\text{relu'}(z_1^{[1]}) \\times w_1^{[2]}\\times (a^{[2]} - y)$ <br>\n",
    "\n",
    "$$\\frac{\\partial\\text{cost}(a^{[2]})}{\\partial w_{1}^{[1]}} = \\frac{\\partial z_{1}^{[1]}}{\\partial w_{1}^{[1]}}\\times \\frac{\\partial \\text{cost}(a^{[2]})}{\\partial z_{1}^{[1]}} = x_1\\times \\text{relu'}(z_1^{[1]}) \\times w_1^{[2]}\\times (a^{[2]} - y)$$\n",
    "$$\\frac{\\partial\\text{cost}(a^{[2]})}{\\partial w_{2}^{[1]}} = \\frac{\\partial z_{1}^{[1]}}{\\partial w_{2}^{[1]}}\\times \\frac{\\partial \\text{cost}(a^{[2]})}{\\partial z_{1}^{[1]}} = x_2\\times \\text{relu'}(z_1^{[1]}) \\times w_1^{[2]}\\times (a^{[2]} - y)$$ \n",
    "$$\\frac{\\partial\\text{cost}(a^{[2]})}{\\partial b_{1}^{[1]}} = \\frac{\\partial z_{1}^{[1]}}{\\partial b_{1}^{[1]}}\\times \\frac{\\partial \\text{cost}(a^{[2]})}{\\partial z_{1}^{[1]}} = \\text{relu'}(z_1^{[1]}) \\times w_1^{[2]}\\times (a^{[2]} - y)$$ \n",
    "<br>\n",
    "\n",
    "$\\frac{\\partial \\text{cost}(a^{[2]})}{\\partial z_{2}^{[1]}}=\\frac{\\partial a_{1}^{[1]}}{\\partial z_{2}^{[1]}}\\times\\frac{\\partial z^{[2]}}{\\partial a_{1}^{[1]}}\\times\\frac{\\partial \\text{cost}(a^{[2]})}{\\partial z^{[2]}} = \\text{relu'}(z_2^{[1]}) \\times w_2^{[2]}\\times (a^{[2]} - y)$ <br>\n",
    "\n",
    "$$\\frac{\\partial\\text{cost}(a^{[2]})}{\\partial w_{3}^{[1]}} = \\frac{\\partial z_{2}^{[1]}}{\\partial w_{3}^{[1]}}\\times \\frac{\\partial \\text{cost}(a^{[2]})}{\\partial z_{1}^{[1]}} = x_1\\times \\text{relu'}(z_2^{[1]}) \\times w_2^{[2]}\\times (a^{[2]} - y)$$\n",
    "$$\\frac{\\partial\\text{cost}(a^{[2]})}{\\partial w_{4}^{[1]}} = \\frac{\\partial z_{1}^{[1]}}{\\partial w_{4}^{[1]}}\\times \\frac{\\partial \\text{cost}(a^{[2]})}{\\partial z_{1}^{[1]}} = x_2\\times \\text{relu'}(z_1^{[1]}) \\times w_1^{[2]}\\times (a^{[2]} - y)$$ \n",
    "$$\\frac{\\partial\\text{cost}(a^{[2]})}{\\partial b_{2}^{[1]}} = \\frac{\\partial z_{1}^{[1]}}{\\partial b_{2}^{[1]}}\\times \\frac{\\partial \\text{cost}(a^{[2]})}{\\partial z_{1}^{[1]}} = \\text{relu'}(z_1^{[1]}) \\times w_1^{[2]}\\times (a^{[2]} - y)$$ \n",
    "<br>"
   ]
  },
  {
   "cell_type": "markdown",
   "id": "6f41c1db",
   "metadata": {},
   "source": [
    "### No vectorization (just for loop), vanilla gradient descent, and non-modular implementation"
   ]
  },
  {
   "cell_type": "markdown",
   "id": "7782d8bb",
   "metadata": {},
   "source": [
    "This implementation is tailored for learning, hence not for production usage. It is meant to be explicit and not use any vectorization. It is also non-modular, as it can only be of the specified architecture and parameters."
   ]
  },
  {
   "cell_type": "code",
   "execution_count": 208,
   "id": "9564fd14",
   "metadata": {},
   "outputs": [],
   "source": [
    "class NeuralNetwork():\n",
    "    \n",
    "    def initialize(self):\n",
    "        self.w11, self.w12, self.w13, self.w14, self.w21, self.w22, self.b11, self.b12, self.b2 = np.random.randn(9)\n",
    "    \n",
    "    def relu(self, x):\n",
    "        return np.maximum(x, 0)\n",
    "    \n",
    "    def sigmoid(self, x):\n",
    "        return 1/(1+np.exp(-x))\n",
    "    \n",
    "    def binary_cross_entropy(self, x, y_true):\n",
    "        return -(y_true * np.log(x) + (1 - y_true) * np.log(1 - x))\n",
    "    \n",
    "    def derivative_relu(self, x):\n",
    "        return 1 if x>0 else 0\n",
    "    \n",
    "    def forward_prop(self, x1, x2):\n",
    "        forward_dict = {} \n",
    "        \n",
    "        # hidden layer\n",
    "        forward_dict[\"z11\"] = self.w11 * x1 + self.w12 * x2 + self.b11\n",
    "        forward_dict[\"z12\"] = self.w13 * x1 + self.w14 * x2 + self.b12\n",
    "        forward_dict[\"a11\"] = self.relu(forward_dict[\"z11\"])\n",
    "        forward_dict[\"a12\"] = self.relu(forward_dict[\"z12\"])\n",
    "        \n",
    "        # output layer\n",
    "        forward_dict[\"z2\"] = self.w21 * forward_dict[\"a11\"] + self.w22 * forward_dict[\"a12\"] + self.b2\n",
    "        forward_dict[\"a2\"] = self.sigmoid(forward_dict[\"z2\"])\n",
    "        \n",
    "        return forward_dict\n",
    "\n",
    "    def back_prop(self, x1, x2, y_true, forward_dict):\n",
    "        # gradient will be calculated for each training example and averaged later#\n",
    "        \n",
    "        deriva_dict = {}\n",
    "        \n",
    "        # output layer\n",
    "        error = forward_dict[\"a2\"] - y_true\n",
    "        \n",
    "        deriva_dict[\"dloss_dw21\"] = forward_dict[\"a11\"] * error\n",
    "        deriva_dict[\"dloss_dw22\"] = forward_dict[\"a12\"] * error\n",
    "        deriva_dict[\"dloss_db2\"] = error\n",
    "        \n",
    "        # hidden layer\n",
    "        dcost_dz11 = self.derivative_relu(forward_dict[\"z11\"]) * self.w21 * error\n",
    "        dcost_dz12 = self.derivative_relu(forward_dict[\"z12\"]) * self.w22 * error\n",
    "        \n",
    "        deriva_dict[\"dloss_dw11\"] = x1 * dcost_dz11\n",
    "        deriva_dict[\"dloss_dw12\"] = x2 * dcost_dz11\n",
    "        deriva_dict[\"dloss_db11\"] = dcost_dz11\n",
    "        \n",
    "        deriva_dict[\"dloss_dw13\"] = x1 * dcost_dz12\n",
    "        deriva_dict[\"dloss_dw14\"] = x2 * dcost_dz12\n",
    "        deriva_dict[\"dloss_db12\"] = dcost_dz12\n",
    "        \n",
    "        return deriva_dict\n",
    "    \n",
    "    def get_prob_class(self, x1, x2):\n",
    "        prob = self.forward_prop(x1, x2)[\"a2\"]\n",
    "        class_ = self.encode_class(prob)\n",
    "        return prob, class_\n",
    "    \n",
    "    def encode_class(self, x):\n",
    "        return 1 if x>0.5 else 0\n",
    "    \n",
    "    def get_accuracy_cost(self, X, y):\n",
    "        n = X.shape[0]\n",
    "        n_correct = 0\n",
    "        cost = 0\n",
    "        for i in range(n):\n",
    "            x1, x2 = X[i]\n",
    "            prediction = self.get_prob_class(x1, x2)\n",
    "            if prediction[1] == y[i][0]:\n",
    "                n_correct += 1\n",
    "            cost += self.binary_cross_entropy(prediction[0], y[i][0])\n",
    "        return n_correct/n, cost/n\n",
    "\n",
    "    def fit(self, X, y, alpha, epochs):\n",
    "        n, m = X.shape\n",
    "        \n",
    "        self.initialize()\n",
    "        costs = []\n",
    "\n",
    "        for i in range(1, epochs+1):\n",
    "            dcost_dw21 = 0\n",
    "            dcost_dw22 = 0\n",
    "            dcost_db2 = 0\n",
    "            dcost_dw11 = 0\n",
    "            dcost_dw12 = 0\n",
    "            dcost_db11 = 0\n",
    "            dcost_dw13 = 0\n",
    "            dcost_dw14 = 0\n",
    "            dcost_db12 = 0\n",
    "            \n",
    "            for j in range(n):\n",
    "                x1 , x2 = X[j]\n",
    "                y_true = y[j][0]\n",
    "                forward_prop = self.forward_prop(x1, x2)\n",
    "                back_prop = self.back_prop(x1, x2, y_true, forward_prop)\n",
    "                \n",
    "                dcost_dw21 += back_prop[\"dloss_dw21\"]\n",
    "                dcost_dw22 += back_prop[\"dloss_dw22\"]\n",
    "                dcost_db2 += back_prop[\"dloss_db2\"]\n",
    "                dcost_dw11 += back_prop[\"dloss_dw11\"]\n",
    "                dcost_dw12 += back_prop[\"dloss_dw12\"]\n",
    "                dcost_db11 += back_prop[\"dloss_db11\"]\n",
    "                dcost_dw13 += back_prop[\"dloss_dw13\"]\n",
    "                dcost_dw14 += back_prop[\"dloss_dw14\"]\n",
    "                dcost_db12 += back_prop[\"dloss_db12\"]\n",
    "                    \n",
    "            self.w21 -= alpha*(1/n)*dcost_dw21 \n",
    "            self.w22 -= alpha*(1/n)*dcost_dw22 \n",
    "            self.b2  -= alpha*(1/n)*dcost_db2\n",
    "            self.w11 -= alpha*(1/n)*dcost_dw11 \n",
    "            self.w12 -= alpha*(1/n)*dcost_dw12 \n",
    "            self.b11 -= alpha*(1/n)*dcost_db11\n",
    "            self.w13 -= alpha*(1/n)*dcost_dw13\n",
    "            self.w14 -= alpha*(1/n)*dcost_dw14\n",
    "            self.b12 -= alpha*(1/n)*dcost_db12\n",
    "            \n",
    "            accuracy, cost = self.get_accuracy_cost(X, y)\n",
    "            costs.append(cost)\n",
    "            \n",
    "            print(f\"epoch: {i}, cost: {cost:.4f}, accuracy: {accuracy*100:.2f}%\")"
   ]
  },
  {
   "cell_type": "markdown",
   "id": "17d3e8e3",
   "metadata": {},
   "source": [
    "### Training"
   ]
  },
  {
   "cell_type": "code",
   "execution_count": 245,
   "id": "e3e3aaaf",
   "metadata": {
    "scrolled": true
   },
   "outputs": [
    {
     "name": "stdout",
     "output_type": "stream",
     "text": [
      "epoch: 1, cost: 0.8378, accuracy: 61.76%\n",
      "epoch: 2, cost: 0.8057, accuracy: 61.76%\n",
      "epoch: 3, cost: 0.7775, accuracy: 61.76%\n",
      "epoch: 4, cost: 0.7525, accuracy: 61.76%\n",
      "epoch: 5, cost: 0.7306, accuracy: 61.76%\n",
      "epoch: 6, cost: 0.7115, accuracy: 62.20%\n",
      "epoch: 7, cost: 0.6950, accuracy: 62.20%\n",
      "epoch: 8, cost: 0.6807, accuracy: 62.20%\n",
      "epoch: 9, cost: 0.6684, accuracy: 62.42%\n",
      "epoch: 10, cost: 0.6578, accuracy: 63.08%\n",
      "epoch: 11, cost: 0.6485, accuracy: 63.74%\n",
      "epoch: 12, cost: 0.6405, accuracy: 63.74%\n",
      "epoch: 13, cost: 0.6332, accuracy: 63.96%\n",
      "epoch: 14, cost: 0.6268, accuracy: 63.52%\n",
      "epoch: 15, cost: 0.6211, accuracy: 63.74%\n",
      "epoch: 16, cost: 0.6160, accuracy: 63.96%\n",
      "epoch: 17, cost: 0.6113, accuracy: 63.74%\n",
      "epoch: 18, cost: 0.6071, accuracy: 63.52%\n",
      "epoch: 19, cost: 0.6031, accuracy: 63.30%\n",
      "epoch: 20, cost: 0.5993, accuracy: 64.40%\n",
      "epoch: 21, cost: 0.5957, accuracy: 64.62%\n",
      "epoch: 22, cost: 0.5924, accuracy: 65.05%\n",
      "epoch: 23, cost: 0.5892, accuracy: 65.49%\n",
      "epoch: 24, cost: 0.5858, accuracy: 65.93%\n",
      "epoch: 25, cost: 0.5826, accuracy: 66.15%\n",
      "epoch: 26, cost: 0.5793, accuracy: 67.03%\n",
      "epoch: 27, cost: 0.5762, accuracy: 67.69%\n",
      "epoch: 28, cost: 0.5732, accuracy: 67.47%\n",
      "epoch: 29, cost: 0.5702, accuracy: 68.35%\n",
      "epoch: 30, cost: 0.5673, accuracy: 68.57%\n",
      "epoch: 31, cost: 0.5644, accuracy: 68.79%\n",
      "epoch: 32, cost: 0.5615, accuracy: 69.45%\n",
      "epoch: 33, cost: 0.5586, accuracy: 69.89%\n",
      "epoch: 34, cost: 0.5556, accuracy: 70.33%\n",
      "epoch: 35, cost: 0.5527, accuracy: 70.99%\n",
      "epoch: 36, cost: 0.5498, accuracy: 71.21%\n",
      "epoch: 37, cost: 0.5469, accuracy: 72.31%\n",
      "epoch: 38, cost: 0.5441, accuracy: 72.09%\n",
      "epoch: 39, cost: 0.5412, accuracy: 72.97%\n",
      "epoch: 40, cost: 0.5384, accuracy: 73.19%\n",
      "epoch: 41, cost: 0.5358, accuracy: 73.19%\n",
      "epoch: 42, cost: 0.5332, accuracy: 73.41%\n",
      "epoch: 43, cost: 0.5306, accuracy: 73.63%\n",
      "epoch: 44, cost: 0.5280, accuracy: 74.07%\n",
      "epoch: 45, cost: 0.5255, accuracy: 74.07%\n",
      "epoch: 46, cost: 0.5230, accuracy: 74.51%\n",
      "epoch: 47, cost: 0.5205, accuracy: 74.51%\n",
      "epoch: 48, cost: 0.5180, accuracy: 75.16%\n",
      "epoch: 49, cost: 0.5155, accuracy: 75.60%\n",
      "epoch: 50, cost: 0.5130, accuracy: 75.60%\n",
      "epoch: 51, cost: 0.5105, accuracy: 75.82%\n",
      "epoch: 52, cost: 0.5082, accuracy: 76.04%\n",
      "epoch: 53, cost: 0.5058, accuracy: 76.26%\n",
      "epoch: 54, cost: 0.5036, accuracy: 76.48%\n",
      "epoch: 55, cost: 0.5013, accuracy: 76.70%\n",
      "epoch: 56, cost: 0.4990, accuracy: 76.92%\n",
      "epoch: 57, cost: 0.4966, accuracy: 76.92%\n",
      "epoch: 58, cost: 0.4942, accuracy: 76.92%\n",
      "epoch: 59, cost: 0.4918, accuracy: 76.92%\n",
      "epoch: 60, cost: 0.4894, accuracy: 77.36%\n",
      "epoch: 61, cost: 0.4870, accuracy: 78.02%\n",
      "epoch: 62, cost: 0.4846, accuracy: 78.24%\n",
      "epoch: 63, cost: 0.4821, accuracy: 78.24%\n",
      "epoch: 64, cost: 0.4795, accuracy: 78.46%\n",
      "epoch: 65, cost: 0.4770, accuracy: 79.12%\n",
      "epoch: 66, cost: 0.4745, accuracy: 79.12%\n",
      "epoch: 67, cost: 0.4721, accuracy: 79.12%\n",
      "epoch: 68, cost: 0.4697, accuracy: 79.12%\n",
      "epoch: 69, cost: 0.4674, accuracy: 79.34%\n",
      "epoch: 70, cost: 0.4651, accuracy: 79.34%\n",
      "epoch: 71, cost: 0.4629, accuracy: 79.34%\n",
      "epoch: 72, cost: 0.4606, accuracy: 79.56%\n",
      "epoch: 73, cost: 0.4584, accuracy: 79.78%\n",
      "epoch: 74, cost: 0.4562, accuracy: 80.00%\n",
      "epoch: 75, cost: 0.4541, accuracy: 80.22%\n",
      "epoch: 76, cost: 0.4519, accuracy: 80.22%\n",
      "epoch: 77, cost: 0.4497, accuracy: 80.44%\n",
      "epoch: 78, cost: 0.4476, accuracy: 80.66%\n",
      "epoch: 79, cost: 0.4453, accuracy: 80.66%\n",
      "epoch: 80, cost: 0.4430, accuracy: 80.66%\n",
      "epoch: 81, cost: 0.4408, accuracy: 80.88%\n",
      "epoch: 82, cost: 0.4386, accuracy: 80.88%\n",
      "epoch: 83, cost: 0.4364, accuracy: 80.88%\n",
      "epoch: 84, cost: 0.4344, accuracy: 80.66%\n",
      "epoch: 85, cost: 0.4324, accuracy: 80.66%\n",
      "epoch: 86, cost: 0.4304, accuracy: 80.88%\n",
      "epoch: 87, cost: 0.4285, accuracy: 81.10%\n",
      "epoch: 88, cost: 0.4266, accuracy: 81.32%\n",
      "epoch: 89, cost: 0.4247, accuracy: 81.76%\n",
      "epoch: 90, cost: 0.4228, accuracy: 82.20%\n",
      "epoch: 91, cost: 0.4210, accuracy: 82.20%\n",
      "epoch: 92, cost: 0.4193, accuracy: 82.20%\n",
      "epoch: 93, cost: 0.4175, accuracy: 82.20%\n",
      "epoch: 94, cost: 0.4158, accuracy: 82.42%\n",
      "epoch: 95, cost: 0.4141, accuracy: 82.42%\n",
      "epoch: 96, cost: 0.4124, accuracy: 82.20%\n",
      "epoch: 97, cost: 0.4107, accuracy: 81.98%\n",
      "epoch: 98, cost: 0.4090, accuracy: 81.98%\n",
      "epoch: 99, cost: 0.4074, accuracy: 82.20%\n",
      "epoch: 100, cost: 0.4058, accuracy: 82.20%\n",
      "epoch: 101, cost: 0.4043, accuracy: 82.20%\n",
      "epoch: 102, cost: 0.4027, accuracy: 82.20%\n",
      "epoch: 103, cost: 0.4012, accuracy: 82.42%\n",
      "epoch: 104, cost: 0.3997, accuracy: 82.42%\n",
      "epoch: 105, cost: 0.3982, accuracy: 82.42%\n",
      "epoch: 106, cost: 0.3967, accuracy: 82.42%\n",
      "epoch: 107, cost: 0.3953, accuracy: 82.42%\n",
      "epoch: 108, cost: 0.3938, accuracy: 82.64%\n",
      "epoch: 109, cost: 0.3924, accuracy: 82.64%\n",
      "epoch: 110, cost: 0.3910, accuracy: 82.64%\n",
      "epoch: 111, cost: 0.3896, accuracy: 82.86%\n",
      "epoch: 112, cost: 0.3883, accuracy: 83.08%\n",
      "epoch: 113, cost: 0.3869, accuracy: 83.30%\n",
      "epoch: 114, cost: 0.3855, accuracy: 83.30%\n",
      "epoch: 115, cost: 0.3841, accuracy: 83.30%\n",
      "epoch: 116, cost: 0.3828, accuracy: 83.30%\n",
      "epoch: 117, cost: 0.3814, accuracy: 83.30%\n",
      "epoch: 118, cost: 0.3800, accuracy: 83.30%\n",
      "epoch: 119, cost: 0.3787, accuracy: 83.74%\n",
      "epoch: 120, cost: 0.3773, accuracy: 83.74%\n",
      "epoch: 121, cost: 0.3760, accuracy: 83.74%\n",
      "epoch: 122, cost: 0.3747, accuracy: 83.96%\n",
      "epoch: 123, cost: 0.3735, accuracy: 84.18%\n",
      "epoch: 124, cost: 0.3723, accuracy: 84.40%\n",
      "epoch: 125, cost: 0.3711, accuracy: 84.40%\n",
      "epoch: 126, cost: 0.3699, accuracy: 84.40%\n",
      "epoch: 127, cost: 0.3688, accuracy: 84.40%\n",
      "epoch: 128, cost: 0.3676, accuracy: 84.62%\n",
      "epoch: 129, cost: 0.3665, accuracy: 84.84%\n",
      "epoch: 130, cost: 0.3654, accuracy: 84.84%\n",
      "epoch: 131, cost: 0.3643, accuracy: 84.84%\n",
      "epoch: 132, cost: 0.3632, accuracy: 84.84%\n",
      "epoch: 133, cost: 0.3621, accuracy: 84.62%\n",
      "epoch: 134, cost: 0.3610, accuracy: 84.62%\n",
      "epoch: 135, cost: 0.3599, accuracy: 84.40%\n",
      "epoch: 136, cost: 0.3589, accuracy: 84.40%\n",
      "epoch: 137, cost: 0.3578, accuracy: 84.84%\n",
      "epoch: 138, cost: 0.3568, accuracy: 85.05%\n",
      "epoch: 139, cost: 0.3557, accuracy: 85.05%\n",
      "epoch: 140, cost: 0.3546, accuracy: 85.27%\n",
      "epoch: 141, cost: 0.3536, accuracy: 85.27%\n",
      "epoch: 142, cost: 0.3525, accuracy: 85.05%\n",
      "epoch: 143, cost: 0.3515, accuracy: 85.05%\n",
      "epoch: 144, cost: 0.3505, accuracy: 85.27%\n",
      "epoch: 145, cost: 0.3496, accuracy: 85.27%\n",
      "epoch: 146, cost: 0.3486, accuracy: 85.27%\n",
      "epoch: 147, cost: 0.3476, accuracy: 85.27%\n",
      "epoch: 148, cost: 0.3467, accuracy: 85.49%\n",
      "epoch: 149, cost: 0.3458, accuracy: 85.49%\n",
      "epoch: 150, cost: 0.3449, accuracy: 85.49%\n",
      "epoch: 151, cost: 0.3440, accuracy: 85.49%\n",
      "epoch: 152, cost: 0.3431, accuracy: 85.49%\n",
      "epoch: 153, cost: 0.3423, accuracy: 85.49%\n",
      "epoch: 154, cost: 0.3414, accuracy: 85.49%\n",
      "epoch: 155, cost: 0.3406, accuracy: 85.49%\n",
      "epoch: 156, cost: 0.3397, accuracy: 85.49%\n",
      "epoch: 157, cost: 0.3389, accuracy: 85.71%\n",
      "epoch: 158, cost: 0.3381, accuracy: 85.93%\n",
      "epoch: 159, cost: 0.3374, accuracy: 85.93%\n",
      "epoch: 160, cost: 0.3366, accuracy: 85.71%\n",
      "epoch: 161, cost: 0.3358, accuracy: 85.71%\n",
      "epoch: 162, cost: 0.3350, accuracy: 85.93%\n",
      "epoch: 163, cost: 0.3342, accuracy: 85.93%\n",
      "epoch: 164, cost: 0.3334, accuracy: 85.93%\n",
      "epoch: 165, cost: 0.3327, accuracy: 86.15%\n",
      "epoch: 166, cost: 0.3319, accuracy: 86.37%\n",
      "epoch: 167, cost: 0.3312, accuracy: 86.37%\n",
      "epoch: 168, cost: 0.3305, accuracy: 86.15%\n",
      "epoch: 169, cost: 0.3298, accuracy: 86.15%\n",
      "epoch: 170, cost: 0.3291, accuracy: 85.93%\n",
      "epoch: 171, cost: 0.3284, accuracy: 85.93%\n",
      "epoch: 172, cost: 0.3277, accuracy: 85.93%\n",
      "epoch: 173, cost: 0.3271, accuracy: 85.93%\n",
      "epoch: 174, cost: 0.3264, accuracy: 85.93%\n",
      "epoch: 175, cost: 0.3257, accuracy: 85.71%\n",
      "epoch: 176, cost: 0.3251, accuracy: 85.71%\n",
      "epoch: 177, cost: 0.3245, accuracy: 85.71%\n",
      "epoch: 178, cost: 0.3238, accuracy: 85.93%\n",
      "epoch: 179, cost: 0.3232, accuracy: 85.93%\n",
      "epoch: 180, cost: 0.3225, accuracy: 85.93%\n",
      "epoch: 181, cost: 0.3219, accuracy: 85.93%\n",
      "epoch: 182, cost: 0.3213, accuracy: 86.15%\n",
      "epoch: 183, cost: 0.3207, accuracy: 86.15%\n",
      "epoch: 184, cost: 0.3201, accuracy: 86.15%\n",
      "epoch: 185, cost: 0.3195, accuracy: 86.15%\n",
      "epoch: 186, cost: 0.3189, accuracy: 86.15%\n",
      "epoch: 187, cost: 0.3184, accuracy: 86.37%\n",
      "epoch: 188, cost: 0.3178, accuracy: 86.59%\n",
      "epoch: 189, cost: 0.3172, accuracy: 86.59%\n",
      "epoch: 190, cost: 0.3167, accuracy: 86.59%\n",
      "epoch: 191, cost: 0.3162, accuracy: 86.59%\n",
      "epoch: 192, cost: 0.3157, accuracy: 86.59%\n",
      "epoch: 193, cost: 0.3151, accuracy: 86.81%\n",
      "epoch: 194, cost: 0.3146, accuracy: 86.81%\n",
      "epoch: 195, cost: 0.3141, accuracy: 87.03%\n",
      "epoch: 196, cost: 0.3136, accuracy: 87.25%\n",
      "epoch: 197, cost: 0.3132, accuracy: 87.47%\n",
      "epoch: 198, cost: 0.3127, accuracy: 87.47%\n"
     ]
    },
    {
     "name": "stdout",
     "output_type": "stream",
     "text": [
      "epoch: 199, cost: 0.3122, accuracy: 87.47%\n",
      "epoch: 200, cost: 0.3117, accuracy: 87.47%\n"
     ]
    }
   ],
   "source": [
    "classifier = NeuralNetwork()\n",
    "classifier.fit(X_train, y_train, 0.1, 200)"
   ]
  },
  {
   "cell_type": "markdown",
   "id": "598580c2",
   "metadata": {},
   "source": [
    "### Evaluation"
   ]
  },
  {
   "cell_type": "code",
   "execution_count": 246,
   "id": "c8a6dd82",
   "metadata": {
    "scrolled": true
   },
   "outputs": [
    {
     "data": {
      "text/plain": [
       "(0.9035087719298246, 0.2630215709733145)"
      ]
     },
     "execution_count": 246,
     "metadata": {},
     "output_type": "execute_result"
    }
   ],
   "source": [
    "classifier.get_accuracy_cost(X_test, y_test)"
   ]
  },
  {
   "cell_type": "markdown",
   "id": "5fe28c3c",
   "metadata": {},
   "source": [
    "## Vanilla gradient descent vs mini batch gradient descent"
   ]
  },
  {
   "cell_type": "markdown",
   "id": "32c0b02f",
   "metadata": {},
   "source": [
    "#### The following is the same neural network with the same architecture but with mini batch gradient descent instead of vanilla gradient descent"
   ]
  },
  {
   "cell_type": "code",
   "execution_count": 228,
   "id": "65243079",
   "metadata": {},
   "outputs": [],
   "source": [
    "class NeuralNetwork_batch():\n",
    "    \n",
    "    def initialize(self):\n",
    "        self.w11, self.w12, self.w13, self.w14, self.w21, self.w22, self.b11, self.b12, self.b2 = np.random.randn(9)\n",
    "    \n",
    "    def relu(self, x):\n",
    "        return np.maximum(x, 0)\n",
    "    \n",
    "    def sigmoid(self, x):\n",
    "        return 1/(1+np.exp(-x))\n",
    "    \n",
    "    def binary_cross_entropy(self, x, y_true):\n",
    "        return -(y_true * np.log(x) + (1 - y_true) * np.log(1 - x))\n",
    "    \n",
    "    def derivative_relu(self, x):\n",
    "        return 1 if x>0 else 0\n",
    "    \n",
    "    def forward_prop(self, x1, x2):\n",
    "        forward_dict = {} \n",
    "        \n",
    "        # hidden layer\n",
    "        forward_dict[\"z11\"] = self.w11 * x1 + self.w12 * x2 + self.b11\n",
    "        forward_dict[\"z12\"] = self.w13 * x1 + self.w14 * x2 + self.b12\n",
    "        forward_dict[\"a11\"] = self.relu(forward_dict[\"z11\"])\n",
    "        forward_dict[\"a12\"] = self.relu(forward_dict[\"z12\"])\n",
    "        \n",
    "        # output layer\n",
    "        forward_dict[\"z2\"] = self.w21 * forward_dict[\"a11\"] + self.w22 * forward_dict[\"a12\"] + self.b2\n",
    "        forward_dict[\"a2\"] = self.sigmoid(forward_dict[\"z2\"])\n",
    "        \n",
    "        return forward_dict\n",
    "\n",
    "    def back_prop(self, x1, x2, y_true, forward_dict):\n",
    "        # gradient will be calculated for each training example and averaged later#\n",
    "        \n",
    "        deriva_dict = {}\n",
    "        \n",
    "        # output layer\n",
    "        error = forward_dict[\"a2\"] - y_true\n",
    "        \n",
    "        deriva_dict[\"dloss_dw21\"] = forward_dict[\"a11\"] * error\n",
    "        deriva_dict[\"dloss_dw22\"] = forward_dict[\"a12\"] * error\n",
    "        deriva_dict[\"dloss_db2\"] = error\n",
    "        \n",
    "        # hidden layer\n",
    "        dcost_dz11 = self.derivative_relu(forward_dict[\"z11\"]) * self.w21 * error\n",
    "        dcost_dz12 = self.derivative_relu(forward_dict[\"z12\"]) * self.w22 * error\n",
    "        \n",
    "        deriva_dict[\"dloss_dw11\"] = x1 * dcost_dz11\n",
    "        deriva_dict[\"dloss_dw12\"] = x2 * dcost_dz11\n",
    "        deriva_dict[\"dloss_db11\"] = dcost_dz11\n",
    "        \n",
    "        deriva_dict[\"dloss_dw13\"] = x1 * dcost_dz12\n",
    "        deriva_dict[\"dloss_dw14\"] = x2 * dcost_dz12\n",
    "        deriva_dict[\"dloss_db12\"] = dcost_dz12\n",
    "        \n",
    "        return deriva_dict\n",
    "    \n",
    "    def get_prob_class(self, x1, x2):\n",
    "        prob = self.forward_prop(x1, x2)[\"a2\"]\n",
    "        class_ = self.encode_class(prob)\n",
    "        return prob, class_\n",
    "    \n",
    "    def encode_class(self, x):\n",
    "        return 1 if x>0.5 else 0\n",
    "    \n",
    "    def get_accuracy_cost(self, X, y):\n",
    "        n = X.shape[0]\n",
    "        n_correct = 0\n",
    "        cost_total = 0\n",
    "        for i in range(n):\n",
    "            x1, x2 = X[i]\n",
    "            prediction = self.get_prob_class(x1, x2)\n",
    "            if prediction[1] == y[i][0]:\n",
    "                n_correct += 1\n",
    "            cost_total += self.binary_cross_entropy(prediction[0], y[i][0])\n",
    "        return n_correct/n, cost_total/n\n",
    "\n",
    "    def fit(self, X, y, alpha, epochs, batch_size=32):\n",
    "        n, m = X.shape\n",
    "        combined = np.hstack([X, y])\n",
    "        self.initialize()\n",
    "        n_iter_batch = np.ceil(n/batch_size)  # Number of training iteration for one epoch\n",
    "        \n",
    "\n",
    "        for i in range(1, epochs+1):\n",
    "            dcost_dw21 = 0\n",
    "            dcost_dw22 = 0\n",
    "            dcost_db2 = 0\n",
    "            dcost_dw11 = 0\n",
    "            dcost_dw12 = 0\n",
    "            dcost_db11 = 0\n",
    "            dcost_dw13 = 0\n",
    "            dcost_dw14 = 0\n",
    "            dcost_db12 = 0\n",
    "            \n",
    "            #Shuffled the dataset before splitting\n",
    "            combined_shuffled = np.random.permutation(combined)\n",
    "            X_shuffled = combined_shuffled[:, 0:-1]\n",
    "            y_shuffled = combined_shuffled[:, -1].reshape(-1, 1)\n",
    "            \n",
    "            costs_batch = 0\n",
    "            accuracies_batch = 0\n",
    "            for k in tqdm(range(0, n, batch_size), position=0):\n",
    "                X_batch = X_shuffled[k: k+batch_size]\n",
    "                y_batch = y_shuffled[k: k+batch_size]\n",
    "                n_batch = X_batch.shape[0]\n",
    "            \n",
    "                for j in range(n_batch):\n",
    "                    x1 , x2 = X_batch[j]\n",
    "                    y_true = y_batch[j][0]\n",
    "                    forward_prop = self.forward_prop(x1, x2)\n",
    "                    back_prop = self.back_prop(x1, x2, y_true, forward_prop)\n",
    "\n",
    "                    dcost_dw21 += back_prop[\"dloss_dw21\"]\n",
    "                    dcost_dw22 += back_prop[\"dloss_dw22\"]\n",
    "                    dcost_db2 += back_prop[\"dloss_db2\"]\n",
    "                    dcost_dw11 += back_prop[\"dloss_dw11\"]\n",
    "                    dcost_dw12 += back_prop[\"dloss_dw12\"]\n",
    "                    dcost_db11 += back_prop[\"dloss_db11\"]\n",
    "                    dcost_dw13 += back_prop[\"dloss_dw13\"]\n",
    "                    dcost_dw14 += back_prop[\"dloss_dw14\"]\n",
    "                    dcost_db12 += back_prop[\"dloss_db12\"]\n",
    "\n",
    "                self.w21 -= alpha*(1/n)*dcost_dw21 \n",
    "                self.w22 -= alpha*(1/n)*dcost_dw22 \n",
    "                self.b2  -= alpha*(1/n)*dcost_db2\n",
    "                self.w11 -= alpha*(1/n)*dcost_dw11 \n",
    "                self.w12 -= alpha*(1/n)*dcost_dw12 \n",
    "                self.b11 -= alpha*(1/n)*dcost_db11\n",
    "                self.w13 -= alpha*(1/n)*dcost_dw13\n",
    "                self.w14 -= alpha*(1/n)*dcost_dw14\n",
    "                self.b12 -= alpha*(1/n)*dcost_db12\n",
    "\n",
    "                accuracy, cost = self.get_accuracy_cost(X_batch, y_batch)\n",
    "                costs_batch += cost\n",
    "                accuracies_batch += accuracy\n",
    "            \n",
    "            # Reported cost and accuracy are averaged across the mini batch\n",
    "            # of a given epoch\n",
    "            epoch_cost = costs_batch/n_iter_batch\n",
    "            epoch_accuracy = accuracies_batch/n_iter_batch\n",
    "            print(f\"epoch: {i}, cost: {epoch_cost:.4f}, accuracy: {epoch_accuracy:.2f}%\")"
   ]
  },
  {
   "cell_type": "markdown",
   "id": "672481ba",
   "metadata": {},
   "source": [
    "### Training using small epoch (30)"
   ]
  },
  {
   "cell_type": "markdown",
   "id": "1dc64ef6",
   "metadata": {},
   "source": [
    "#### With mini batch"
   ]
  },
  {
   "cell_type": "code",
   "execution_count": 224,
   "id": "3d365253",
   "metadata": {},
   "outputs": [
    {
     "name": "stderr",
     "output_type": "stream",
     "text": [
      "100%|█████████████████████████████████████████████████████████████████████████████████| 15/15 [00:00<00:00, 384.60it/s]\n"
     ]
    },
    {
     "name": "stdout",
     "output_type": "stream",
     "text": [
      "epoch: 1, cost: 0.4840, accuracy: 0.85%\n"
     ]
    },
    {
     "name": "stderr",
     "output_type": "stream",
     "text": [
      "100%|█████████████████████████████████████████████████████████████████████████████████| 15/15 [00:00<00:00, 454.54it/s]\n"
     ]
    },
    {
     "name": "stdout",
     "output_type": "stream",
     "text": [
      "epoch: 2, cost: 0.4344, accuracy: 0.87%\n"
     ]
    },
    {
     "name": "stderr",
     "output_type": "stream",
     "text": [
      "100%|█████████████████████████████████████████████████████████████████████████████████| 15/15 [00:00<00:00, 283.02it/s]\n"
     ]
    },
    {
     "name": "stdout",
     "output_type": "stream",
     "text": [
      "epoch: 3, cost: 0.4079, accuracy: 0.88%\n"
     ]
    },
    {
     "name": "stderr",
     "output_type": "stream",
     "text": [
      "100%|█████████████████████████████████████████████████████████████████████████████████| 15/15 [00:00<00:00, 348.84it/s]\n"
     ]
    },
    {
     "name": "stdout",
     "output_type": "stream",
     "text": [
      "epoch: 4, cost: 0.3934, accuracy: 0.88%\n"
     ]
    },
    {
     "name": "stderr",
     "output_type": "stream",
     "text": [
      "100%|█████████████████████████████████████████████████████████████████████████████████| 15/15 [00:00<00:00, 365.85it/s]\n"
     ]
    },
    {
     "name": "stdout",
     "output_type": "stream",
     "text": [
      "epoch: 5, cost: 0.3846, accuracy: 0.88%\n"
     ]
    },
    {
     "name": "stderr",
     "output_type": "stream",
     "text": [
      "100%|█████████████████████████████████████████████████████████████████████████████████| 15/15 [00:00<00:00, 382.42it/s]\n"
     ]
    },
    {
     "name": "stdout",
     "output_type": "stream",
     "text": [
      "epoch: 6, cost: 0.3639, accuracy: 0.89%\n"
     ]
    },
    {
     "name": "stderr",
     "output_type": "stream",
     "text": [
      "100%|█████████████████████████████████████████████████████████████████████████████████| 15/15 [00:00<00:00, 357.14it/s]\n"
     ]
    },
    {
     "name": "stdout",
     "output_type": "stream",
     "text": [
      "epoch: 7, cost: 0.3647, accuracy: 0.88%\n"
     ]
    },
    {
     "name": "stderr",
     "output_type": "stream",
     "text": [
      "100%|█████████████████████████████████████████████████████████████████████████████████| 15/15 [00:00<00:00, 288.46it/s]\n"
     ]
    },
    {
     "name": "stdout",
     "output_type": "stream",
     "text": [
      "epoch: 8, cost: 0.3415, accuracy: 0.90%\n"
     ]
    },
    {
     "name": "stderr",
     "output_type": "stream",
     "text": [
      "100%|█████████████████████████████████████████████████████████████████████████████████| 15/15 [00:00<00:00, 348.83it/s]\n"
     ]
    },
    {
     "name": "stdout",
     "output_type": "stream",
     "text": [
      "epoch: 9, cost: 0.3344, accuracy: 0.90%\n"
     ]
    },
    {
     "name": "stderr",
     "output_type": "stream",
     "text": [
      "100%|█████████████████████████████████████████████████████████████████████████████████| 15/15 [00:00<00:00, 405.40it/s]\n"
     ]
    },
    {
     "name": "stdout",
     "output_type": "stream",
     "text": [
      "epoch: 10, cost: 0.3290, accuracy: 0.90%\n"
     ]
    },
    {
     "name": "stderr",
     "output_type": "stream",
     "text": [
      "100%|█████████████████████████████████████████████████████████████████████████████████| 15/15 [00:00<00:00, 428.57it/s]\n"
     ]
    },
    {
     "name": "stdout",
     "output_type": "stream",
     "text": [
      "epoch: 11, cost: 0.3228, accuracy: 0.90%\n"
     ]
    },
    {
     "name": "stderr",
     "output_type": "stream",
     "text": [
      "100%|█████████████████████████████████████████████████████████████████████████████████| 15/15 [00:00<00:00, 348.82it/s]\n"
     ]
    },
    {
     "name": "stdout",
     "output_type": "stream",
     "text": [
      "epoch: 12, cost: 0.3140, accuracy: 0.90%\n"
     ]
    },
    {
     "name": "stderr",
     "output_type": "stream",
     "text": [
      "100%|█████████████████████████████████████████████████████████████████████████████████| 15/15 [00:00<00:00, 250.00it/s]\n"
     ]
    },
    {
     "name": "stdout",
     "output_type": "stream",
     "text": [
      "epoch: 13, cost: 0.3157, accuracy: 0.89%\n"
     ]
    },
    {
     "name": "stderr",
     "output_type": "stream",
     "text": [
      "100%|█████████████████████████████████████████████████████████████████████████████████| 15/15 [00:00<00:00, 340.91it/s]\n"
     ]
    },
    {
     "name": "stdout",
     "output_type": "stream",
     "text": [
      "epoch: 14, cost: 0.3107, accuracy: 0.89%\n"
     ]
    },
    {
     "name": "stderr",
     "output_type": "stream",
     "text": [
      "100%|█████████████████████████████████████████████████████████████████████████████████| 15/15 [00:00<00:00, 365.85it/s]\n"
     ]
    },
    {
     "name": "stdout",
     "output_type": "stream",
     "text": [
      "epoch: 15, cost: 0.3099, accuracy: 0.88%\n"
     ]
    },
    {
     "name": "stderr",
     "output_type": "stream",
     "text": [
      "100%|█████████████████████████████████████████████████████████████████████████████████| 15/15 [00:00<00:00, 340.91it/s]\n"
     ]
    },
    {
     "name": "stdout",
     "output_type": "stream",
     "text": [
      "epoch: 16, cost: 0.3113, accuracy: 0.88%\n"
     ]
    },
    {
     "name": "stderr",
     "output_type": "stream",
     "text": [
      "100%|█████████████████████████████████████████████████████████████████████████████████| 15/15 [00:00<00:00, 288.46it/s]\n"
     ]
    },
    {
     "name": "stdout",
     "output_type": "stream",
     "text": [
      "epoch: 17, cost: 0.3011, accuracy: 0.89%\n"
     ]
    },
    {
     "name": "stderr",
     "output_type": "stream",
     "text": [
      "100%|█████████████████████████████████████████████████████████████████████████████████| 15/15 [00:00<00:00, 197.37it/s]\n"
     ]
    },
    {
     "name": "stdout",
     "output_type": "stream",
     "text": [
      "epoch: 18, cost: 0.3085, accuracy: 0.88%\n"
     ]
    },
    {
     "name": "stderr",
     "output_type": "stream",
     "text": [
      "100%|█████████████████████████████████████████████████████████████████████████████████| 15/15 [00:00<00:00, 348.85it/s]\n"
     ]
    },
    {
     "name": "stdout",
     "output_type": "stream",
     "text": [
      "epoch: 19, cost: 0.3044, accuracy: 0.88%\n"
     ]
    },
    {
     "name": "stderr",
     "output_type": "stream",
     "text": [
      "100%|█████████████████████████████████████████████████████████████████████████████████| 15/15 [00:00<00:00, 357.14it/s]\n"
     ]
    },
    {
     "name": "stdout",
     "output_type": "stream",
     "text": [
      "epoch: 20, cost: 0.3080, accuracy: 0.88%\n"
     ]
    },
    {
     "name": "stderr",
     "output_type": "stream",
     "text": [
      "100%|█████████████████████████████████████████████████████████████████████████████████| 15/15 [00:00<00:00, 348.83it/s]\n"
     ]
    },
    {
     "name": "stdout",
     "output_type": "stream",
     "text": [
      "epoch: 21, cost: 0.2915, accuracy: 0.89%\n"
     ]
    },
    {
     "name": "stderr",
     "output_type": "stream",
     "text": [
      "100%|█████████████████████████████████████████████████████████████████████████████████| 15/15 [00:00<00:00, 241.94it/s]\n"
     ]
    },
    {
     "name": "stdout",
     "output_type": "stream",
     "text": [
      "epoch: 22, cost: 0.3064, accuracy: 0.88%\n"
     ]
    },
    {
     "name": "stderr",
     "output_type": "stream",
     "text": [
      "100%|█████████████████████████████████████████████████████████████████████████████████| 15/15 [00:00<00:00, 132.74it/s]\n"
     ]
    },
    {
     "name": "stdout",
     "output_type": "stream",
     "text": [
      "epoch: 23, cost: 0.2956, accuracy: 0.88%\n"
     ]
    },
    {
     "name": "stderr",
     "output_type": "stream",
     "text": [
      "100%|█████████████████████████████████████████████████████████████████████████████████| 15/15 [00:00<00:00, 319.15it/s]\n"
     ]
    },
    {
     "name": "stdout",
     "output_type": "stream",
     "text": [
      "epoch: 24, cost: 0.2895, accuracy: 0.89%\n"
     ]
    },
    {
     "name": "stderr",
     "output_type": "stream",
     "text": [
      "100%|█████████████████████████████████████████████████████████████████████████████████| 15/15 [00:00<00:00, 245.90it/s]\n"
     ]
    },
    {
     "name": "stdout",
     "output_type": "stream",
     "text": [
      "epoch: 25, cost: 0.2842, accuracy: 0.89%\n"
     ]
    },
    {
     "name": "stderr",
     "output_type": "stream",
     "text": [
      "100%|█████████████████████████████████████████████████████████████████████████████████| 15/15 [00:00<00:00, 120.97it/s]\n"
     ]
    },
    {
     "name": "stdout",
     "output_type": "stream",
     "text": [
      "epoch: 26, cost: 0.2990, accuracy: 0.89%\n"
     ]
    },
    {
     "name": "stderr",
     "output_type": "stream",
     "text": [
      "100%|█████████████████████████████████████████████████████████████████████████████████| 15/15 [00:00<00:00, 340.91it/s]\n"
     ]
    },
    {
     "name": "stdout",
     "output_type": "stream",
     "text": [
      "epoch: 27, cost: 0.2854, accuracy: 0.89%\n"
     ]
    },
    {
     "name": "stderr",
     "output_type": "stream",
     "text": [
      "100%|█████████████████████████████████████████████████████████████████████████████████| 15/15 [00:00<00:00, 288.47it/s]\n"
     ]
    },
    {
     "name": "stdout",
     "output_type": "stream",
     "text": [
      "epoch: 28, cost: 0.2989, accuracy: 0.89%\n"
     ]
    },
    {
     "name": "stderr",
     "output_type": "stream",
     "text": [
      "100%|█████████████████████████████████████████████████████████████████████████████████| 15/15 [00:00<00:00, 283.02it/s]\n"
     ]
    },
    {
     "name": "stdout",
     "output_type": "stream",
     "text": [
      "epoch: 29, cost: 0.2756, accuracy: 0.89%\n"
     ]
    },
    {
     "name": "stderr",
     "output_type": "stream",
     "text": [
      "100%|█████████████████████████████████████████████████████████████████████████████████| 15/15 [00:00<00:00, 375.00it/s]"
     ]
    },
    {
     "name": "stdout",
     "output_type": "stream",
     "text": [
      "epoch: 30, cost: 0.2810, accuracy: 0.90%\n"
     ]
    },
    {
     "name": "stderr",
     "output_type": "stream",
     "text": [
      "\n"
     ]
    }
   ],
   "source": [
    "classifier_batch = NeuralNetwork_batch()\n",
    "classifier_batch.fit(X_train, y_train, 0.1, 30)"
   ]
  },
  {
   "cell_type": "markdown",
   "id": "e89f97e3",
   "metadata": {},
   "source": [
    "#### Without mini batch"
   ]
  },
  {
   "cell_type": "code",
   "execution_count": 225,
   "id": "15e1457e",
   "metadata": {},
   "outputs": [
    {
     "name": "stdout",
     "output_type": "stream",
     "text": [
      "epoch: 1, cost: 3.2572, accuracy: 38.24%\n",
      "epoch: 2, cost: 2.7787, accuracy: 38.24%\n",
      "epoch: 3, cost: 2.3645, accuracy: 38.24%\n",
      "epoch: 4, cost: 2.0116, accuracy: 38.24%\n",
      "epoch: 5, cost: 1.7123, accuracy: 38.24%\n",
      "epoch: 6, cost: 1.4607, accuracy: 38.24%\n",
      "epoch: 7, cost: 1.2541, accuracy: 38.24%\n",
      "epoch: 8, cost: 1.0876, accuracy: 38.24%\n",
      "epoch: 9, cost: 0.9567, accuracy: 38.24%\n",
      "epoch: 10, cost: 0.8560, accuracy: 38.24%\n",
      "epoch: 11, cost: 0.7782, accuracy: 38.24%\n",
      "epoch: 12, cost: 0.7157, accuracy: 38.24%\n",
      "epoch: 13, cost: 0.6661, accuracy: 40.44%\n",
      "epoch: 14, cost: 0.6281, accuracy: 56.92%\n",
      "epoch: 15, cost: 0.5987, accuracy: 65.05%\n",
      "epoch: 16, cost: 0.5755, accuracy: 69.67%\n",
      "epoch: 17, cost: 0.5569, accuracy: 72.75%\n",
      "epoch: 18, cost: 0.5416, accuracy: 74.95%\n",
      "epoch: 19, cost: 0.5290, accuracy: 79.12%\n",
      "epoch: 20, cost: 0.5184, accuracy: 79.78%\n",
      "epoch: 21, cost: 0.5093, accuracy: 81.10%\n",
      "epoch: 22, cost: 0.5013, accuracy: 81.76%\n",
      "epoch: 23, cost: 0.4944, accuracy: 83.52%\n",
      "epoch: 24, cost: 0.4881, accuracy: 85.27%\n",
      "epoch: 25, cost: 0.4824, accuracy: 85.27%\n",
      "epoch: 26, cost: 0.4771, accuracy: 85.93%\n",
      "epoch: 27, cost: 0.4723, accuracy: 85.93%\n",
      "epoch: 28, cost: 0.4678, accuracy: 86.37%\n",
      "epoch: 29, cost: 0.4636, accuracy: 86.59%\n",
      "epoch: 30, cost: 0.4596, accuracy: 86.81%\n"
     ]
    }
   ],
   "source": [
    "classifier = NeuralNetwork()\n",
    "classifier.fit(X_train, y_train, 0.1, 30)"
   ]
  },
  {
   "cell_type": "markdown",
   "id": "a93f3701",
   "metadata": {},
   "source": [
    "### Evaluation & Comparison"
   ]
  },
  {
   "cell_type": "markdown",
   "id": "cbd367ec",
   "metadata": {},
   "source": [
    "#### With mini batch"
   ]
  },
  {
   "cell_type": "code",
   "execution_count": 226,
   "id": "692f6920",
   "metadata": {},
   "outputs": [
    {
     "data": {
      "text/plain": [
       "(0.9035087719298246, 0.22738679940705572)"
      ]
     },
     "execution_count": 226,
     "metadata": {},
     "output_type": "execute_result"
    }
   ],
   "source": [
    "classifier_batch.get_accuracy_cost(X_test, y_test)"
   ]
  },
  {
   "cell_type": "markdown",
   "id": "a81337c3",
   "metadata": {},
   "source": [
    "#### Without mini batch"
   ]
  },
  {
   "cell_type": "code",
   "execution_count": 227,
   "id": "7b9d9374",
   "metadata": {
    "scrolled": false
   },
   "outputs": [
    {
     "data": {
      "text/plain": [
       "(0.8771929824561403, 0.4361894183611597)"
      ]
     },
     "execution_count": 227,
     "metadata": {},
     "output_type": "execute_result"
    }
   ],
   "source": [
    "classifier.get_accuracy_cost(X_test, y_test)"
   ]
  },
  {
   "cell_type": "markdown",
   "id": "1ebcf361",
   "metadata": {},
   "source": [
    "It appears that, in the long run, mini batch gradient descent can achieve better metrics using less epoch, hence more efficient"
   ]
  },
  {
   "cell_type": "markdown",
   "id": "3b479547",
   "metadata": {},
   "source": [
    "# That's it. not bad at all :p"
   ]
  }
 ],
 "metadata": {
  "kernelspec": {
   "display_name": "Python 3 (ipykernel)",
   "language": "python",
   "name": "python3"
  },
  "language_info": {
   "codemirror_mode": {
    "name": "ipython",
    "version": 3
   },
   "file_extension": ".py",
   "mimetype": "text/x-python",
   "name": "python",
   "nbconvert_exporter": "python",
   "pygments_lexer": "ipython3",
   "version": "3.9.12"
  }
 },
 "nbformat": 4,
 "nbformat_minor": 5
}
