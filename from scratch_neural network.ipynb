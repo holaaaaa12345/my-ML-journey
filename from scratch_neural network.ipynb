{
 "cells": [
  {
   "cell_type": "markdown",
   "id": "02737cbd",
   "metadata": {},
   "source": [
    "# Neural network learning from scratch"
   ]
  },
  {
   "cell_type": "markdown",
   "id": "c588d68a",
   "metadata": {},
   "source": [
    "This notebook is a part of the series __From Scratch__, where i try to code machine learning algorithms from scratch (just numpy and math)"
   ]
  },
  {
   "cell_type": "markdown",
   "id": "7d7a2fbf",
   "metadata": {},
   "source": [
    "This is a major milestone during my self-taught machine learning journey. Understanding the backpropagation and calculus in it is quite an experience. That said, this is really the simplest implementation :p."
   ]
  },
  {
   "cell_type": "code",
   "execution_count": 2,
   "id": "285ac7b3",
   "metadata": {},
   "outputs": [],
   "source": [
    "import pandas as pd\n",
    "import numpy as np\n",
    "import matplotlib.pyplot as plt\n",
    "from sklearn.linear_model import LogisticRegression\n",
    "from sklearn.model_selection import train_test_split\n",
    "from sklearn.metrics import accuracy_score, f1_score\n",
    "from tensorflow.keras.models import Sequential  # Used for crosschecking\n",
    "from tensorflow.keras.layers import Dense, Normalization\n",
    "from tensorflow.keras.activations import linear, relu, sigmoid, softmax\n",
    "from tensorflow.keras.losses import BinaryCrossentropy\n",
    "from tensorflow.keras.optimizers import Adam\n",
    "from keras.datasets import mnist\n",
    "import tensorflow as tf\n",
    "from tqdm import tqdm"
   ]
  },
  {
   "cell_type": "markdown",
   "id": "df75c1df",
   "metadata": {},
   "source": [
    "### Objective: Determine a tumor's malignancy given its texture_mean and radius_mean"
   ]
  },
  {
   "cell_type": "markdown",
   "id": "9b9e7e12",
   "metadata": {},
   "source": [
    "#### The dataset"
   ]
  },
  {
   "cell_type": "code",
   "execution_count": 4,
   "id": "0c8caac3",
   "metadata": {
    "scrolled": false
   },
   "outputs": [
    {
     "data": {
      "text/html": [
       "<div>\n",
       "<style scoped>\n",
       "    .dataframe tbody tr th:only-of-type {\n",
       "        vertical-align: middle;\n",
       "    }\n",
       "\n",
       "    .dataframe tbody tr th {\n",
       "        vertical-align: top;\n",
       "    }\n",
       "\n",
       "    .dataframe thead th {\n",
       "        text-align: right;\n",
       "    }\n",
       "</style>\n",
       "<table border=\"1\" class=\"dataframe\">\n",
       "  <thead>\n",
       "    <tr style=\"text-align: right;\">\n",
       "      <th></th>\n",
       "      <th>diagnosis</th>\n",
       "      <th>texture_mean</th>\n",
       "      <th>radius_mean</th>\n",
       "    </tr>\n",
       "  </thead>\n",
       "  <tbody>\n",
       "    <tr>\n",
       "      <th>0</th>\n",
       "      <td>1</td>\n",
       "      <td>10.38</td>\n",
       "      <td>17.99</td>\n",
       "    </tr>\n",
       "    <tr>\n",
       "      <th>1</th>\n",
       "      <td>1</td>\n",
       "      <td>17.77</td>\n",
       "      <td>20.57</td>\n",
       "    </tr>\n",
       "    <tr>\n",
       "      <th>2</th>\n",
       "      <td>1</td>\n",
       "      <td>21.25</td>\n",
       "      <td>19.69</td>\n",
       "    </tr>\n",
       "    <tr>\n",
       "      <th>3</th>\n",
       "      <td>1</td>\n",
       "      <td>20.38</td>\n",
       "      <td>11.42</td>\n",
       "    </tr>\n",
       "    <tr>\n",
       "      <th>4</th>\n",
       "      <td>1</td>\n",
       "      <td>14.34</td>\n",
       "      <td>20.29</td>\n",
       "    </tr>\n",
       "    <tr>\n",
       "      <th>...</th>\n",
       "      <td>...</td>\n",
       "      <td>...</td>\n",
       "      <td>...</td>\n",
       "    </tr>\n",
       "    <tr>\n",
       "      <th>564</th>\n",
       "      <td>1</td>\n",
       "      <td>22.39</td>\n",
       "      <td>21.56</td>\n",
       "    </tr>\n",
       "    <tr>\n",
       "      <th>565</th>\n",
       "      <td>1</td>\n",
       "      <td>28.25</td>\n",
       "      <td>20.13</td>\n",
       "    </tr>\n",
       "    <tr>\n",
       "      <th>566</th>\n",
       "      <td>1</td>\n",
       "      <td>28.08</td>\n",
       "      <td>16.60</td>\n",
       "    </tr>\n",
       "    <tr>\n",
       "      <th>567</th>\n",
       "      <td>1</td>\n",
       "      <td>29.33</td>\n",
       "      <td>20.60</td>\n",
       "    </tr>\n",
       "    <tr>\n",
       "      <th>568</th>\n",
       "      <td>0</td>\n",
       "      <td>24.54</td>\n",
       "      <td>7.76</td>\n",
       "    </tr>\n",
       "  </tbody>\n",
       "</table>\n",
       "<p>569 rows × 3 columns</p>\n",
       "</div>"
      ],
      "text/plain": [
       "     diagnosis  texture_mean  radius_mean\n",
       "0            1         10.38        17.99\n",
       "1            1         17.77        20.57\n",
       "2            1         21.25        19.69\n",
       "3            1         20.38        11.42\n",
       "4            1         14.34        20.29\n",
       "..         ...           ...          ...\n",
       "564          1         22.39        21.56\n",
       "565          1         28.25        20.13\n",
       "566          1         28.08        16.60\n",
       "567          1         29.33        20.60\n",
       "568          0         24.54         7.76\n",
       "\n",
       "[569 rows x 3 columns]"
      ]
     },
     "execution_count": 4,
     "metadata": {},
     "output_type": "execute_result"
    }
   ],
   "source": [
    "df = pd.read_csv(\"./datasets/bdiag.csv\")[[\"diagnosis\", \"texture_mean\", \"radius_mean\"]]\n",
    "df[\"diagnosis\"] = df[\"diagnosis\"].replace({\"M\":1, \"B\":0})\n",
    "df"
   ]
  },
  {
   "cell_type": "markdown",
   "id": "3df5d58c",
   "metadata": {},
   "source": [
    "#### Plotting the dataset"
   ]
  },
  {
   "cell_type": "code",
   "execution_count": 8,
   "id": "0da2e048",
   "metadata": {},
   "outputs": [
    {
     "data": {
      "image/png": "[encoded data removed]",
      "text/plain": [
       "<Figure size 432x288 with 1 Axes>"
      ]
     },
     "metadata": {
      "needs_background": "light"
     },
     "output_type": "display_data"
    }
   ],
   "source": [
    "fig, ax = plt.subplots()\n",
    "\n",
    "mal = df[df[\"diagnosis\"]==1]\n",
    "ben = df[df[\"diagnosis\"]==0]\n",
    "\n",
    "ax.scatter(mal[\"texture_mean\"], mal[\"radius_mean\"], label=\"malignant\", c=\"r\", alpha=0.5)\n",
    "ax.scatter(ben[\"texture_mean\"], ben[\"radius_mean\"], label=\"benign\", c=\"b\", alpha=0.5)\n",
    "ax.set_xlabel(\"texture_mean\")\n",
    "ax.set_ylabel(\"radius_mean\")\n",
    "ax.legend()\n",
    "\n",
    "plt.show()\n"
   ]
  },
  {
   "cell_type": "markdown",
   "id": "5b14c8ff",
   "metadata": {},
   "source": [
    "Looks like the texture_mean does not have much influence on malignancy"
   ]
  },
  {
   "cell_type": "markdown",
   "id": "6b617ade",
   "metadata": {},
   "source": [
    "### Train-test split"
   ]
  },
  {
   "cell_type": "code",
   "execution_count": 3,
   "id": "b641944f",
   "metadata": {},
   "outputs": [],
   "source": [
    "X = df[[\"texture_mean\", \"radius_mean\"]].values\n",
    "y = df[\"diagnosis\"].values.reshape(-1, 1)\n",
    "X_train, X_test, y_train, y_test = train_test_split(X, y, test_size=0.2)"
   ]
  },
  {
   "cell_type": "code",
   "execution_count": 4,
   "id": "b827b2f3",
   "metadata": {},
   "outputs": [
    {
     "name": "stdout",
     "output_type": "stream",
     "text": [
      "X_train: (455, 2)\n",
      "Y_train: (455, 1)\n",
      "X_test:  (114, 2)\n",
      "Y_test:  (114, 1)\n"
     ]
    }
   ],
   "source": [
    "print('X_train: ' + str(X_train.shape))\n",
    "print('Y_train: ' + str(y_train.shape))\n",
    "print('X_test:  '  + str(X_test.shape))\n",
    "print('Y_test:  '  + str(y_test.shape))"
   ]
  },
  {
   "cell_type": "markdown",
   "id": "cca568a5",
   "metadata": {},
   "source": [
    "### Baseline model"
   ]
  },
  {
   "cell_type": "markdown",
   "id": "6fbfafdc",
   "metadata": {},
   "source": [
    "predict only based on the mean of radius_mean"
   ]
  },
  {
   "cell_type": "code",
   "execution_count": 26,
   "id": "02168e1b",
   "metadata": {},
   "outputs": [
    {
     "name": "stdout",
     "output_type": "stream",
     "text": [
      "baseline accuracy:0.895\n"
     ]
    }
   ],
   "source": [
    "# Training the mean of radius_mean\n",
    "rad_mean_train = X_train[:, [1]]\n",
    "mean = rad_mean_train.mean()\n",
    "\n",
    "# Testing on the testing set\n",
    "rad_mean_test = X_test[:, [1]]\n",
    "diag = y_test\n",
    "pred = np.where(rad_mean_test>mean, 1, 0)\n",
    "result = (pred==diag).mean()\n",
    "\n",
    "print(f\"baseline accuracy:{result:.3f}\")"
   ]
  },
  {
   "cell_type": "markdown",
   "id": "ce7056c1",
   "metadata": {},
   "source": [
    "### Feature normalization"
   ]
  },
  {
   "cell_type": "code",
   "execution_count": 29,
   "id": "3c85e917",
   "metadata": {},
   "outputs": [],
   "source": [
    "norm = Normalization(axis=1)\n",
    "norm.adapt(X_train)"
   ]
  },
  {
   "cell_type": "code",
   "execution_count": 30,
   "id": "d033f987",
   "metadata": {},
   "outputs": [],
   "source": [
    "X_train = np.array(norm(X_train))  # converts back to numpy because tensor is slower\n",
    "X_test = np.array(norm(X_test))"
   ]
  },
  {
   "cell_type": "markdown",
   "id": "63535d4f",
   "metadata": {},
   "source": [
    "### The Model overview"
   ]
  },
  {
   "cell_type": "markdown",
   "id": "9cce2cc6",
   "metadata": {},
   "source": [
    "![alt text](.\\datasets\\model_nn_scratch.jpg \"test\")"
   ]
  },
  {
   "cell_type": "markdown",
   "id": "a1324519",
   "metadata": {},
   "source": [
    "## Doing it the \"easy\" way using keras sequential API"
   ]
  },
  {
   "cell_type": "code",
   "execution_count": 33,
   "id": "95555dbb",
   "metadata": {
    "scrolled": true
   },
   "outputs": [
    {
     "data": {
      "text/plain": [
       "<keras.callbacks.History at 0x1742c773e80>"
      ]
     },
     "execution_count": 33,
     "metadata": {},
     "output_type": "execute_result"
    }
   ],
   "source": [
    "model = Sequential([\n",
    "    \n",
    "    Dense(units=2, activation=relu),\n",
    "    Dense(units=1, activation=linear)\n",
    "])\n",
    "\n",
    "model.compile(loss=BinaryCrossentropy(from_logits=True),  # to avoid numerical instability\n",
    "              optimizer=Adam(learning_rate=0.01),\n",
    "              metrics=\"accuracy\"\n",
    "             )\n",
    "model.fit(X_train, y_train, epochs=80, verbose=0)  # verbose = 0 to avoid printing too much"
   ]
  },
  {
   "cell_type": "markdown",
   "id": "5610e0c6",
   "metadata": {},
   "source": [
    "### Evaluation"
   ]
  },
  {
   "cell_type": "code",
   "execution_count": 38,
   "id": "4df90265",
   "metadata": {
    "scrolled": true
   },
   "outputs": [
    {
     "name": "stdout",
     "output_type": "stream",
     "text": [
      "4/4 [==============================] - 0s 4ms/step - loss: 0.2254 - accuracy: 0.9211\n",
      "total cost: 0.225\n",
      "accuracy: 0.921\n"
     ]
    }
   ],
   "source": [
    "result = model.evaluate(X_test, y_test)\n",
    "print(f\"total cost: {result[0]:.3f}\")\n",
    "print(f\"accuracy: {result[1]:.3f}\")"
   ]
  },
  {
   "cell_type": "markdown",
   "id": "cf855c6c",
   "metadata": {},
   "source": [
    "# Doing it the hard way (from scratch)\n",
    "Let's start with the math behind neural network"
   ]
  },
  {
   "cell_type": "markdown",
   "id": "7843ec1c",
   "metadata": {},
   "source": [
    "#### The specified architecture\n",
    "2 features --> 1 hidden layer (2 neuron relu) --> 1 output layer (1 neuron sigmoid)\n",
    "\n",
    "#### Notation\n",
    "$z_{1}^{[1]} =$ linear combination of input (feature) to the first neuron of the first layer <br>\n",
    "$z_{2}^{[1]} =$ linear combination of input (feature) to the second neuron of the first layer <br>\n",
    "\n",
    "$a_{1}^{[1]} =$ output of the first neuron of the first layer<br>\n",
    "$a_{2}^{[1]} =$ output of the second neuron of the first layer<br>\n",
    "\n",
    "$z^{[2]} =$ linear combination of output of the first layer<br>\n",
    "$a^{[2]} =$ output of the only neuron of the second layer (final output)<br>\n",
    "\n",
    "name for each parameters can be seen on the model overview above\n",
    "\n",
    "#### Forward propagation:\n",
    "\n",
    "$$z_{1}^{[1]} = w_{1}^{[1]}x_{1} + w_{2}^{[1]}x_{2} + b_{1}^{[1]} $$ <br>\n",
    "$$z_{2}^{[1]} = w_{3}^{[1]}x_{1} + w_{4}^{[1]}x_{2} + b_{2}^{[1]} $$ <br>\n",
    "$$a_{1}^{[1]} = \\text{relu}(z_{1}^{[1]})$$ <br>\n",
    "$$a_{2}^{[1]} = \\text{relu}(z_{2}^{[1]})$$ <br>\n",
    "$$z^{[2]} = w_{1}^{[2]}x_{1} + w_{2}^{[2]}x_{2} + b^{[2]} $$ <br>\n",
    "$$a^{[2]} = \\frac{1}{1 + e^{-z^{[2]}}}$$ <br>\n",
    "\n",
    "#### cost & loss function: <br>\n",
    "$$\\text{cross entropy cost}(\\hat{a}^{[2]}, \\hat{y}) = -\\frac{1}{n}\\sum_{i=1}^{n}\\sum_{j=1}^{m}y_{ij}\\text{log}(a^{[2]}[ij]) \\space\\text{where n=number of examples, m=number of class}$$ <br>\n",
    "$$\\text{binary cross entropy cost}(\\hat{a}^{[2]}, \\hat{y}) = -\\frac{1}{n}\\sum_{i=1}^{n}y_{i}\\text{log}(a^{[2]}[i]) + (1-y_{i})\\text{log}(1-a^{[2]}[i])$$ <br>\n",
    "\n",
    "#####  Derivative of cost function w.r.t parameters\n",
    "$$\\frac{\\partial ( \\text{binary cross entropy cost}(\\vec{a}^{[2]}, \\vec{y}))}{\\partial \\vec{w}} = \\frac{1}{n}(\\frac {\\partial (\\text{binary cross entropy loss}(a^{[2]}, \\hat{y}))_{1}}{\\partial \\vec{w}} + \\frac {\\partial (\\text{binary cross entropy loss}(a^{[2]}, \\hat{y}))_{2}}{\\partial \\vec{w}}+ ...+ \\frac {\\partial (\\text{binary cross entropy loss}(a^{[2]}, \\hat{y}))_{n}}{\\partial \\vec{w}})\\space \\text{for n=number of examples}$$<br>\n",
    "\n",
    "$$\\text{binary cross entropy loss}(a^{[2]}, \\hat{y}) = -(y_{i}\\text{log}(a^{[2]}) + (1-y_{i})\\text{log}(1-a^{[2]}))$$\n",
    "\n",
    "- Intuitively speaking, the gradient of cost function wrt to parameter $w$ is the average of all the gradient of loss function wrt to parameter $w_{1}, w_{2},..., w_{n}$ where $n=$number of examples.\n",
    "\n",
    "\n",
    "#### Backward propagation:\n",
    "- The point of backpropagation is to determine the gradient of cost function wrt to each parameter $w$\n",
    "- Backpropagation involves the derivation of loss function wrt to each parameters, then averaging them later for gradient descent\n",
    "\n",
    "##### output layer\n",
    "$\\frac{\\partial \\text{cost}(a^{[2]})}{\\partial z^{[2]}}=\\frac{\\partial a^{[2]}}{\\partial z^{[2]}}\\times\\frac{\\partial\\text{cost}(a^{[2]})}{\\partial a^{[2]}} = (1-a^{[2]})\\times \\frac{a^{[2]}-y}{a^{[2]}(1-a^{[2]})} = a^{[2]} - y$\n",
    "\n",
    "\n",
    "$$\\frac{\\partial\\text{cost}(a^{[2]})}{\\partial w_{1}^{[2]}} = \\frac{\\partial z^{[2]}}{\\partial w_{1}^{[2]}}\\times\\frac{\\partial \\text{cost}(a^{[2]})}{\\partial z^{[2]}} = a_{1}^{[1]}\\times (a^{[2]} - y)$$\n",
    "\n",
    "$$\\frac{\\partial\\text{cost}(a^{[2]})}{\\partial w_{2}^{[2]}} = \\frac{\\partial z^{[2]}}{\\partial w_{2}^{[2]}}\\times\\frac{\\partial \\text{cost}(a^{[2]})}{\\partial z^{[2]}} = a_{2}^{[1]}\\times (a^{[2]} - y)$$\n",
    "\n",
    "$$\\frac{\\partial\\text{cost}(a^{[2]})}{\\partial b^{[2]}} = \\frac{\\partial z^{[2]}}{\\partial b^{[2]}}\\times\\frac{\\partial \\text{cost}(a^{[2]})}{\\partial z^{[2]}} = a^{[2]} - y$$\n",
    "\n",
    "\n",
    "##### hidden layer\n",
    "$\\frac{\\partial \\text{cost}(a^{[2]})}{\\partial z_{1}^{[1]}}=\\frac{\\partial a_{1}^{[1]}}{\\partial z_{1}^{[1]}}\\times\\frac{\\partial z^{[2]}}{\\partial a_{1}^{[1]}}\\times\\frac{\\partial \\text{cost}(a^{[2]})}{\\partial z^{[2]}} = \\text{relu'}(z_1^{[1]}) \\times w_1^{[2]}\\times (a^{[2]} - y)$ <br>\n",
    "\n",
    "$$\\frac{\\partial\\text{cost}(a^{[2]})}{\\partial w_{1}^{[1]}} = \\frac{\\partial z_{1}^{[1]}}{\\partial w_{1}^{[1]}}\\times \\frac{\\partial \\text{cost}(a^{[2]})}{\\partial z_{1}^{[1]}} = x_1\\times \\text{relu'}(z_1^{[1]}) \\times w_1^{[2]}\\times (a^{[2]} - y)$$\n",
    "$$\\frac{\\partial\\text{cost}(a^{[2]})}{\\partial w_{2}^{[1]}} = \\frac{\\partial z_{1}^{[1]}}{\\partial w_{2}^{[1]}}\\times \\frac{\\partial \\text{cost}(a^{[2]})}{\\partial z_{1}^{[1]}} = x_2\\times \\text{relu'}(z_1^{[1]}) \\times w_1^{[2]}\\times (a^{[2]} - y)$$ \n",
    "$$\\frac{\\partial\\text{cost}(a^{[2]})}{\\partial b_{1}^{[1]}} = \\frac{\\partial z_{1}^{[1]}}{\\partial b_{1}^{[1]}}\\times \\frac{\\partial \\text{cost}(a^{[2]})}{\\partial z_{1}^{[1]}} = \\text{relu'}(z_1^{[1]}) \\times w_1^{[2]}\\times (a^{[2]} - y)$$ \n",
    "<br>\n",
    "\n",
    "$\\frac{\\partial \\text{cost}(a^{[2]})}{\\partial z_{2}^{[1]}}=\\frac{\\partial a_{1}^{[1]}}{\\partial z_{2}^{[1]}}\\times\\frac{\\partial z^{[2]}}{\\partial a_{1}^{[1]}}\\times\\frac{\\partial \\text{cost}(a^{[2]})}{\\partial z^{[2]}} = \\text{relu'}(z_2^{[1]}) \\times w_2^{[2]}\\times (a^{[2]} - y)$ <br>\n",
    "\n",
    "$$\\frac{\\partial\\text{cost}(a^{[2]})}{\\partial w_{3}^{[1]}} = \\frac{\\partial z_{2}^{[1]}}{\\partial w_{3}^{[1]}}\\times \\frac{\\partial \\text{cost}(a^{[2]})}{\\partial z_{1}^{[1]}} = x_1\\times \\text{relu'}(z_2^{[1]}) \\times w_2^{[2]}\\times (a^{[2]} - y)$$\n",
    "$$\\frac{\\partial\\text{cost}(a^{[2]})}{\\partial w_{4}^{[1]}} = \\frac{\\partial z_{1}^{[1]}}{\\partial w_{4}^{[1]}}\\times \\frac{\\partial \\text{cost}(a^{[2]})}{\\partial z_{1}^{[1]}} = x_2\\times \\text{relu'}(z_1^{[1]}) \\times w_1^{[2]}\\times (a^{[2]} - y)$$ \n",
    "$$\\frac{\\partial\\text{cost}(a^{[2]})}{\\partial b_{2}^{[1]}} = \\frac{\\partial z_{1}^{[1]}}{\\partial b_{2}^{[1]}}\\times \\frac{\\partial \\text{cost}(a^{[2]})}{\\partial z_{1}^{[1]}} = \\text{relu'}(z_1^{[1]}) \\times w_1^{[2]}\\times (a^{[2]} - y)$$ \n",
    "<br>"
   ]
  },
  {
   "cell_type": "markdown",
   "id": "6f41c1db",
   "metadata": {},
   "source": [
    "### No vectorization (just for loop), vanilla gradient descent, and non-modular implementation"
   ]
  },
  {
   "cell_type": "markdown",
   "id": "7782d8bb",
   "metadata": {},
   "source": [
    "This implementation is tailored for learning, hence not for production usage. It is meant to be explicit and not use any vectorization. It is also non-modular, as it can only be of the specified architecture and parameters."
   ]
  },
  {
   "cell_type": "code",
   "execution_count": 40,
   "id": "9564fd14",
   "metadata": {},
   "outputs": [],
   "source": [
    "class NeuralNetwork():\n",
    "    \n",
    "    def initialize(self):\n",
    "        self.w11, self.w12, self.w13, self.w14, self.w21, self.w22, self.b11, self.b12, self.b2 = np.random.randn(9)\n",
    "    \n",
    "    def relu(self, x):\n",
    "        return np.maximum(x, 0)\n",
    "    \n",
    "    def sigmoid(self, x):\n",
    "        return 1/(1+np.exp(-x))\n",
    "    \n",
    "    def binary_cross_entropy(self, x, y_true):\n",
    "        return -(y_true * np.log(x) + (1 - y_true) * np.log(1 - x))\n",
    "    \n",
    "    def derivative_relu(self, x):\n",
    "        return 1 if x>0 else 0\n",
    "    \n",
    "    def forward_prop(self, x1, x2):\n",
    "        forward_dict = {} \n",
    "        \n",
    "        # hidden layer\n",
    "        forward_dict[\"z11\"] = self.w11 * x1 + self.w12 * x2 + self.b11\n",
    "        forward_dict[\"z12\"] = self.w13 * x1 + self.w14 * x2 + self.b12\n",
    "        forward_dict[\"a11\"] = self.relu(forward_dict[\"z11\"])\n",
    "        forward_dict[\"a12\"] = self.relu(forward_dict[\"z12\"])\n",
    "        \n",
    "        # output layer\n",
    "        forward_dict[\"z2\"] = self.w21 * forward_dict[\"a11\"] + self.w22 * forward_dict[\"a12\"] + self.b2\n",
    "        forward_dict[\"a2\"] = self.sigmoid(forward_dict[\"z2\"])\n",
    "        \n",
    "        return forward_dict\n",
    "\n",
    "    def back_prop(self, x1, x2, y_true, forward_dict):\n",
    "        # gradient will be calculated for each training example and averaged later#\n",
    "        \n",
    "        deriva_dict = {}\n",
    "        \n",
    "        # output layer\n",
    "        error = forward_dict[\"a2\"] - y_true\n",
    "        \n",
    "        deriva_dict[\"dloss_dw21\"] = forward_dict[\"a11\"] * error\n",
    "        deriva_dict[\"dloss_dw22\"] = forward_dict[\"a12\"] * error\n",
    "        deriva_dict[\"dloss_db2\"] = error\n",
    "        \n",
    "        # hidden layer\n",
    "        dcost_dz11 = self.derivative_relu(forward_dict[\"z11\"]) * self.w21 * error\n",
    "        dcost_dz12 = self.derivative_relu(forward_dict[\"z12\"]) * self.w22 * error\n",
    "        \n",
    "        deriva_dict[\"dloss_dw11\"] = x1 * dcost_dz11\n",
    "        deriva_dict[\"dloss_dw12\"] = x2 * dcost_dz11\n",
    "        deriva_dict[\"dloss_db11\"] = dcost_dz11\n",
    "        \n",
    "        deriva_dict[\"dloss_dw13\"] = x1 * dcost_dz12\n",
    "        deriva_dict[\"dloss_dw14\"] = x2 * dcost_dz12\n",
    "        deriva_dict[\"dloss_db12\"] = dcost_dz12\n",
    "        \n",
    "        return deriva_dict\n",
    "    \n",
    "    def get_prob_class(self, x1, x2):\n",
    "        prob = self.forward_prop(x1, x2)[\"a2\"]\n",
    "        class_ = self.encode_class(prob)\n",
    "        return prob, class_\n",
    "    \n",
    "    def encode_class(self, x):\n",
    "        return 1 if x>0.5 else 0\n",
    "    \n",
    "    def get_accuracy_cost(self, X, y):\n",
    "        n = X.shape[0]\n",
    "        n_correct = 0\n",
    "        cost = 0\n",
    "        for i in range(n):\n",
    "            x1, x2 = X[i]\n",
    "            prediction = self.get_prob_class(x1, x2)\n",
    "            if prediction[1] == y[i][0]:\n",
    "                n_correct += 1\n",
    "            cost += self.binary_cross_entropy(prediction[0], y[i][0])\n",
    "        return n_correct/n, cost/n\n",
    "\n",
    "    def fit(self, X, y, alpha, epochs):\n",
    "        n, m = X.shape\n",
    "        \n",
    "        self.initialize()\n",
    "        costs = []\n",
    "\n",
    "        for i in range(1, epochs+1):\n",
    "            # Loop to iterate based on specified epoch\n",
    "            \n",
    "            dcost_dw21 = 0\n",
    "            dcost_dw22 = 0\n",
    "            dcost_db2 = 0\n",
    "            dcost_dw11 = 0\n",
    "            dcost_dw12 = 0\n",
    "            dcost_db11 = 0\n",
    "            dcost_dw13 = 0\n",
    "            dcost_dw14 = 0\n",
    "            dcost_db12 = 0\n",
    "            \n",
    "            for j in range(n):\n",
    "                # Loop to find derivatives for each example\n",
    "                \n",
    "                x1 , x2 = X[j]\n",
    "                y_true = y[j][0]\n",
    "                forward_prop = self.forward_prop(x1, x2)\n",
    "                back_prop = self.back_prop(x1, x2, y_true, forward_prop)\n",
    "                \n",
    "                dcost_dw21 += back_prop[\"dloss_dw21\"]\n",
    "                dcost_dw22 += back_prop[\"dloss_dw22\"]\n",
    "                dcost_db2 += back_prop[\"dloss_db2\"]\n",
    "                dcost_dw11 += back_prop[\"dloss_dw11\"]\n",
    "                dcost_dw12 += back_prop[\"dloss_dw12\"]\n",
    "                dcost_db11 += back_prop[\"dloss_db11\"]\n",
    "                dcost_dw13 += back_prop[\"dloss_dw13\"]\n",
    "                dcost_dw14 += back_prop[\"dloss_dw14\"]\n",
    "                dcost_db12 += back_prop[\"dloss_db12\"]\n",
    "            \n",
    "            # The parameter update process\n",
    "            self.w21 -= alpha*(1/n)*dcost_dw21 \n",
    "            self.w22 -= alpha*(1/n)*dcost_dw22 \n",
    "            self.b2  -= alpha*(1/n)*dcost_db2\n",
    "            self.w11 -= alpha*(1/n)*dcost_dw11 \n",
    "            self.w12 -= alpha*(1/n)*dcost_dw12 \n",
    "            self.b11 -= alpha*(1/n)*dcost_db11\n",
    "            self.w13 -= alpha*(1/n)*dcost_dw13\n",
    "            self.w14 -= alpha*(1/n)*dcost_dw14\n",
    "            self.b12 -= alpha*(1/n)*dcost_db12\n",
    "            \n",
    "            accuracy, cost = self.get_accuracy_cost(X, y)\n",
    "            costs.append(cost)\n",
    "            \n",
    "            print(f\"epoch: {i}, cost: {cost:.4f}, accuracy: {accuracy*100:.2f}%\")"
   ]
  },
  {
   "cell_type": "markdown",
   "id": "17d3e8e3",
   "metadata": {},
   "source": [
    "### Training"
   ]
  },
  {
   "cell_type": "code",
   "execution_count": 41,
   "id": "e3e3aaaf",
   "metadata": {
    "scrolled": true
   },
   "outputs": [
    {
     "name": "stdout",
     "output_type": "stream",
     "text": [
      "epoch: 1, cost: 0.9117, accuracy: 36.48%\n",
      "epoch: 2, cost: 0.8874, accuracy: 36.48%\n",
      "epoch: 3, cost: 0.8654, accuracy: 36.48%\n",
      "epoch: 4, cost: 0.8454, accuracy: 36.48%\n",
      "epoch: 5, cost: 0.8273, accuracy: 36.48%\n",
      "epoch: 6, cost: 0.8107, accuracy: 36.48%\n",
      "epoch: 7, cost: 0.7955, accuracy: 36.48%\n",
      "epoch: 8, cost: 0.7816, accuracy: 36.48%\n",
      "epoch: 9, cost: 0.7688, accuracy: 36.48%\n",
      "epoch: 10, cost: 0.7571, accuracy: 36.48%\n",
      "epoch: 11, cost: 0.7463, accuracy: 36.48%\n",
      "epoch: 12, cost: 0.7364, accuracy: 36.48%\n",
      "epoch: 13, cost: 0.7271, accuracy: 36.48%\n",
      "epoch: 14, cost: 0.7185, accuracy: 62.42%\n",
      "epoch: 15, cost: 0.7105, accuracy: 63.96%\n",
      "epoch: 16, cost: 0.7029, accuracy: 64.62%\n",
      "epoch: 17, cost: 0.6959, accuracy: 65.71%\n",
      "epoch: 18, cost: 0.6893, accuracy: 67.03%\n",
      "epoch: 19, cost: 0.6831, accuracy: 67.69%\n",
      "epoch: 20, cost: 0.6772, accuracy: 68.57%\n",
      "epoch: 21, cost: 0.6717, accuracy: 69.45%\n",
      "epoch: 22, cost: 0.6664, accuracy: 71.21%\n",
      "epoch: 23, cost: 0.6614, accuracy: 71.65%\n",
      "epoch: 24, cost: 0.6567, accuracy: 71.87%\n",
      "epoch: 25, cost: 0.6521, accuracy: 72.09%\n",
      "epoch: 26, cost: 0.6479, accuracy: 72.53%\n",
      "epoch: 27, cost: 0.6437, accuracy: 73.19%\n",
      "epoch: 28, cost: 0.6398, accuracy: 73.41%\n",
      "epoch: 29, cost: 0.6360, accuracy: 74.29%\n",
      "epoch: 30, cost: 0.6323, accuracy: 73.63%\n",
      "epoch: 31, cost: 0.6288, accuracy: 73.63%\n",
      "epoch: 32, cost: 0.6254, accuracy: 73.85%\n",
      "epoch: 33, cost: 0.6221, accuracy: 73.41%\n",
      "epoch: 34, cost: 0.6188, accuracy: 73.63%\n",
      "epoch: 35, cost: 0.6157, accuracy: 74.07%\n",
      "epoch: 36, cost: 0.6126, accuracy: 75.16%\n",
      "epoch: 37, cost: 0.6096, accuracy: 74.73%\n",
      "epoch: 38, cost: 0.6065, accuracy: 75.60%\n",
      "epoch: 39, cost: 0.6035, accuracy: 75.82%\n",
      "epoch: 40, cost: 0.6005, accuracy: 75.82%\n",
      "epoch: 41, cost: 0.5976, accuracy: 76.04%\n",
      "epoch: 42, cost: 0.5947, accuracy: 76.48%\n",
      "epoch: 43, cost: 0.5918, accuracy: 77.36%\n",
      "epoch: 44, cost: 0.5889, accuracy: 77.36%\n",
      "epoch: 45, cost: 0.5860, accuracy: 78.02%\n",
      "epoch: 46, cost: 0.5832, accuracy: 78.24%\n",
      "epoch: 47, cost: 0.5804, accuracy: 78.24%\n",
      "epoch: 48, cost: 0.5776, accuracy: 78.90%\n",
      "epoch: 49, cost: 0.5748, accuracy: 79.34%\n",
      "epoch: 50, cost: 0.5720, accuracy: 79.34%\n",
      "epoch: 51, cost: 0.5692, accuracy: 79.34%\n",
      "epoch: 52, cost: 0.5663, accuracy: 79.56%\n",
      "epoch: 53, cost: 0.5635, accuracy: 79.56%\n",
      "epoch: 54, cost: 0.5607, accuracy: 79.34%\n",
      "epoch: 55, cost: 0.5579, accuracy: 79.56%\n",
      "epoch: 56, cost: 0.5551, accuracy: 80.00%\n",
      "epoch: 57, cost: 0.5522, accuracy: 80.00%\n",
      "epoch: 58, cost: 0.5494, accuracy: 80.00%\n",
      "epoch: 59, cost: 0.5465, accuracy: 80.22%\n",
      "epoch: 60, cost: 0.5437, accuracy: 80.66%\n",
      "epoch: 61, cost: 0.5408, accuracy: 80.66%\n",
      "epoch: 62, cost: 0.5379, accuracy: 80.88%\n",
      "epoch: 63, cost: 0.5350, accuracy: 81.10%\n",
      "epoch: 64, cost: 0.5321, accuracy: 81.32%\n",
      "epoch: 65, cost: 0.5291, accuracy: 81.32%\n",
      "epoch: 66, cost: 0.5262, accuracy: 81.54%\n",
      "epoch: 67, cost: 0.5233, accuracy: 82.20%\n",
      "epoch: 68, cost: 0.5203, accuracy: 82.86%\n",
      "epoch: 69, cost: 0.5173, accuracy: 83.08%\n",
      "epoch: 70, cost: 0.5144, accuracy: 83.30%\n",
      "epoch: 71, cost: 0.5114, accuracy: 83.74%\n",
      "epoch: 72, cost: 0.5084, accuracy: 83.74%\n",
      "epoch: 73, cost: 0.5055, accuracy: 83.74%\n",
      "epoch: 74, cost: 0.5026, accuracy: 84.40%\n",
      "epoch: 75, cost: 0.4997, accuracy: 84.18%\n",
      "epoch: 76, cost: 0.4968, accuracy: 84.18%\n",
      "epoch: 77, cost: 0.4939, accuracy: 83.96%\n",
      "epoch: 78, cost: 0.4910, accuracy: 84.18%\n",
      "epoch: 79, cost: 0.4881, accuracy: 84.40%\n",
      "epoch: 80, cost: 0.4853, accuracy: 84.40%\n",
      "epoch: 81, cost: 0.4824, accuracy: 84.40%\n",
      "epoch: 82, cost: 0.4796, accuracy: 84.62%\n",
      "epoch: 83, cost: 0.4768, accuracy: 84.84%\n",
      "epoch: 84, cost: 0.4740, accuracy: 85.05%\n",
      "epoch: 85, cost: 0.4713, accuracy: 85.27%\n",
      "epoch: 86, cost: 0.4686, accuracy: 85.27%\n",
      "epoch: 87, cost: 0.4659, accuracy: 85.49%\n",
      "epoch: 88, cost: 0.4633, accuracy: 85.71%\n",
      "epoch: 89, cost: 0.4606, accuracy: 85.71%\n",
      "epoch: 90, cost: 0.4581, accuracy: 85.93%\n",
      "epoch: 91, cost: 0.4555, accuracy: 85.93%\n",
      "epoch: 92, cost: 0.4530, accuracy: 86.15%\n",
      "epoch: 93, cost: 0.4504, accuracy: 86.15%\n",
      "epoch: 94, cost: 0.4479, accuracy: 86.15%\n",
      "epoch: 95, cost: 0.4454, accuracy: 86.37%\n",
      "epoch: 96, cost: 0.4429, accuracy: 86.59%\n",
      "epoch: 97, cost: 0.4405, accuracy: 86.59%\n",
      "epoch: 98, cost: 0.4380, accuracy: 86.59%\n",
      "epoch: 99, cost: 0.4356, accuracy: 86.59%\n",
      "epoch: 100, cost: 0.4333, accuracy: 86.81%\n",
      "epoch: 101, cost: 0.4310, accuracy: 86.59%\n",
      "epoch: 102, cost: 0.4287, accuracy: 86.81%\n",
      "epoch: 103, cost: 0.4264, accuracy: 87.03%\n",
      "epoch: 104, cost: 0.4242, accuracy: 87.25%\n",
      "epoch: 105, cost: 0.4220, accuracy: 87.25%\n",
      "epoch: 106, cost: 0.4199, accuracy: 87.25%\n",
      "epoch: 107, cost: 0.4177, accuracy: 87.47%\n",
      "epoch: 108, cost: 0.4156, accuracy: 87.47%\n",
      "epoch: 109, cost: 0.4135, accuracy: 87.69%\n",
      "epoch: 110, cost: 0.4115, accuracy: 87.47%\n",
      "epoch: 111, cost: 0.4094, accuracy: 87.47%\n",
      "epoch: 112, cost: 0.4074, accuracy: 87.47%\n",
      "epoch: 113, cost: 0.4055, accuracy: 87.47%\n",
      "epoch: 114, cost: 0.4035, accuracy: 87.91%\n",
      "epoch: 115, cost: 0.4016, accuracy: 88.13%\n",
      "epoch: 116, cost: 0.3997, accuracy: 88.13%\n",
      "epoch: 117, cost: 0.3979, accuracy: 88.35%\n",
      "epoch: 118, cost: 0.3961, accuracy: 88.57%\n",
      "epoch: 119, cost: 0.3943, accuracy: 88.57%\n",
      "epoch: 120, cost: 0.3925, accuracy: 88.57%\n",
      "epoch: 121, cost: 0.3907, accuracy: 88.57%\n",
      "epoch: 122, cost: 0.3890, accuracy: 88.57%\n",
      "epoch: 123, cost: 0.3873, accuracy: 88.57%\n",
      "epoch: 124, cost: 0.3856, accuracy: 88.57%\n",
      "epoch: 125, cost: 0.3839, accuracy: 88.57%\n",
      "epoch: 126, cost: 0.3823, accuracy: 88.35%\n",
      "epoch: 127, cost: 0.3807, accuracy: 88.57%\n",
      "epoch: 128, cost: 0.3791, accuracy: 88.57%\n",
      "epoch: 129, cost: 0.3775, accuracy: 88.79%\n",
      "epoch: 130, cost: 0.3760, accuracy: 88.79%\n",
      "epoch: 131, cost: 0.3744, accuracy: 88.79%\n",
      "epoch: 132, cost: 0.3729, accuracy: 88.79%\n",
      "epoch: 133, cost: 0.3715, accuracy: 89.01%\n",
      "epoch: 134, cost: 0.3700, accuracy: 89.23%\n",
      "epoch: 135, cost: 0.3685, accuracy: 89.23%\n",
      "epoch: 136, cost: 0.3671, accuracy: 89.45%\n",
      "epoch: 137, cost: 0.3656, accuracy: 89.45%\n",
      "epoch: 138, cost: 0.3642, accuracy: 89.45%\n",
      "epoch: 139, cost: 0.3628, accuracy: 89.45%\n",
      "epoch: 140, cost: 0.3615, accuracy: 89.45%\n",
      "epoch: 141, cost: 0.3601, accuracy: 89.67%\n",
      "epoch: 142, cost: 0.3588, accuracy: 89.67%\n",
      "epoch: 143, cost: 0.3575, accuracy: 89.67%\n",
      "epoch: 144, cost: 0.3562, accuracy: 89.67%\n",
      "epoch: 145, cost: 0.3549, accuracy: 89.67%\n",
      "epoch: 146, cost: 0.3536, accuracy: 89.67%\n",
      "epoch: 147, cost: 0.3524, accuracy: 89.67%\n",
      "epoch: 148, cost: 0.3511, accuracy: 89.89%\n",
      "epoch: 149, cost: 0.3499, accuracy: 89.89%\n",
      "epoch: 150, cost: 0.3487, accuracy: 89.89%\n",
      "epoch: 151, cost: 0.3475, accuracy: 89.67%\n",
      "epoch: 152, cost: 0.3463, accuracy: 89.67%\n",
      "epoch: 153, cost: 0.3451, accuracy: 89.67%\n",
      "epoch: 154, cost: 0.3440, accuracy: 89.67%\n",
      "epoch: 155, cost: 0.3429, accuracy: 89.67%\n",
      "epoch: 156, cost: 0.3418, accuracy: 89.67%\n",
      "epoch: 157, cost: 0.3407, accuracy: 89.67%\n",
      "epoch: 158, cost: 0.3397, accuracy: 89.67%\n",
      "epoch: 159, cost: 0.3386, accuracy: 89.67%\n",
      "epoch: 160, cost: 0.3376, accuracy: 89.67%\n",
      "epoch: 161, cost: 0.3366, accuracy: 89.67%\n",
      "epoch: 162, cost: 0.3356, accuracy: 89.67%\n",
      "epoch: 163, cost: 0.3346, accuracy: 89.67%\n",
      "epoch: 164, cost: 0.3336, accuracy: 89.67%\n",
      "epoch: 165, cost: 0.3327, accuracy: 89.67%\n",
      "epoch: 166, cost: 0.3317, accuracy: 89.67%\n",
      "epoch: 167, cost: 0.3308, accuracy: 89.67%\n",
      "epoch: 168, cost: 0.3299, accuracy: 89.67%\n",
      "epoch: 169, cost: 0.3290, accuracy: 89.67%\n",
      "epoch: 170, cost: 0.3281, accuracy: 89.67%\n",
      "epoch: 171, cost: 0.3273, accuracy: 89.67%\n",
      "epoch: 172, cost: 0.3264, accuracy: 89.67%\n",
      "epoch: 173, cost: 0.3256, accuracy: 89.45%\n",
      "epoch: 174, cost: 0.3248, accuracy: 89.67%\n",
      "epoch: 175, cost: 0.3240, accuracy: 89.67%\n",
      "epoch: 176, cost: 0.3232, accuracy: 89.67%\n",
      "epoch: 177, cost: 0.3224, accuracy: 89.67%\n",
      "epoch: 178, cost: 0.3216, accuracy: 89.67%\n",
      "epoch: 179, cost: 0.3209, accuracy: 89.67%\n",
      "epoch: 180, cost: 0.3201, accuracy: 89.67%\n",
      "epoch: 181, cost: 0.3194, accuracy: 89.89%\n",
      "epoch: 182, cost: 0.3186, accuracy: 89.89%\n",
      "epoch: 183, cost: 0.3179, accuracy: 89.89%\n",
      "epoch: 184, cost: 0.3172, accuracy: 89.89%\n",
      "epoch: 185, cost: 0.3165, accuracy: 89.89%\n",
      "epoch: 186, cost: 0.3159, accuracy: 89.89%\n",
      "epoch: 187, cost: 0.3152, accuracy: 90.11%\n",
      "epoch: 188, cost: 0.3145, accuracy: 90.11%\n",
      "epoch: 189, cost: 0.3139, accuracy: 90.11%\n",
      "epoch: 190, cost: 0.3133, accuracy: 90.11%\n",
      "epoch: 191, cost: 0.3127, accuracy: 90.11%\n",
      "epoch: 192, cost: 0.3120, accuracy: 90.11%\n",
      "epoch: 193, cost: 0.3114, accuracy: 90.33%\n",
      "epoch: 194, cost: 0.3108, accuracy: 90.33%\n",
      "epoch: 195, cost: 0.3103, accuracy: 90.33%\n",
      "epoch: 196, cost: 0.3097, accuracy: 90.33%\n",
      "epoch: 197, cost: 0.3091, accuracy: 90.33%\n",
      "epoch: 198, cost: 0.3085, accuracy: 90.33%\n",
      "epoch: 199, cost: 0.3080, accuracy: 90.33%\n",
      "epoch: 200, cost: 0.3074, accuracy: 90.33%\n"
     ]
    }
   ],
   "source": [
    "classifier = NeuralNetwork()\n",
    "classifier.fit(X_train, y_train, 0.1, 200)"
   ]
  },
  {
   "cell_type": "markdown",
   "id": "598580c2",
   "metadata": {},
   "source": [
    "### Evaluation"
   ]
  },
  {
   "cell_type": "code",
   "execution_count": 42,
   "id": "c8a6dd82",
   "metadata": {
    "scrolled": true
   },
   "outputs": [
    {
     "name": "stdout",
     "output_type": "stream",
     "text": [
      "cost: 0.271\n",
      "accuracy: 0.912\n"
     ]
    }
   ],
   "source": [
    "result = classifier.get_accuracy_cost(X_test, y_test)\n",
    "\n",
    "print(f\"cost: {result[1]:.3f}\")\n",
    "print(f\"accuracy: {result[0]:.3f}\")"
   ]
  },
  {
   "cell_type": "markdown",
   "id": "5fe28c3c",
   "metadata": {},
   "source": [
    "## Bonus: Vanilla gradient descent vs mini batch gradient descent"
   ]
  },
  {
   "cell_type": "markdown",
   "id": "32c0b02f",
   "metadata": {},
   "source": [
    "The following is the same neural network with the same architecture but with mini batch gradient descent instead of vanilla gradient descent"
   ]
  },
  {
   "cell_type": "code",
   "execution_count": 43,
   "id": "65243079",
   "metadata": {},
   "outputs": [],
   "source": [
    "class NeuralNetwork_batch():\n",
    "    \n",
    "    def initialize(self):\n",
    "        self.w11, self.w12, self.w13, self.w14, self.w21, self.w22, self.b11, self.b12, self.b2 = np.random.randn(9)\n",
    "    \n",
    "    def relu(self, x):\n",
    "        return np.maximum(x, 0)\n",
    "    \n",
    "    def sigmoid(self, x):\n",
    "        return 1/(1+np.exp(-x))\n",
    "    \n",
    "    def binary_cross_entropy(self, x, y_true):\n",
    "        return -(y_true * np.log(x) + (1 - y_true) * np.log(1 - x))\n",
    "    \n",
    "    def derivative_relu(self, x):\n",
    "        return 1 if x>0 else 0\n",
    "    \n",
    "    def forward_prop(self, x1, x2):\n",
    "        forward_dict = {} \n",
    "        \n",
    "        # hidden layer\n",
    "        forward_dict[\"z11\"] = self.w11 * x1 + self.w12 * x2 + self.b11\n",
    "        forward_dict[\"z12\"] = self.w13 * x1 + self.w14 * x2 + self.b12\n",
    "        forward_dict[\"a11\"] = self.relu(forward_dict[\"z11\"])\n",
    "        forward_dict[\"a12\"] = self.relu(forward_dict[\"z12\"])\n",
    "        \n",
    "        # output layer\n",
    "        forward_dict[\"z2\"] = self.w21 * forward_dict[\"a11\"] + self.w22 * forward_dict[\"a12\"] + self.b2\n",
    "        forward_dict[\"a2\"] = self.sigmoid(forward_dict[\"z2\"])\n",
    "        \n",
    "        return forward_dict\n",
    "\n",
    "    def back_prop(self, x1, x2, y_true, forward_dict):\n",
    "        # gradient will be calculated for each training example and averaged later#\n",
    "        \n",
    "        deriva_dict = {}\n",
    "        \n",
    "        # output layer\n",
    "        error = forward_dict[\"a2\"] - y_true\n",
    "        \n",
    "        deriva_dict[\"dloss_dw21\"] = forward_dict[\"a11\"] * error\n",
    "        deriva_dict[\"dloss_dw22\"] = forward_dict[\"a12\"] * error\n",
    "        deriva_dict[\"dloss_db2\"] = error\n",
    "        \n",
    "        # hidden layer\n",
    "        dcost_dz11 = self.derivative_relu(forward_dict[\"z11\"]) * self.w21 * error\n",
    "        dcost_dz12 = self.derivative_relu(forward_dict[\"z12\"]) * self.w22 * error\n",
    "        \n",
    "        deriva_dict[\"dloss_dw11\"] = x1 * dcost_dz11\n",
    "        deriva_dict[\"dloss_dw12\"] = x2 * dcost_dz11\n",
    "        deriva_dict[\"dloss_db11\"] = dcost_dz11\n",
    "        \n",
    "        deriva_dict[\"dloss_dw13\"] = x1 * dcost_dz12\n",
    "        deriva_dict[\"dloss_dw14\"] = x2 * dcost_dz12\n",
    "        deriva_dict[\"dloss_db12\"] = dcost_dz12\n",
    "        \n",
    "        return deriva_dict\n",
    "    \n",
    "    def get_prob_class(self, x1, x2):\n",
    "        prob = self.forward_prop(x1, x2)[\"a2\"]\n",
    "        class_ = self.encode_class(prob)\n",
    "        return prob, class_\n",
    "    \n",
    "    def encode_class(self, x):\n",
    "        return 1 if x>0.5 else 0\n",
    "    \n",
    "    def get_accuracy_cost(self, X, y):\n",
    "        n = X.shape[0]\n",
    "        n_correct = 0\n",
    "        cost_total = 0\n",
    "        for i in range(n):\n",
    "            x1, x2 = X[i]\n",
    "            prediction = self.get_prob_class(x1, x2)\n",
    "            if prediction[1] == y[i][0]:\n",
    "                n_correct += 1\n",
    "            cost_total += self.binary_cross_entropy(prediction[0], y[i][0])\n",
    "        return n_correct/n, cost_total/n\n",
    "\n",
    "    def fit(self, X, y, alpha, epochs, batch_size=32):\n",
    "        n, m = X.shape\n",
    "        combined = np.hstack([X, y])\n",
    "        self.initialize()\n",
    "        n_iter_batch = np.ceil(n/batch_size)  # Number of training iteration for one epoch\n",
    "        \n",
    "\n",
    "        for i in range(1, epochs+1):\n",
    "            dcost_dw21 = 0\n",
    "            dcost_dw22 = 0\n",
    "            dcost_db2 = 0\n",
    "            dcost_dw11 = 0\n",
    "            dcost_dw12 = 0\n",
    "            dcost_db11 = 0\n",
    "            dcost_dw13 = 0\n",
    "            dcost_dw14 = 0\n",
    "            dcost_db12 = 0\n",
    "            \n",
    "            #Shuffled the dataset before splitting\n",
    "            combined_shuffled = np.random.permutation(combined)\n",
    "            X_shuffled = combined_shuffled[:, 0:-1]\n",
    "            y_shuffled = combined_shuffled[:, -1].reshape(-1, 1)\n",
    "            \n",
    "            costs_batch = 0\n",
    "            accuracies_batch = 0\n",
    "            for k in tqdm(range(0, n, batch_size), position=0):\n",
    "                X_batch = X_shuffled[k: k+batch_size]\n",
    "                y_batch = y_shuffled[k: k+batch_size]\n",
    "                n_batch = X_batch.shape[0]\n",
    "            \n",
    "                for j in range(n_batch):\n",
    "                    x1 , x2 = X_batch[j]\n",
    "                    y_true = y_batch[j][0]\n",
    "                    forward_prop = self.forward_prop(x1, x2)\n",
    "                    back_prop = self.back_prop(x1, x2, y_true, forward_prop)\n",
    "\n",
    "                    dcost_dw21 += back_prop[\"dloss_dw21\"]\n",
    "                    dcost_dw22 += back_prop[\"dloss_dw22\"]\n",
    "                    dcost_db2 += back_prop[\"dloss_db2\"]\n",
    "                    dcost_dw11 += back_prop[\"dloss_dw11\"]\n",
    "                    dcost_dw12 += back_prop[\"dloss_dw12\"]\n",
    "                    dcost_db11 += back_prop[\"dloss_db11\"]\n",
    "                    dcost_dw13 += back_prop[\"dloss_dw13\"]\n",
    "                    dcost_dw14 += back_prop[\"dloss_dw14\"]\n",
    "                    dcost_db12 += back_prop[\"dloss_db12\"]\n",
    "\n",
    "                self.w21 -= alpha*(1/n)*dcost_dw21 \n",
    "                self.w22 -= alpha*(1/n)*dcost_dw22 \n",
    "                self.b2  -= alpha*(1/n)*dcost_db2\n",
    "                self.w11 -= alpha*(1/n)*dcost_dw11 \n",
    "                self.w12 -= alpha*(1/n)*dcost_dw12 \n",
    "                self.b11 -= alpha*(1/n)*dcost_db11\n",
    "                self.w13 -= alpha*(1/n)*dcost_dw13\n",
    "                self.w14 -= alpha*(1/n)*dcost_dw14\n",
    "                self.b12 -= alpha*(1/n)*dcost_db12\n",
    "\n",
    "                accuracy, cost = self.get_accuracy_cost(X_batch, y_batch)\n",
    "                costs_batch += cost\n",
    "                accuracies_batch += accuracy\n",
    "            \n",
    "            # Reported cost and accuracy are averaged across the mini batch\n",
    "            # of a given epoch\n",
    "            epoch_cost = costs_batch/n_iter_batch\n",
    "            epoch_accuracy = accuracies_batch/n_iter_batch\n",
    "            print(f\"epoch: {i}, cost: {epoch_cost:.4f}, accuracy: {epoch_accuracy:.2f}%\")"
   ]
  },
  {
   "cell_type": "markdown",
   "id": "672481ba",
   "metadata": {},
   "source": [
    "### Training using small epoch (30)"
   ]
  },
  {
   "cell_type": "markdown",
   "id": "1dc64ef6",
   "metadata": {},
   "source": [
    "#### With mini batch"
   ]
  },
  {
   "cell_type": "code",
   "execution_count": 44,
   "id": "3d365253",
   "metadata": {},
   "outputs": [
    {
     "name": "stderr",
     "output_type": "stream",
     "text": [
      "100%|█████████████████████████████████████████████████████████████████████████████████| 15/15 [00:00<00:00, 219.94it/s]\n"
     ]
    },
    {
     "name": "stdout",
     "output_type": "stream",
     "text": [
      "epoch: 1, cost: 0.7474, accuracy: 0.58%\n"
     ]
    },
    {
     "name": "stderr",
     "output_type": "stream",
     "text": [
      "100%|█████████████████████████████████████████████████████████████████████████████████| 15/15 [00:00<00:00, 397.41it/s]\n"
     ]
    },
    {
     "name": "stdout",
     "output_type": "stream",
     "text": [
      "epoch: 2, cost: 0.6676, accuracy: 0.64%\n"
     ]
    },
    {
     "name": "stderr",
     "output_type": "stream",
     "text": [
      "100%|█████████████████████████████████████████████████████████████████████████████████| 15/15 [00:00<00:00, 408.10it/s]\n"
     ]
    },
    {
     "name": "stdout",
     "output_type": "stream",
     "text": [
      "epoch: 3, cost: 0.5986, accuracy: 0.69%\n"
     ]
    },
    {
     "name": "stderr",
     "output_type": "stream",
     "text": [
      "100%|█████████████████████████████████████████████████████████████████████████████████| 15/15 [00:00<00:00, 397.38it/s]\n"
     ]
    },
    {
     "name": "stdout",
     "output_type": "stream",
     "text": [
      "epoch: 4, cost: 0.5489, accuracy: 0.75%\n"
     ]
    },
    {
     "name": "stderr",
     "output_type": "stream",
     "text": [
      "100%|█████████████████████████████████████████████████████████████████████████████████| 15/15 [00:00<00:00, 264.92it/s]\n"
     ]
    },
    {
     "name": "stdout",
     "output_type": "stream",
     "text": [
      "epoch: 5, cost: 0.4603, accuracy: 0.84%\n"
     ]
    },
    {
     "name": "stderr",
     "output_type": "stream",
     "text": [
      "100%|█████████████████████████████████████████████████████████████████████████████████| 15/15 [00:00<00:00, 335.57it/s]\n"
     ]
    },
    {
     "name": "stdout",
     "output_type": "stream",
     "text": [
      "epoch: 6, cost: 0.4302, accuracy: 0.85%\n"
     ]
    },
    {
     "name": "stderr",
     "output_type": "stream",
     "text": [
      "100%|█████████████████████████████████████████████████████████████████████████████████| 15/15 [00:00<00:00, 324.44it/s]\n"
     ]
    },
    {
     "name": "stdout",
     "output_type": "stream",
     "text": [
      "epoch: 7, cost: 0.4108, accuracy: 0.86%\n"
     ]
    },
    {
     "name": "stderr",
     "output_type": "stream",
     "text": [
      "100%|█████████████████████████████████████████████████████████████████████████████████| 15/15 [00:00<00:00, 299.98it/s]\n"
     ]
    },
    {
     "name": "stdout",
     "output_type": "stream",
     "text": [
      "epoch: 8, cost: 0.3749, accuracy: 0.89%\n"
     ]
    },
    {
     "name": "stderr",
     "output_type": "stream",
     "text": [
      "100%|█████████████████████████████████████████████████████████████████████████████████| 15/15 [00:00<00:00, 235.95it/s]\n"
     ]
    },
    {
     "name": "stdout",
     "output_type": "stream",
     "text": [
      "epoch: 9, cost: 0.3669, accuracy: 0.90%\n"
     ]
    },
    {
     "name": "stderr",
     "output_type": "stream",
     "text": [
      "100%|█████████████████████████████████████████████████████████████████████████████████| 15/15 [00:00<00:00, 224.76it/s]\n"
     ]
    },
    {
     "name": "stdout",
     "output_type": "stream",
     "text": [
      "epoch: 10, cost: 0.3573, accuracy: 0.88%\n"
     ]
    },
    {
     "name": "stderr",
     "output_type": "stream",
     "text": [
      "100%|█████████████████████████████████████████████████████████████████████████████████| 15/15 [00:00<00:00, 297.74it/s]\n"
     ]
    },
    {
     "name": "stdout",
     "output_type": "stream",
     "text": [
      "epoch: 11, cost: 0.3637, accuracy: 0.87%\n"
     ]
    },
    {
     "name": "stderr",
     "output_type": "stream",
     "text": [
      "100%|█████████████████████████████████████████████████████████████████████████████████| 15/15 [00:00<00:00, 274.56it/s]\n"
     ]
    },
    {
     "name": "stdout",
     "output_type": "stream",
     "text": [
      "epoch: 12, cost: 0.3343, accuracy: 0.89%\n"
     ]
    },
    {
     "name": "stderr",
     "output_type": "stream",
     "text": [
      "100%|█████████████████████████████████████████████████████████████████████████████████| 15/15 [00:00<00:00, 259.33it/s]\n"
     ]
    },
    {
     "name": "stdout",
     "output_type": "stream",
     "text": [
      "epoch: 13, cost: 0.3280, accuracy: 0.90%\n"
     ]
    },
    {
     "name": "stderr",
     "output_type": "stream",
     "text": [
      "100%|█████████████████████████████████████████████████████████████████████████████████| 15/15 [00:00<00:00, 413.36it/s]\n"
     ]
    },
    {
     "name": "stdout",
     "output_type": "stream",
     "text": [
      "epoch: 14, cost: 0.3281, accuracy: 0.89%\n"
     ]
    },
    {
     "name": "stderr",
     "output_type": "stream",
     "text": [
      "100%|█████████████████████████████████████████████████████████████████████████████████| 15/15 [00:00<00:00, 271.54it/s]\n"
     ]
    },
    {
     "name": "stdout",
     "output_type": "stream",
     "text": [
      "epoch: 15, cost: 0.3102, accuracy: 0.90%\n"
     ]
    },
    {
     "name": "stderr",
     "output_type": "stream",
     "text": [
      "100%|█████████████████████████████████████████████████████████████████████████████████| 15/15 [00:00<00:00, 395.04it/s]\n"
     ]
    },
    {
     "name": "stdout",
     "output_type": "stream",
     "text": [
      "epoch: 16, cost: 0.3172, accuracy: 0.89%\n"
     ]
    },
    {
     "name": "stderr",
     "output_type": "stream",
     "text": [
      "100%|█████████████████████████████████████████████████████████████████████████████████| 15/15 [00:00<00:00, 305.94it/s]\n"
     ]
    },
    {
     "name": "stdout",
     "output_type": "stream",
     "text": [
      "epoch: 17, cost: 0.3055, accuracy: 0.90%\n"
     ]
    },
    {
     "name": "stderr",
     "output_type": "stream",
     "text": [
      "100%|█████████████████████████████████████████████████████████████████████████████████| 15/15 [00:00<00:00, 306.97it/s]\n"
     ]
    },
    {
     "name": "stdout",
     "output_type": "stream",
     "text": [
      "epoch: 18, cost: 0.3066, accuracy: 0.89%\n"
     ]
    },
    {
     "name": "stderr",
     "output_type": "stream",
     "text": [
      "100%|█████████████████████████████████████████████████████████████████████████████████| 15/15 [00:00<00:00, 274.56it/s]\n"
     ]
    },
    {
     "name": "stdout",
     "output_type": "stream",
     "text": [
      "epoch: 19, cost: 0.3021, accuracy: 0.89%\n"
     ]
    },
    {
     "name": "stderr",
     "output_type": "stream",
     "text": [
      "100%|█████████████████████████████████████████████████████████████████████████████████| 15/15 [00:00<00:00, 321.29it/s]\n"
     ]
    },
    {
     "name": "stdout",
     "output_type": "stream",
     "text": [
      "epoch: 20, cost: 0.2961, accuracy: 0.89%\n"
     ]
    },
    {
     "name": "stderr",
     "output_type": "stream",
     "text": [
      "100%|█████████████████████████████████████████████████████████████████████████████████| 15/15 [00:00<00:00, 292.03it/s]\n"
     ]
    },
    {
     "name": "stdout",
     "output_type": "stream",
     "text": [
      "epoch: 21, cost: 0.2993, accuracy: 0.89%\n"
     ]
    },
    {
     "name": "stderr",
     "output_type": "stream",
     "text": [
      "100%|█████████████████████████████████████████████████████████████████████████████████| 15/15 [00:00<00:00, 311.94it/s]\n"
     ]
    },
    {
     "name": "stdout",
     "output_type": "stream",
     "text": [
      "epoch: 22, cost: 0.3113, accuracy: 0.88%\n"
     ]
    },
    {
     "name": "stderr",
     "output_type": "stream",
     "text": [
      "100%|█████████████████████████████████████████████████████████████████████████████████| 15/15 [00:00<00:00, 296.00it/s]\n"
     ]
    },
    {
     "name": "stdout",
     "output_type": "stream",
     "text": [
      "epoch: 23, cost: 0.2980, accuracy: 0.89%\n"
     ]
    },
    {
     "name": "stderr",
     "output_type": "stream",
     "text": [
      "100%|█████████████████████████████████████████████████████████████████████████████████| 15/15 [00:00<00:00, 409.91it/s]\n"
     ]
    },
    {
     "name": "stdout",
     "output_type": "stream",
     "text": [
      "epoch: 24, cost: 0.2916, accuracy: 0.89%\n"
     ]
    },
    {
     "name": "stderr",
     "output_type": "stream",
     "text": [
      "100%|█████████████████████████████████████████████████████████████████████████████████| 15/15 [00:00<00:00, 284.93it/s]\n"
     ]
    },
    {
     "name": "stdout",
     "output_type": "stream",
     "text": [
      "epoch: 25, cost: 0.2856, accuracy: 0.89%\n"
     ]
    },
    {
     "name": "stderr",
     "output_type": "stream",
     "text": [
      "100%|█████████████████████████████████████████████████████████████████████████████████| 15/15 [00:00<00:00, 326.53it/s]\n"
     ]
    },
    {
     "name": "stdout",
     "output_type": "stream",
     "text": [
      "epoch: 26, cost: 0.2798, accuracy: 0.90%\n"
     ]
    },
    {
     "name": "stderr",
     "output_type": "stream",
     "text": [
      "100%|█████████████████████████████████████████████████████████████████████████████████| 15/15 [00:00<00:00, 358.02it/s]\n"
     ]
    },
    {
     "name": "stdout",
     "output_type": "stream",
     "text": [
      "epoch: 27, cost: 0.2757, accuracy: 0.90%\n"
     ]
    },
    {
     "name": "stderr",
     "output_type": "stream",
     "text": [
      "100%|█████████████████████████████████████████████████████████████████████████████████| 15/15 [00:00<00:00, 417.09it/s]\n"
     ]
    },
    {
     "name": "stdout",
     "output_type": "stream",
     "text": [
      "epoch: 28, cost: 0.2767, accuracy: 0.90%\n"
     ]
    },
    {
     "name": "stderr",
     "output_type": "stream",
     "text": [
      "100%|█████████████████████████████████████████████████████████████████████████████████| 15/15 [00:00<00:00, 380.40it/s]\n"
     ]
    },
    {
     "name": "stdout",
     "output_type": "stream",
     "text": [
      "epoch: 29, cost: 0.2776, accuracy: 0.90%\n"
     ]
    },
    {
     "name": "stderr",
     "output_type": "stream",
     "text": [
      "100%|█████████████████████████████████████████████████████████████████████████████████| 15/15 [00:00<00:00, 410.27it/s]"
     ]
    },
    {
     "name": "stdout",
     "output_type": "stream",
     "text": [
      "epoch: 30, cost: 0.2703, accuracy: 0.90%\n"
     ]
    },
    {
     "name": "stderr",
     "output_type": "stream",
     "text": [
      "\n"
     ]
    }
   ],
   "source": [
    "classifier_batch = NeuralNetwork_batch()\n",
    "classifier_batch.fit(X_train, y_train, 0.1, 30)"
   ]
  },
  {
   "cell_type": "markdown",
   "id": "e89f97e3",
   "metadata": {},
   "source": [
    "#### Without mini batch"
   ]
  },
  {
   "cell_type": "code",
   "execution_count": 45,
   "id": "15e1457e",
   "metadata": {},
   "outputs": [
    {
     "name": "stdout",
     "output_type": "stream",
     "text": [
      "epoch: 1, cost: 1.2479, accuracy: 63.52%\n",
      "epoch: 2, cost: 1.1778, accuracy: 63.52%\n",
      "epoch: 3, cost: 1.1152, accuracy: 63.52%\n",
      "epoch: 4, cost: 1.0593, accuracy: 63.52%\n",
      "epoch: 5, cost: 1.0093, accuracy: 63.52%\n",
      "epoch: 6, cost: 0.9645, accuracy: 63.52%\n",
      "epoch: 7, cost: 0.9243, accuracy: 63.52%\n",
      "epoch: 8, cost: 0.8883, accuracy: 63.52%\n",
      "epoch: 9, cost: 0.8559, accuracy: 63.52%\n",
      "epoch: 10, cost: 0.8268, accuracy: 63.52%\n",
      "epoch: 11, cost: 0.8004, accuracy: 63.52%\n",
      "epoch: 12, cost: 0.7764, accuracy: 63.52%\n",
      "epoch: 13, cost: 0.7547, accuracy: 63.52%\n",
      "epoch: 14, cost: 0.7349, accuracy: 63.52%\n",
      "epoch: 15, cost: 0.7168, accuracy: 63.52%\n",
      "epoch: 16, cost: 0.7002, accuracy: 63.52%\n",
      "epoch: 17, cost: 0.6850, accuracy: 63.52%\n",
      "epoch: 18, cost: 0.6710, accuracy: 63.52%\n",
      "epoch: 19, cost: 0.6580, accuracy: 63.52%\n",
      "epoch: 20, cost: 0.6459, accuracy: 63.52%\n",
      "epoch: 21, cost: 0.6347, accuracy: 63.52%\n",
      "epoch: 22, cost: 0.6242, accuracy: 63.52%\n",
      "epoch: 23, cost: 0.6144, accuracy: 63.52%\n",
      "epoch: 24, cost: 0.6052, accuracy: 63.52%\n",
      "epoch: 25, cost: 0.5965, accuracy: 63.52%\n",
      "epoch: 26, cost: 0.5883, accuracy: 63.52%\n",
      "epoch: 27, cost: 0.5806, accuracy: 63.52%\n",
      "epoch: 28, cost: 0.5732, accuracy: 63.52%\n",
      "epoch: 29, cost: 0.5662, accuracy: 63.52%\n",
      "epoch: 30, cost: 0.5596, accuracy: 63.74%\n"
     ]
    }
   ],
   "source": [
    "classifier = NeuralNetwork()\n",
    "classifier.fit(X_train, y_train, 0.1, 30)"
   ]
  },
  {
   "cell_type": "markdown",
   "id": "a93f3701",
   "metadata": {},
   "source": [
    "### Evaluation & Comparison"
   ]
  },
  {
   "cell_type": "markdown",
   "id": "cbd367ec",
   "metadata": {},
   "source": [
    "#### Without mini batch"
   ]
  },
  {
   "cell_type": "code",
   "execution_count": 47,
   "id": "692f6920",
   "metadata": {},
   "outputs": [
    {
     "name": "stdout",
     "output_type": "stream",
     "text": [
      "cost: 0.582\n",
      "accuracy: 0.596\n"
     ]
    }
   ],
   "source": [
    "classifier_vanilla = classifier.get_accuracy_cost(X_test, y_test)\n",
    "\n",
    "print(f\"cost: {classifier_vanilla[1]:.3f}\")\n",
    "print(f\"accuracy: {classifier_vanilla[0]:.3f}\")"
   ]
  },
  {
   "cell_type": "markdown",
   "id": "a81337c3",
   "metadata": {},
   "source": [
    "#### Without mini batch"
   ]
  },
  {
   "cell_type": "code",
   "execution_count": 48,
   "id": "7b9d9374",
   "metadata": {
    "scrolled": false
   },
   "outputs": [
    {
     "name": "stdout",
     "output_type": "stream",
     "text": [
      "cost: 0.262\n",
      "accuracy: 0.895\n"
     ]
    }
   ],
   "source": [
    "classifier_batch = classifier_batch.get_accuracy_cost(X_test, y_test)\n",
    "\n",
    "print(f\"cost: {classifier_batch[1]:.3f}\")\n",
    "print(f\"accuracy: {classifier_batch[0]:.3f}\")"
   ]
  },
  {
   "cell_type": "markdown",
   "id": "1ebcf361",
   "metadata": {},
   "source": [
    "It appears that, in the long run, mini batch gradient descent can achieve better metrics using less epoch, hence more efficient"
   ]
  },
  {
   "cell_type": "markdown",
   "id": "3b479547",
   "metadata": {},
   "source": [
    "# That's it. not bad at all :p"
   ]
  }
 ],
 "metadata": {
  "kernelspec": {
   "display_name": "Python 3 (ipykernel)",
   "language": "python",
   "name": "python3"
  },
  "language_info": {
   "codemirror_mode": {
    "name": "ipython",
    "version": 3
   },
   "file_extension": ".py",
   "mimetype": "text/x-python",
   "name": "python",
   "nbconvert_exporter": "python",
   "pygments_lexer": "ipython3",
   "version": "3.9.12"
  }
 },
 "nbformat": 4,
 "nbformat_minor": 5
}
