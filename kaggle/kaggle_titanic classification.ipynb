{
 "cells": [
  {
   "cell_type": "code",
   "execution_count": 3,
   "id": "a1a273ee",
   "metadata": {},
   "outputs": [],
   "source": [
    "import pandas as pd\n",
    "import numpy as np\n",
    "import matplotlib.pyplot as plt\n",
    "import sklearn\n",
    "import seaborn as sns"
   ]
  },
  {
   "cell_type": "markdown",
   "id": "d07db1b4",
   "metadata": {},
   "source": [
    "# Obj: Predict whether or not a person survive the titanic disaster using certain features in the titanic dataset"
   ]
  },
  {
   "cell_type": "markdown",
   "id": "cafb8598",
   "metadata": {},
   "source": [
    "Inspired by [this](https://www.linkedin.com/pulse/what-i-learned-analyzing-famous-titanic-dateset-murilo-gustineli/) post on linkedin : \n",
    "\n",
    "#### My original contribution:<br>\n",
    "##### Exploratory Data Analysis\n",
    "- I add some insights in the EDA and reword some of the existing insight\n",
    "- I change the formatting of the graphs to what I view to be more readable\n",
    "\n",
    "##### Feature Engineering\n",
    "- I simplify the feature engineering steps\n",
    "- I automate the feature engineering process using sklearn's Pipeline API\n",
    "\n",
    "##### Modelling\n",
    "- I try to make the model selection more \"robust\" by using kfold\n",
    "- I try testing and using different models\n",
    "\n",
    "##### Kaggle Result\n",
    "My best result is 0.7799, which is not that impressive hahaha, but ill take it"
   ]
  },
  {
   "cell_type": "markdown",
   "id": "df18a69b",
   "metadata": {},
   "source": [
    "#### Reading the training data"
   ]
  },
  {
   "cell_type": "code",
   "execution_count": 5,
   "id": "cebf8a37",
   "metadata": {},
   "outputs": [],
   "source": [
    "df = pd.read_csv(\"../datasets/train.csv\")"
   ]
  },
  {
   "cell_type": "markdown",
   "id": "bfd49cb6",
   "metadata": {},
   "source": [
    "## Exploratory Data Analysis"
   ]
  },
  {
   "cell_type": "code",
   "execution_count": 18,
   "id": "6d7a81a0",
   "metadata": {
    "scrolled": false
   },
   "outputs": [
    {
     "name": "stdout",
     "output_type": "stream",
     "text": [
      "<class 'pandas.core.frame.DataFrame'>\n",
      "RangeIndex: 891 entries, 0 to 890\n",
      "Data columns (total 12 columns):\n",
      " #   Column       Non-Null Count  Dtype  \n",
      "---  ------       --------------  -----  \n",
      " 0   PassengerId  891 non-null    int64  \n",
      " 1   Survived     891 non-null    int64  \n",
      " 2   Pclass       891 non-null    int64  \n",
      " 3   Name         891 non-null    object \n",
      " 4   Sex          891 non-null    object \n",
      " 5   Age          714 non-null    float64\n",
      " 6   SibSp        891 non-null    int64  \n",
      " 7   Parch        891 non-null    int64  \n",
      " 8   Ticket       891 non-null    object \n",
      " 9   Fare         891 non-null    float64\n",
      " 10  Cabin        204 non-null    object \n",
      " 11  Embarked     889 non-null    object \n",
      "dtypes: float64(2), int64(5), object(5)\n",
      "memory usage: 83.7+ KB\n"
     ]
    }
   ],
   "source": [
    "df.info()"
   ]
  },
  {
   "cell_type": "code",
   "execution_count": 19,
   "id": "fe83fc9b",
   "metadata": {
    "scrolled": false
   },
   "outputs": [
    {
     "data": {
      "text/html": [
       "<div>\n",
       "<style scoped>\n",
       "    .dataframe tbody tr th:only-of-type {\n",
       "        vertical-align: middle;\n",
       "    }\n",
       "\n",
       "    .dataframe tbody tr th {\n",
       "        vertical-align: top;\n",
       "    }\n",
       "\n",
       "    .dataframe thead th {\n",
       "        text-align: right;\n",
       "    }\n",
       "</style>\n",
       "<table border=\"1\" class=\"dataframe\">\n",
       "  <thead>\n",
       "    <tr style=\"text-align: right;\">\n",
       "      <th></th>\n",
       "      <th>PassengerId</th>\n",
       "      <th>Survived</th>\n",
       "      <th>Pclass</th>\n",
       "      <th>Age</th>\n",
       "      <th>SibSp</th>\n",
       "      <th>Parch</th>\n",
       "      <th>Fare</th>\n",
       "    </tr>\n",
       "  </thead>\n",
       "  <tbody>\n",
       "    <tr>\n",
       "      <th>count</th>\n",
       "      <td>891.000000</td>\n",
       "      <td>891.000000</td>\n",
       "      <td>891.000000</td>\n",
       "      <td>714.000000</td>\n",
       "      <td>891.000000</td>\n",
       "      <td>891.000000</td>\n",
       "      <td>891.000000</td>\n",
       "    </tr>\n",
       "    <tr>\n",
       "      <th>mean</th>\n",
       "      <td>446.000000</td>\n",
       "      <td>0.383838</td>\n",
       "      <td>2.308642</td>\n",
       "      <td>29.699118</td>\n",
       "      <td>0.523008</td>\n",
       "      <td>0.381594</td>\n",
       "      <td>32.204208</td>\n",
       "    </tr>\n",
       "    <tr>\n",
       "      <th>std</th>\n",
       "      <td>257.353842</td>\n",
       "      <td>0.486592</td>\n",
       "      <td>0.836071</td>\n",
       "      <td>14.526497</td>\n",
       "      <td>1.102743</td>\n",
       "      <td>0.806057</td>\n",
       "      <td>49.693429</td>\n",
       "    </tr>\n",
       "    <tr>\n",
       "      <th>min</th>\n",
       "      <td>1.000000</td>\n",
       "      <td>0.000000</td>\n",
       "      <td>1.000000</td>\n",
       "      <td>0.420000</td>\n",
       "      <td>0.000000</td>\n",
       "      <td>0.000000</td>\n",
       "      <td>0.000000</td>\n",
       "    </tr>\n",
       "    <tr>\n",
       "      <th>25%</th>\n",
       "      <td>223.500000</td>\n",
       "      <td>0.000000</td>\n",
       "      <td>2.000000</td>\n",
       "      <td>20.125000</td>\n",
       "      <td>0.000000</td>\n",
       "      <td>0.000000</td>\n",
       "      <td>7.910400</td>\n",
       "    </tr>\n",
       "    <tr>\n",
       "      <th>50%</th>\n",
       "      <td>446.000000</td>\n",
       "      <td>0.000000</td>\n",
       "      <td>3.000000</td>\n",
       "      <td>28.000000</td>\n",
       "      <td>0.000000</td>\n",
       "      <td>0.000000</td>\n",
       "      <td>14.454200</td>\n",
       "    </tr>\n",
       "    <tr>\n",
       "      <th>75%</th>\n",
       "      <td>668.500000</td>\n",
       "      <td>1.000000</td>\n",
       "      <td>3.000000</td>\n",
       "      <td>38.000000</td>\n",
       "      <td>1.000000</td>\n",
       "      <td>0.000000</td>\n",
       "      <td>31.000000</td>\n",
       "    </tr>\n",
       "    <tr>\n",
       "      <th>max</th>\n",
       "      <td>891.000000</td>\n",
       "      <td>1.000000</td>\n",
       "      <td>3.000000</td>\n",
       "      <td>80.000000</td>\n",
       "      <td>8.000000</td>\n",
       "      <td>6.000000</td>\n",
       "      <td>512.329200</td>\n",
       "    </tr>\n",
       "  </tbody>\n",
       "</table>\n",
       "</div>"
      ],
      "text/plain": [
       "       PassengerId    Survived      Pclass         Age       SibSp  \\\n",
       "count   891.000000  891.000000  891.000000  714.000000  891.000000   \n",
       "mean    446.000000    0.383838    2.308642   29.699118    0.523008   \n",
       "std     257.353842    0.486592    0.836071   14.526497    1.102743   \n",
       "min       1.000000    0.000000    1.000000    0.420000    0.000000   \n",
       "25%     223.500000    0.000000    2.000000   20.125000    0.000000   \n",
       "50%     446.000000    0.000000    3.000000   28.000000    0.000000   \n",
       "75%     668.500000    1.000000    3.000000   38.000000    1.000000   \n",
       "max     891.000000    1.000000    3.000000   80.000000    8.000000   \n",
       "\n",
       "            Parch        Fare  \n",
       "count  891.000000  891.000000  \n",
       "mean     0.381594   32.204208  \n",
       "std      0.806057   49.693429  \n",
       "min      0.000000    0.000000  \n",
       "25%      0.000000    7.910400  \n",
       "50%      0.000000   14.454200  \n",
       "75%      0.000000   31.000000  \n",
       "max      6.000000  512.329200  "
      ]
     },
     "execution_count": 19,
     "metadata": {},
     "output_type": "execute_result"
    }
   ],
   "source": [
    "df.describe()"
   ]
  },
  {
   "cell_type": "markdown",
   "id": "fa2c8fe1",
   "metadata": {},
   "source": [
    "#### Detecting the outlier in the fare column"
   ]
  },
  {
   "cell_type": "code",
   "execution_count": 20,
   "id": "7dc3096f",
   "metadata": {
    "scrolled": false
   },
   "outputs": [
    {
     "data": {
      "text/html": [
       "<div>\n",
       "<style scoped>\n",
       "    .dataframe tbody tr th:only-of-type {\n",
       "        vertical-align: middle;\n",
       "    }\n",
       "\n",
       "    .dataframe tbody tr th {\n",
       "        vertical-align: top;\n",
       "    }\n",
       "\n",
       "    .dataframe thead th {\n",
       "        text-align: right;\n",
       "    }\n",
       "</style>\n",
       "<table border=\"1\" class=\"dataframe\">\n",
       "  <thead>\n",
       "    <tr style=\"text-align: right;\">\n",
       "      <th></th>\n",
       "      <th>PassengerId</th>\n",
       "      <th>Survived</th>\n",
       "      <th>Pclass</th>\n",
       "      <th>Name</th>\n",
       "      <th>Sex</th>\n",
       "      <th>Age</th>\n",
       "      <th>SibSp</th>\n",
       "      <th>Parch</th>\n",
       "      <th>Ticket</th>\n",
       "      <th>Fare</th>\n",
       "      <th>Cabin</th>\n",
       "      <th>Embarked</th>\n",
       "    </tr>\n",
       "  </thead>\n",
       "  <tbody>\n",
       "    <tr>\n",
       "      <th>258</th>\n",
       "      <td>259</td>\n",
       "      <td>1</td>\n",
       "      <td>1</td>\n",
       "      <td>Ward, Miss. Anna</td>\n",
       "      <td>female</td>\n",
       "      <td>35.0</td>\n",
       "      <td>0</td>\n",
       "      <td>0</td>\n",
       "      <td>PC 17755</td>\n",
       "      <td>512.3292</td>\n",
       "      <td>NaN</td>\n",
       "      <td>C</td>\n",
       "    </tr>\n",
       "    <tr>\n",
       "      <th>679</th>\n",
       "      <td>680</td>\n",
       "      <td>1</td>\n",
       "      <td>1</td>\n",
       "      <td>Cardeza, Mr. Thomas Drake Martinez</td>\n",
       "      <td>male</td>\n",
       "      <td>36.0</td>\n",
       "      <td>0</td>\n",
       "      <td>1</td>\n",
       "      <td>PC 17755</td>\n",
       "      <td>512.3292</td>\n",
       "      <td>B51 B53 B55</td>\n",
       "      <td>C</td>\n",
       "    </tr>\n",
       "    <tr>\n",
       "      <th>737</th>\n",
       "      <td>738</td>\n",
       "      <td>1</td>\n",
       "      <td>1</td>\n",
       "      <td>Lesurer, Mr. Gustave J</td>\n",
       "      <td>male</td>\n",
       "      <td>35.0</td>\n",
       "      <td>0</td>\n",
       "      <td>0</td>\n",
       "      <td>PC 17755</td>\n",
       "      <td>512.3292</td>\n",
       "      <td>B101</td>\n",
       "      <td>C</td>\n",
       "    </tr>\n",
       "  </tbody>\n",
       "</table>\n",
       "</div>"
      ],
      "text/plain": [
       "     PassengerId  Survived  Pclass                                Name  \\\n",
       "258          259         1       1                    Ward, Miss. Anna   \n",
       "679          680         1       1  Cardeza, Mr. Thomas Drake Martinez   \n",
       "737          738         1       1              Lesurer, Mr. Gustave J   \n",
       "\n",
       "        Sex   Age  SibSp  Parch    Ticket      Fare        Cabin Embarked  \n",
       "258  female  35.0      0      0  PC 17755  512.3292          NaN        C  \n",
       "679    male  36.0      0      1  PC 17755  512.3292  B51 B53 B55        C  \n",
       "737    male  35.0      0      0  PC 17755  512.3292         B101        C  "
      ]
     },
     "execution_count": 20,
     "metadata": {},
     "output_type": "execute_result"
    }
   ],
   "source": [
    "df[df[\"Fare\"]==df[\"Fare\"].max()]"
   ]
  },
  {
   "cell_type": "markdown",
   "id": "dae21449",
   "metadata": {},
   "source": [
    "#### Correlation heatmap between numerical features"
   ]
  },
  {
   "cell_type": "code",
   "execution_count": 21,
   "id": "2518e219",
   "metadata": {
    "scrolled": true
   },
   "outputs": [
    {
     "data": {
      "image/png": "[encoded data removed]",
      "text/plain": [
       "<Figure size 480x320 with 2 Axes>"
      ]
     },
     "metadata": {
      "needs_background": "light"
     },
     "output_type": "display_data"
    }
   ],
   "source": [
    "fig, ax = plt.subplots(dpi=80)\n",
    "\n",
    "sns.heatmap(df.corr(numeric_only=True), annot=True, ax=ax)\n",
    "plt.show()"
   ]
  },
  {
   "cell_type": "markdown",
   "id": "63ce50ee",
   "metadata": {},
   "source": [
    "- There is a moderate positive correlation between SibSp (number of sibling) and Parch (number of parent)\n",
    "- There is a moderate negative correlation between Fare and Pclass"
   ]
  },
  {
   "cell_type": "markdown",
   "id": "f20b3bc1",
   "metadata": {},
   "source": [
    "#### survivability based on title"
   ]
  },
  {
   "cell_type": "code",
   "execution_count": 22,
   "id": "c9fe75af",
   "metadata": {},
   "outputs": [
    {
     "name": "stderr",
     "output_type": "stream",
     "text": [
      "C:\\Users\\USER\\AppData\\Local\\Temp\\ipykernel_5884\\4173807647.py:9: UserWarning: FixedFormatter should only be used together with FixedLocator\n",
      "  ax.set_xticklabels(df_title.index, rotation = 50)\n"
     ]
    },
    {
     "data": {
      "image/png": "[encoded data removed]",
      "text/plain": [
       "<Figure size 1080x360 with 1 Axes>"
      ]
     },
     "metadata": {
      "needs_background": "light"
     },
     "output_type": "display_data"
    }
   ],
   "source": [
    "df_title = df.copy()\n",
    "df_title[\"titles\"] = df[\"Name\"].str.extract(' ([A-Za-z]+)\\.')  # Regex created by ChatGPT :p\n",
    "\n",
    "df_title = df_title.groupby(\"titles\")[\"Survived\"].agg([\"count\", \"sum\", \"mean\"])\n",
    "\n",
    "fig, ax = plt.subplots(figsize=(15,5))\n",
    "ax.bar(df_title.index, df_title[\"count\"], alpha=0.5, label=\"total\")\n",
    "ax.bar(df_title.index, df_title[\"sum\"], alpha=0.5, label=\"survived\")\n",
    "ax.set_xticklabels(df_title.index, rotation = 50)\n",
    "ax.set_xlabel(\"title\")\n",
    "ax.set_ylabel(\"n_people\")\n",
    "ax.set_title(\"survivability across titles\")\n",
    "ax.legend()\n",
    "plt.show()"
   ]
  },
  {
   "cell_type": "markdown",
   "id": "cf8bc9d6",
   "metadata": {},
   "source": [
    "- Passengers with Mr title is least likely to survive\n",
    "- Passengener with Miss and Mrs titile have a relatively high chance of surviving\n",
    "- Passengers with Master as title have 50-50 survival chance\n",
    "- Other titles are somewhat insignificant in number"
   ]
  },
  {
   "cell_type": "markdown",
   "id": "a9c0cf9f",
   "metadata": {},
   "source": [
    "#### survivability based on sex"
   ]
  },
  {
   "cell_type": "code",
   "execution_count": 23,
   "id": "4a52c38a",
   "metadata": {
    "scrolled": false
   },
   "outputs": [
    {
     "data": {
      "text/html": [
       "<div>\n",
       "<style scoped>\n",
       "    .dataframe tbody tr th:only-of-type {\n",
       "        vertical-align: middle;\n",
       "    }\n",
       "\n",
       "    .dataframe tbody tr th {\n",
       "        vertical-align: top;\n",
       "    }\n",
       "\n",
       "    .dataframe thead th {\n",
       "        text-align: right;\n",
       "    }\n",
       "</style>\n",
       "<table border=\"1\" class=\"dataframe\">\n",
       "  <thead>\n",
       "    <tr style=\"text-align: right;\">\n",
       "      <th></th>\n",
       "      <th>n_pass</th>\n",
       "      <th>n_survived</th>\n",
       "      <th>%_survived</th>\n",
       "    </tr>\n",
       "    <tr>\n",
       "      <th>Sex</th>\n",
       "      <th></th>\n",
       "      <th></th>\n",
       "      <th></th>\n",
       "    </tr>\n",
       "  </thead>\n",
       "  <tbody>\n",
       "    <tr>\n",
       "      <th>female</th>\n",
       "      <td>314</td>\n",
       "      <td>233</td>\n",
       "      <td>74.203822</td>\n",
       "    </tr>\n",
       "    <tr>\n",
       "      <th>male</th>\n",
       "      <td>577</td>\n",
       "      <td>109</td>\n",
       "      <td>18.890815</td>\n",
       "    </tr>\n",
       "  </tbody>\n",
       "</table>\n",
       "</div>"
      ],
      "text/plain": [
       "        n_pass  n_survived  %_survived\n",
       "Sex                                   \n",
       "female     314         233   74.203822\n",
       "male       577         109   18.890815"
      ]
     },
     "execution_count": 23,
     "metadata": {},
     "output_type": "execute_result"
    }
   ],
   "source": [
    "sex = df.groupby(\"Sex\")[\"Survived\"].agg([\"count\", \"sum\", \"mean\"])\n",
    "sex[\"mean\"] = sex[\"mean\"] * 100\n",
    "sex = sex.rename({\"count\":\"n_pass\", \"sum\":\"n_survived\", \"mean\":\"%_survived\"}, axis=\"columns\")\n",
    "sex"
   ]
  },
  {
   "cell_type": "markdown",
   "id": "927b47c5",
   "metadata": {},
   "source": [
    "- female has significantly larger chance of survival\n",
    "- sex will have high collinearity with title"
   ]
  },
  {
   "cell_type": "markdown",
   "id": "d06b7028",
   "metadata": {},
   "source": [
    "#### Survivability based on age"
   ]
  },
  {
   "cell_type": "code",
   "execution_count": 24,
   "id": "46d4afbe",
   "metadata": {
    "scrolled": true
   },
   "outputs": [
    {
     "data": {
      "image/png": "[encoded data removed]",
      "text/plain": [
       "<Figure size 432x288 with 1 Axes>"
      ]
     },
     "metadata": {
      "needs_background": "light"
     },
     "output_type": "display_data"
    }
   ],
   "source": [
    "fig, ax = plt.subplots()\n",
    "survived = df[df[\"Survived\"]==1]\n",
    "ax.hist(df[\"Age\"], bins=np.arange(0, 81, 5), alpha=0.5, label=\"total\")\n",
    "ax.hist(survived[\"Age\"], bins=np.arange(0, 81, 5), alpha=0.5, label=\"survived\")\n",
    "ax.set_xlabel(\"age\")\n",
    "ax.set_ylabel(\"n_people\")\n",
    "ax.set_title(\"survivability across age\")\n",
    "ax.legend()\n",
    "plt.show()"
   ]
  },
  {
   "cell_type": "markdown",
   "id": "8f026049",
   "metadata": {},
   "source": [
    "- Passengers aged 0-15 has the highest probability of surviving\n",
    "- Passengers aged 16-40 has the lowest probability of surviving\n",
    "- Passengers aged 41-65 is somewhere in the middle\n",
    "- Passengers aged 66-80 has pretty low probability of surviving"
   ]
  },
  {
   "cell_type": "markdown",
   "id": "8de1d31b",
   "metadata": {},
   "source": [
    "#### Survivability based on fares"
   ]
  },
  {
   "cell_type": "code",
   "execution_count": 25,
   "id": "a09666b1",
   "metadata": {
    "scrolled": true
   },
   "outputs": [
    {
     "data": {
      "image/png": "[encoded data removed]",
      "text/plain": [
       "<Figure size 1224x360 with 1 Axes>"
      ]
     },
     "metadata": {
      "needs_background": "light"
     },
     "output_type": "display_data"
    }
   ],
   "source": [
    "fig, ax = plt.subplots(figsize=(17,5))\n",
    "survived = df[df[\"Survived\"]==1]\n",
    "ax.hist(df[\"Fare\"], alpha=0.5, bins=np.arange(0, 300, 5), label=\"total\")\n",
    "ax.hist(survived[\"Fare\"], alpha=0.5, bins=np.arange(0, 300, 5), label=\"survived\")\n",
    "ax.set_xlabel(\"fares\")\n",
    "ax.set_ylabel(\"n_people\")\n",
    "ax.set_title(\"survivability across fares\")\n",
    "ax.legend()\n",
    "plt.show()"
   ]
  },
  {
   "cell_type": "markdown",
   "id": "9c3ab6b1",
   "metadata": {},
   "source": [
    "- passengers with fare 0-15 has the lowest probabilty of surviving\n",
    "- passengers with fare 16-40 has modest probabilty of surviving\n",
    "- passengers with fare >41 has quite high probability of surviving"
   ]
  },
  {
   "cell_type": "markdown",
   "id": "b7bb968b",
   "metadata": {},
   "source": [
    "#### Survivability based on sex and age"
   ]
  },
  {
   "cell_type": "code",
   "execution_count": 26,
   "id": "127f5b32",
   "metadata": {
    "scrolled": true
   },
   "outputs": [
    {
     "data": {
      "image/png": "[encoded data removed]",
      "text/plain": [
       "<Figure size 1080x360 with 2 Axes>"
      ]
     },
     "metadata": {
      "needs_background": "light"
     },
     "output_type": "display_data"
    }
   ],
   "source": [
    "man = df[df[\"Sex\"]==\"male\"]\n",
    "woman = df[df[\"Sex\"]==\"female\"]\n",
    "\n",
    "survived_man = man[man[\"Survived\"]==1]\n",
    "survived_woman = woman[woman[\"Survived\"]==1]\n",
    "\n",
    "fig, ax = plt.subplots(1,2, figsize=(15, 5))\n",
    "\n",
    "ax[0].hist(man[\"Age\"], alpha=0.5, bins=np.arange(0, 81, 5), label=\"total\", edgecolor = \"white\")\n",
    "ax[0].hist(survived_man[\"Age\"], alpha=0.5, bins=np.arange(0, 81, 5), label=\"survived\", edgecolor = \"white\")\n",
    "ax[0].set_yticks(np.arange(0, 80, 5))\n",
    "ax[0].set_title(\"Man's survival across age\")\n",
    "ax[0].set_xlabel(\"Age\")\n",
    "ax[0].set_ylabel(\"n_people\")\n",
    "ax[0].legend()\n",
    "\n",
    "ax[1].hist(woman[\"Age\"], alpha=0.5, bins=np.arange(0, 81, 5), label=\"total\", edgecolor = \"white\")\n",
    "ax[1].hist(survived_woman[\"Age\"], alpha=0.5, bins=np.arange(0, 81, 5), label=\"survived\", edgecolor = \"white\")\n",
    "ax[1].set_yticks(np.arange(0, 80, 5))\n",
    "ax[1].set_title(\"Woman's survival across age\")\n",
    "ax[1].set_xlabel(\"Age\")\n",
    "ax[1].set_ylabel(\"n_people\")\n",
    "ax[1].legend()\n",
    "\n",
    "plt.show()"
   ]
  },
  {
   "cell_type": "markdown",
   "id": "f7e98c25",
   "metadata": {},
   "source": [
    "- There is interaction between age and sex, specifically men who are of the age 0-15 are much more likely to survive compared to other men"
   ]
  },
  {
   "cell_type": "markdown",
   "id": "83b148af",
   "metadata": {},
   "source": [
    "#### survivability based on embarkation"
   ]
  },
  {
   "cell_type": "code",
   "execution_count": 27,
   "id": "18b75f90",
   "metadata": {
    "scrolled": true
   },
   "outputs": [
    {
     "data": {
      "text/html": [
       "<div>\n",
       "<style scoped>\n",
       "    .dataframe tbody tr th:only-of-type {\n",
       "        vertical-align: middle;\n",
       "    }\n",
       "\n",
       "    .dataframe tbody tr th {\n",
       "        vertical-align: top;\n",
       "    }\n",
       "\n",
       "    .dataframe thead th {\n",
       "        text-align: right;\n",
       "    }\n",
       "</style>\n",
       "<table border=\"1\" class=\"dataframe\">\n",
       "  <thead>\n",
       "    <tr style=\"text-align: right;\">\n",
       "      <th></th>\n",
       "      <th>n_pass</th>\n",
       "      <th>n_survived</th>\n",
       "      <th>%_survived</th>\n",
       "    </tr>\n",
       "    <tr>\n",
       "      <th>Embarked</th>\n",
       "      <th></th>\n",
       "      <th></th>\n",
       "      <th></th>\n",
       "    </tr>\n",
       "  </thead>\n",
       "  <tbody>\n",
       "    <tr>\n",
       "      <th>C</th>\n",
       "      <td>168</td>\n",
       "      <td>93</td>\n",
       "      <td>55.357143</td>\n",
       "    </tr>\n",
       "    <tr>\n",
       "      <th>Q</th>\n",
       "      <td>77</td>\n",
       "      <td>30</td>\n",
       "      <td>38.961039</td>\n",
       "    </tr>\n",
       "    <tr>\n",
       "      <th>S</th>\n",
       "      <td>644</td>\n",
       "      <td>217</td>\n",
       "      <td>33.695652</td>\n",
       "    </tr>\n",
       "  </tbody>\n",
       "</table>\n",
       "</div>"
      ],
      "text/plain": [
       "          n_pass  n_survived  %_survived\n",
       "Embarked                                \n",
       "C            168          93   55.357143\n",
       "Q             77          30   38.961039\n",
       "S            644         217   33.695652"
      ]
     },
     "execution_count": 27,
     "metadata": {},
     "output_type": "execute_result"
    }
   ],
   "source": [
    "emb = df.groupby(\"Embarked\")[\"Survived\"].agg([\"count\", \"sum\", \"mean\"])\n",
    "emb[\"mean\"] = emb[\"mean\"] * 100\n",
    "emb = emb.rename({\"count\":\"n_pass\", \"sum\":\"n_survived\", \"mean\":\"%_survived\"}, axis=\"columns\")\n",
    "emb"
   ]
  },
  {
   "cell_type": "markdown",
   "id": "65b2f20a",
   "metadata": {},
   "source": [
    "- embarkation from C does not seem to give much information"
   ]
  },
  {
   "cell_type": "markdown",
   "id": "b5fc8d5a",
   "metadata": {},
   "source": [
    "#### survivability based on cabin"
   ]
  },
  {
   "cell_type": "code",
   "execution_count": 28,
   "id": "4f9d2935",
   "metadata": {
    "scrolled": false
   },
   "outputs": [
    {
     "data": {
      "text/html": [
       "<div>\n",
       "<style scoped>\n",
       "    .dataframe tbody tr th:only-of-type {\n",
       "        vertical-align: middle;\n",
       "    }\n",
       "\n",
       "    .dataframe tbody tr th {\n",
       "        vertical-align: top;\n",
       "    }\n",
       "\n",
       "    .dataframe thead th {\n",
       "        text-align: right;\n",
       "    }\n",
       "</style>\n",
       "<table border=\"1\" class=\"dataframe\">\n",
       "  <thead>\n",
       "    <tr style=\"text-align: right;\">\n",
       "      <th></th>\n",
       "      <th>n_pass</th>\n",
       "      <th>n_survived</th>\n",
       "      <th>%_survived</th>\n",
       "    </tr>\n",
       "    <tr>\n",
       "      <th>Cabin_strip</th>\n",
       "      <th></th>\n",
       "      <th></th>\n",
       "      <th></th>\n",
       "    </tr>\n",
       "  </thead>\n",
       "  <tbody>\n",
       "    <tr>\n",
       "      <th>A</th>\n",
       "      <td>15</td>\n",
       "      <td>7</td>\n",
       "      <td>46.666667</td>\n",
       "    </tr>\n",
       "    <tr>\n",
       "      <th>B</th>\n",
       "      <td>47</td>\n",
       "      <td>35</td>\n",
       "      <td>74.468085</td>\n",
       "    </tr>\n",
       "    <tr>\n",
       "      <th>C</th>\n",
       "      <td>59</td>\n",
       "      <td>35</td>\n",
       "      <td>59.322034</td>\n",
       "    </tr>\n",
       "    <tr>\n",
       "      <th>D</th>\n",
       "      <td>33</td>\n",
       "      <td>25</td>\n",
       "      <td>75.757576</td>\n",
       "    </tr>\n",
       "    <tr>\n",
       "      <th>E</th>\n",
       "      <td>32</td>\n",
       "      <td>24</td>\n",
       "      <td>75.000000</td>\n",
       "    </tr>\n",
       "    <tr>\n",
       "      <th>F</th>\n",
       "      <td>13</td>\n",
       "      <td>8</td>\n",
       "      <td>61.538462</td>\n",
       "    </tr>\n",
       "    <tr>\n",
       "      <th>G</th>\n",
       "      <td>4</td>\n",
       "      <td>2</td>\n",
       "      <td>50.000000</td>\n",
       "    </tr>\n",
       "    <tr>\n",
       "      <th>T</th>\n",
       "      <td>1</td>\n",
       "      <td>0</td>\n",
       "      <td>0.000000</td>\n",
       "    </tr>\n",
       "  </tbody>\n",
       "</table>\n",
       "</div>"
      ],
      "text/plain": [
       "             n_pass  n_survived  %_survived\n",
       "Cabin_strip                                \n",
       "A                15           7   46.666667\n",
       "B                47          35   74.468085\n",
       "C                59          35   59.322034\n",
       "D                33          25   75.757576\n",
       "E                32          24   75.000000\n",
       "F                13           8   61.538462\n",
       "G                 4           2   50.000000\n",
       "T                 1           0    0.000000"
      ]
     },
     "execution_count": 28,
     "metadata": {},
     "output_type": "execute_result"
    }
   ],
   "source": [
    "df_cab = df.copy()\n",
    "df_cab[\"Cabin_strip\"] = df[\"Cabin\"].str[0]\n",
    "df_cab = df_cab.groupby(\"Cabin_strip\")[\"Survived\"].agg([\"count\", \"sum\", \"mean\"])\n",
    "df_cab[\"mean\"] = df_cab[\"mean\"] * 100\n",
    "df_cab = df_cab.rename({\"count\":\"n_pass\", \"sum\":\"n_survived\", \"mean\":\"%_survived\"}, axis=\"columns\")\n",
    "df_cab"
   ]
  },
  {
   "cell_type": "markdown",
   "id": "cdbc0465",
   "metadata": {},
   "source": [
    "- I dont think that its worth imputing that many missing values for this little information"
   ]
  },
  {
   "cell_type": "markdown",
   "id": "085ffe46",
   "metadata": {},
   "source": [
    "### survivability based on ses class"
   ]
  },
  {
   "cell_type": "code",
   "execution_count": 29,
   "id": "4b7141e0",
   "metadata": {
    "scrolled": true
   },
   "outputs": [
    {
     "data": {
      "text/html": [
       "<div>\n",
       "<style scoped>\n",
       "    .dataframe tbody tr th:only-of-type {\n",
       "        vertical-align: middle;\n",
       "    }\n",
       "\n",
       "    .dataframe tbody tr th {\n",
       "        vertical-align: top;\n",
       "    }\n",
       "\n",
       "    .dataframe thead th {\n",
       "        text-align: right;\n",
       "    }\n",
       "</style>\n",
       "<table border=\"1\" class=\"dataframe\">\n",
       "  <thead>\n",
       "    <tr style=\"text-align: right;\">\n",
       "      <th></th>\n",
       "      <th>n_pass</th>\n",
       "      <th>n_survived</th>\n",
       "      <th>%_survived</th>\n",
       "    </tr>\n",
       "    <tr>\n",
       "      <th>Pclass</th>\n",
       "      <th></th>\n",
       "      <th></th>\n",
       "      <th></th>\n",
       "    </tr>\n",
       "  </thead>\n",
       "  <tbody>\n",
       "    <tr>\n",
       "      <th>1</th>\n",
       "      <td>216</td>\n",
       "      <td>136</td>\n",
       "      <td>62.962963</td>\n",
       "    </tr>\n",
       "    <tr>\n",
       "      <th>2</th>\n",
       "      <td>184</td>\n",
       "      <td>87</td>\n",
       "      <td>47.282609</td>\n",
       "    </tr>\n",
       "    <tr>\n",
       "      <th>3</th>\n",
       "      <td>491</td>\n",
       "      <td>119</td>\n",
       "      <td>24.236253</td>\n",
       "    </tr>\n",
       "  </tbody>\n",
       "</table>\n",
       "</div>"
      ],
      "text/plain": [
       "        n_pass  n_survived  %_survived\n",
       "Pclass                                \n",
       "1          216         136   62.962963\n",
       "2          184          87   47.282609\n",
       "3          491         119   24.236253"
      ]
     },
     "execution_count": 29,
     "metadata": {},
     "output_type": "execute_result"
    }
   ],
   "source": [
    "ses_class = df.groupby(\"Pclass\")[\"Survived\"].agg([\"count\", \"sum\", \"mean\"])\n",
    "ses_class[\"mean\"] = ses_class[\"mean\"] * 100\n",
    "ses_class = ses_class.rename({\"count\":\"n_pass\", \"sum\":\"n_survived\", \"mean\":\"%_survived\"}, axis=\"columns\")\n",
    "ses_class"
   ]
  },
  {
   "cell_type": "code",
   "execution_count": 30,
   "id": "e6a29200",
   "metadata": {
    "scrolled": false
   },
   "outputs": [
    {
     "data": {
      "image/png": "[encoded data removed]",
      "text/plain": [
       "<Figure size 432x288 with 1 Axes>"
      ]
     },
     "metadata": {
      "needs_background": "light"
     },
     "output_type": "display_data"
    }
   ],
   "source": [
    "fig, ax = plt.subplots()\n",
    "class_ = ses_class.index\n",
    "\n",
    "ax.bar(ses_class.index, ses_class[\"n_pass\"], alpha=0.5, label=\"total\")\n",
    "ax.bar(ses_class.index, ses_class[\"n_survived\"], alpha=0.5, label=\"survive\")\n",
    "ax.set_xticks(ses_class.index)\n",
    "ax.set_xlabel(\"SES class\")\n",
    "ax.set_ylabel(\"n_people\")\n",
    "ax.set_title(\"Survivability across SES class\")\n",
    "ax.legend()\n",
    "\n",
    "plt.show()"
   ]
  },
  {
   "cell_type": "markdown",
   "id": "7b2def72",
   "metadata": {},
   "source": [
    "- Rich people tend to survive ofc =D"
   ]
  },
  {
   "cell_type": "markdown",
   "id": "414e89ab",
   "metadata": {},
   "source": [
    "## Feature Engineering & Data Cleaning (1)"
   ]
  },
  {
   "cell_type": "markdown",
   "id": "35ffab1a",
   "metadata": {},
   "source": [
    "##### Imputing missing values\n",
    "The features age and embarked need to be imputed with its central measure (mean for numerical and mode for categorical)\n",
    "\n",
    "##### Extract title from name\n",
    "The feature name contains title, which might come in handy\n",
    "\n",
    "##### One hot encoding\n",
    "The categorical features Sex, Embarked, and title\n",
    "\n",
    "##### Combining the SibSp and Parch features\n",
    "Due to their moderate correlation, SibSp and Parch should be summed to create just one feature\n",
    "\n",
    "#### Binning features\n",
    "To avoid overfitting, the features age and fares should be binned based on its effect on survival\n",
    "\n",
    "##### Dropping unecessary features\n",
    "Dropping \n",
    "- PassengerId (obvious)\n",
    "- Cabin (too many missing values)\n",
    "- Name, Ticket, Embarked, SibSp, Parch, \"title\" (features already extracted) \n",
    "- \"C\" (does not give significant information, a liability for overfittng)\n"
   ]
  },
  {
   "cell_type": "markdown",
   "id": "d0f5e57d",
   "metadata": {},
   "source": [
    "If you want to use custom transformer (e.g. dropping and combining features), you should create your own class"
   ]
  },
  {
   "cell_type": "code",
   "execution_count": 168,
   "id": "4c371b90",
   "metadata": {},
   "outputs": [],
   "source": [
    "from sklearn.impute import SimpleImputer\n",
    "from sklearn.preprocessing import OneHotEncoder,StandardScaler, OrdinalEncoder\n",
    "from sklearn.base import BaseEstimator, TransformerMixin\n",
    "\n",
    "class Imputer(BaseEstimator, TransformerMixin):\n",
    "    \n",
    "    def fit(self, X, y=None):\n",
    "        return self\n",
    "    \n",
    "    def transform(self, X):\n",
    "        X = X.copy()  # To prevent the estimators from changing the data in-place\n",
    "        age_imputer = SimpleImputer(strategy=\"mean\")\n",
    "        X[\"Age\"] = age_imputer.fit_transform(X[[\"Age\"]])\n",
    "        fare_imputer = SimpleImputer(strategy=\"mean\")\n",
    "        X[\"Fare\"] = fare_imputer.fit_transform(X[[\"Fare\"]])\n",
    "        X[\"Embarked\"] = X[\"Embarked\"].fillna(X[\"Embarked\"].mode()[0])\n",
    "        return X\n",
    "    \n",
    "class ExtractFeature(BaseEstimator, TransformerMixin):\n",
    "    \n",
    "    def fit(self, X, y=None):\n",
    "        return self\n",
    "    \n",
    "    def transform(self, X):\n",
    "        title = X[\"Name\"].str.extract(' ([A-Za-z]+)\\.')\n",
    "        title[(title!=\"Miss\") & (title!=\"Mr\") & (title!=\"Mrs\") & (title!=\"Master\") ] = \"Other\"\n",
    "        X[\"Title\"] = title\n",
    "        return X\n",
    "\n",
    "class Encoder(BaseEstimator, TransformerMixin):\n",
    "    \n",
    "    def fit(self, X, y=None):\n",
    "        return self\n",
    "    \n",
    "    def transform(self, X):\n",
    "        emb_encoder = OneHotEncoder(handle_unknown=\"ignore\")\n",
    "        \n",
    "        emb_encoded = emb_encoder.fit_transform(X[[\"Embarked\"]]).toarray()\n",
    "        for i, j in enumerate(emb_encoder.categories_[0]):\n",
    "            X[j] = emb_encoded[:, i]\n",
    "        \n",
    "        X[\"Sex\"] = X[\"Sex\"].replace({\"male\":1, \"female\":0})\n",
    "        \n",
    "        tit_encoder = OneHotEncoder(handle_unknown=\"ignore\")\n",
    "        tit_encoded = tit_encoder.fit_transform(X[[\"Title\"]]).toarray()\n",
    "        for i, j in enumerate(tit_encoder.categories_[0]):\n",
    "            X[j] = tit_encoded[:, i]\n",
    "        \n",
    "        return X\n",
    "            \n",
    "class CombineFeature(BaseEstimator, TransformerMixin):\n",
    "    \n",
    "    def fit(self, X, y=None):\n",
    "        return self\n",
    "    \n",
    "    def transform(self, X):\n",
    "        X[\"Relative\"] = X[\"SibSp\"] + X[\"Parch\"]\n",
    "        return X\n",
    "    \n",
    "class BinningFeature(BaseEstimator, TransformerMixin):\n",
    "    \n",
    "    def fit(self, X, y=None):\n",
    "        return self\n",
    "    \n",
    "    def transform(self, X):\n",
    "        age = X[\"Age\"].copy()\n",
    "        age[age <= 15] = 1\n",
    "        age[(age > 15) & (age <= 40)] = 2\n",
    "        age[(age > 40 )& (age <= 65)] = 3\n",
    "        age[age > 65] = 4\n",
    "        X[\"Age\"] = age\n",
    "        \n",
    "        fare = X[\"Fare\"].copy()\n",
    "        fare[fare <= 15] = 1\n",
    "        fare[(fare > 15) & (fare <= 40)] = 2\n",
    "        fare[fare > 40] = 3\n",
    "        X[\"Fare\"] = fare\n",
    "        return X\n",
    "\n",
    "class FeatureDropper(BaseEstimator, TransformerMixin):\n",
    "    \n",
    "    def fit(self, X, y=None):\n",
    "        return self\n",
    "    \n",
    "    def transform(self, X):\n",
    "        return X.drop([\"PassengerId\", \"Name\", \"Ticket\", \"Cabin\", \"Embarked\", \"SibSp\", \n",
    "                       \"Parch\", \"Title\", \"C\"], axis=1)"
   ]
  },
  {
   "cell_type": "markdown",
   "id": "f39f43a4",
   "metadata": {},
   "source": [
    "remember that the built-in estimator uses numpy array, not pandas"
   ]
  },
  {
   "cell_type": "code",
   "execution_count": 169,
   "id": "6e5c32ce",
   "metadata": {},
   "outputs": [],
   "source": [
    "from sklearn.pipeline import Pipeline\n",
    "\n",
    "pipe = Pipeline([\n",
    "    (\"imputer\", Imputer()),\n",
    "    (\"extract_feature\", ExtractFeature()),\n",
    "    (\"encoder\", Encoder()),\n",
    "    (\"binning_feature\", BinningFeature()),\n",
    "    (\"combine_feature\", CombineFeature()),\n",
    "    (\"feature_dropper\", FeatureDropper())\n",
    "])"
   ]
  },
  {
   "cell_type": "code",
   "execution_count": 170,
   "id": "d04c55f2",
   "metadata": {
    "scrolled": true
   },
   "outputs": [],
   "source": [
    "df_clean = pipe.fit_transform(df)"
   ]
  },
  {
   "cell_type": "markdown",
   "id": "096c9d83",
   "metadata": {},
   "source": [
    "## Model selection"
   ]
  },
  {
   "cell_type": "code",
   "execution_count": 171,
   "id": "d01f4194",
   "metadata": {},
   "outputs": [],
   "source": [
    "X = df_clean.loc[:, df_clean.columns!=\"Survived\"]\n",
    "y = df_clean[\"Survived\"]"
   ]
  },
  {
   "cell_type": "markdown",
   "id": "8f368934",
   "metadata": {},
   "source": [
    "### Preliminary modelling for selection"
   ]
  },
  {
   "cell_type": "markdown",
   "id": "44bee296",
   "metadata": {},
   "source": [
    "I will be selecting one model from these arbitrarily picked 5 models. \n",
    "- Logistic regression\n",
    "- Naive bayes\n",
    "- Decision tree\n",
    "- Random forest\n",
    "- XGBoost"
   ]
  },
  {
   "cell_type": "code",
   "execution_count": 104,
   "id": "116eed25",
   "metadata": {},
   "outputs": [],
   "source": [
    "from sklearn.model_selection import KFold, cross_val_score\n",
    "cv = KFold(shuffle=True)"
   ]
  },
  {
   "cell_type": "markdown",
   "id": "37c395d7",
   "metadata": {},
   "source": [
    "#### Logistic regression"
   ]
  },
  {
   "cell_type": "code",
   "execution_count": 119,
   "id": "cd047c18",
   "metadata": {},
   "outputs": [
    {
     "name": "stdout",
     "output_type": "stream",
     "text": [
      "train_scores : [0.8286516853932584, 0.8260869565217391, 0.8218793828892006, 0.8330995792426368, 0.8429172510518934]\n",
      "test_scores : [0.8435754189944135, 0.848314606741573, 0.8539325842696629, 0.8089887640449438, 0.7640449438202247]\n",
      "mean_train_scores: 0.8305269710197457\n",
      "mean_test_scores: 0.8237712635741635\n"
     ]
    }
   ],
   "source": [
    "from sklearn.linear_model import LogisticRegression\n",
    "\n",
    "train_scores = []\n",
    "test_scores = []\n",
    "for i, j in cv.split(X):\n",
    "    X_train = X.iloc[i,:]\n",
    "    y_train = y[i]\n",
    "    X_test = X.iloc[j,:]\n",
    "    y_test = y[j]\n",
    "    logreg = LogisticRegression()\n",
    "    logreg.fit(X_train, y_train)\n",
    "    train_scores.append(logreg.score(X_train, y_train))\n",
    "    test_scores.append(logreg.score(X_test, y_test))\n",
    "print(f\"train_scores : {train_scores}\")\n",
    "print(f\"test_scores : {test_scores}\")\n",
    "print(f\"mean_train_scores: {np.array(train_scores).mean()}\")\n",
    "print(f\"mean_test_scores: {np.array(test_scores).mean()}\")\n",
    "\n",
    "    "
   ]
  },
  {
   "cell_type": "markdown",
   "id": "79708271",
   "metadata": {},
   "source": [
    "#### Gaussian Naive Bayes"
   ]
  },
  {
   "cell_type": "code",
   "execution_count": 120,
   "id": "ed3ffe78",
   "metadata": {},
   "outputs": [
    {
     "name": "stdout",
     "output_type": "stream",
     "text": [
      "train_scores : [0.7837078651685393, 0.7952314165497896, 0.7966339410939691, 0.7980364656381487, 0.7994389901823282]\n",
      "test_scores : [0.8324022346368715, 0.7696629213483146, 0.8258426966292135, 0.797752808988764, 0.7359550561797753]\n",
      "mean_train_scores: 0.7946097357265549\n",
      "mean_test_scores: 0.7923231435565878\n"
     ]
    }
   ],
   "source": [
    "from sklearn.naive_bayes import GaussianNB\n",
    "\n",
    "train_scores = []\n",
    "test_scores = []\n",
    "for i, j in cv.split(X):\n",
    "    X_train = X.iloc[i,:]\n",
    "    y_train = y[i]\n",
    "    X_test = X.iloc[j,:]\n",
    "    y_test = y[j]\n",
    "    nb = GaussianNB()\n",
    "    nb.fit(X_train, y_train)\n",
    "    train_scores.append(nb.score(X_train, y_train))\n",
    "    test_scores.append(nb.score(X_test, y_test))\n",
    "print(f\"train_scores : {train_scores}\")\n",
    "print(f\"test_scores : {test_scores}\")\n",
    "print(f\"mean_train_scores: {np.array(train_scores).mean()}\")\n",
    "print(f\"mean_test_scores: {np.array(test_scores).mean()}\")"
   ]
  },
  {
   "cell_type": "markdown",
   "id": "669b1a5a",
   "metadata": {},
   "source": [
    "#### Decision tree"
   ]
  },
  {
   "cell_type": "markdown",
   "id": "3a222bea",
   "metadata": {},
   "source": [
    "multiple parameters were manually tested because leaving them as is will almost guarantee overfitting"
   ]
  },
  {
   "cell_type": "code",
   "execution_count": 121,
   "id": "801d171e",
   "metadata": {},
   "outputs": [
    {
     "name": "stdout",
     "output_type": "stream",
     "text": [
      "train_scores : [0.8384831460674157, 0.8246844319775596, 0.8260869565217391, 0.8176718092566619, 0.8302945301542777]\n",
      "test_scores : [0.8212290502793296, 0.8370786516853933, 0.8146067415730337, 0.848314606741573, 0.797752808988764]\n",
      "mean_train_scores: 0.8274441747955308\n",
      "mean_test_scores: 0.8237963718536188\n"
     ]
    }
   ],
   "source": [
    "from sklearn.tree import DecisionTreeClassifier\n",
    "\n",
    "train_scores = []\n",
    "test_scores = []\n",
    "for i, j in cv.split(X):\n",
    "    X_train = X.iloc[i,:]\n",
    "    y_train = y[i]\n",
    "    X_test = X.iloc[j,:]\n",
    "    y_test = y[j]\n",
    "    dec = DecisionTreeClassifier(max_depth=3)\n",
    "    dec.fit(X_train, y_train)\n",
    "    train_scores.append(dec.score(X_train, y_train))\n",
    "    test_scores.append(dec.score(X_test, y_test))\n",
    "print(f\"train_scores : {train_scores}\")\n",
    "print(f\"test_scores : {test_scores}\")\n",
    "print(f\"mean_train_scores: {np.array(train_scores).mean()}\")\n",
    "print(f\"mean_test_scores: {np.array(test_scores).mean()}\")"
   ]
  },
  {
   "cell_type": "markdown",
   "id": "ec2a9f5f",
   "metadata": {},
   "source": [
    "#### Random forest"
   ]
  },
  {
   "cell_type": "markdown",
   "id": "8a0dd195",
   "metadata": {},
   "source": [
    "multiple parameters were manually tested because leaving them as is will almost guarantee overfitting"
   ]
  },
  {
   "cell_type": "code",
   "execution_count": 173,
   "id": "3086834a",
   "metadata": {},
   "outputs": [
    {
     "name": "stdout",
     "output_type": "stream",
     "text": [
      "train_scores : [0.8314606741573034, 0.8359046283309958, 0.8415147265077139, 0.8359046283309958, 0.8429172510518934]\n",
      "test_scores : [0.88268156424581, 0.8089887640449438, 0.8146067415730337, 0.8426966292134831, 0.8033707865168539]\n",
      "mean_train_scores: 0.8375403816757805\n",
      "mean_test_scores: 0.8304688971188249\n"
     ]
    }
   ],
   "source": [
    "from sklearn.ensemble import RandomForestClassifier\n",
    "\n",
    "train_scores = []\n",
    "test_scores = []\n",
    "for i, j in cv.split(X):\n",
    "    X_train = X.iloc[i,:]\n",
    "    y_train = y[i]\n",
    "    X_test = X.iloc[j,:]\n",
    "    y_test = y[j]\n",
    "    ranfor = RandomForestClassifier(n_estimators=10, max_depth=5, min_samples_split=4)\n",
    "    ranfor.fit(X_train, y_train)\n",
    "    train_scores.append(ranfor.score(X_train, y_train))\n",
    "    test_scores.append(ranfor.score(X_test, y_test))\n",
    "print(f\"train_scores : {train_scores}\")\n",
    "print(f\"test_scores : {test_scores}\")\n",
    "print(f\"mean_train_scores: {np.array(train_scores).mean()}\")\n",
    "print(f\"mean_test_scores: {np.array(test_scores).mean()}\")"
   ]
  },
  {
   "cell_type": "markdown",
   "id": "12eaafbf",
   "metadata": {},
   "source": [
    "#### Xtreme gradient boosting"
   ]
  },
  {
   "cell_type": "markdown",
   "id": "2a5ebbca",
   "metadata": {},
   "source": [
    "multiple parameters were manually tested because leaving them as is will almost guarantee overfitting"
   ]
  },
  {
   "cell_type": "code",
   "execution_count": 123,
   "id": "8642e0d6",
   "metadata": {
    "scrolled": true
   },
   "outputs": [
    {
     "name": "stdout",
     "output_type": "stream",
     "text": [
      "train_scores : [0.8567415730337079, 0.8316970546984572, 0.8330995792426368, 0.8429172510518934, 0.8401122019635343]\n",
      "test_scores : [0.7597765363128491, 0.8370786516853933, 0.8539325842696629, 0.8202247191011236, 0.8202247191011236]\n",
      "mean_train_scores: 0.8409135319980459\n",
      "mean_test_scores: 0.8182474420940306\n"
     ]
    }
   ],
   "source": [
    "from xgboost import XGBClassifier\n",
    "import warnings\n",
    "warnings.filterwarnings('ignore')  # the warning in xgboost is too annoying :p\n",
    "\n",
    "train_scores = []\n",
    "test_scores = []\n",
    "for i, j in cv.split(X):\n",
    "    X_train = X.iloc[i,:]\n",
    "    y_train = y[i]\n",
    "    X_test = X.iloc[j,:]\n",
    "    y_test = y[j]\n",
    "    xgboost = XGBClassifier(n_estimators=7, max_depth=5, gamma=2)\n",
    "    xgboost.fit(X_train, y_train)\n",
    "    train_scores.append(xgboost.score(X_train, y_train))\n",
    "    test_scores.append(xgboost.score(X_test, y_test))\n",
    "print(f\"train_scores : {train_scores}\")\n",
    "print(f\"test_scores : {test_scores}\")\n",
    "print(f\"mean_train_scores: {np.array(train_scores).mean()}\")\n",
    "print(f\"mean_test_scores: {np.array(test_scores).mean()}\")"
   ]
  },
  {
   "cell_type": "markdown",
   "id": "ca9063a8",
   "metadata": {},
   "source": [
    "#### Model comparison result"
   ]
  },
  {
   "cell_type": "markdown",
   "id": "52bef7b1",
   "metadata": {},
   "source": [
    "Random forest appears to have the edge with xgboost trailing not far behind (with multiple runs, random forest appears to be more stable)"
   ]
  },
  {
   "cell_type": "markdown",
   "id": "495aea9e",
   "metadata": {},
   "source": [
    "#### testing random forest on whole data (1)"
   ]
  },
  {
   "cell_type": "code",
   "execution_count": 174,
   "id": "15e75846",
   "metadata": {},
   "outputs": [
    {
     "name": "stdout",
     "output_type": "stream",
     "text": [
      "0.8395061728395061\n"
     ]
    }
   ],
   "source": [
    "ranfor = RandomForestClassifier(n_estimators=10, max_depth=5, min_samples_split=4)\n",
    "ranfor.fit(X, y)\n",
    "print(ranfor.score(X, y))"
   ]
  },
  {
   "cell_type": "markdown",
   "id": "afdc86f4",
   "metadata": {},
   "source": [
    "#### See if some features can be eliminated using xgboost's feature importance"
   ]
  },
  {
   "cell_type": "code",
   "execution_count": 175,
   "id": "e3f087ff",
   "metadata": {
    "scrolled": true
   },
   "outputs": [
    {
     "data": {
      "text/html": [
       "<style>#sk-container-id-5 {color: black;}#sk-container-id-5 pre{padding: 0;}#sk-container-id-5 div.sk-toggleable {background-color: white;}#sk-container-id-5 label.sk-toggleable__label {cursor: pointer;display: block;width: 100%;margin-bottom: 0;padding: 0.3em;box-sizing: border-box;text-align: center;}#sk-container-id-5 label.sk-toggleable__label-arrow:before {content: \"▸\";float: left;margin-right: 0.25em;color: #696969;}#sk-container-id-5 label.sk-toggleable__label-arrow:hover:before {color: black;}#sk-container-id-5 div.sk-estimator:hover label.sk-toggleable__label-arrow:before {color: black;}#sk-container-id-5 div.sk-toggleable__content {max-height: 0;max-width: 0;overflow: hidden;text-align: left;background-color: #f0f8ff;}#sk-container-id-5 div.sk-toggleable__content pre {margin: 0.2em;color: black;border-radius: 0.25em;background-color: #f0f8ff;}#sk-container-id-5 input.sk-toggleable__control:checked~div.sk-toggleable__content {max-height: 200px;max-width: 100%;overflow: auto;}#sk-container-id-5 input.sk-toggleable__control:checked~label.sk-toggleable__label-arrow:before {content: \"▾\";}#sk-container-id-5 div.sk-estimator input.sk-toggleable__control:checked~label.sk-toggleable__label {background-color: #d4ebff;}#sk-container-id-5 div.sk-label input.sk-toggleable__control:checked~label.sk-toggleable__label {background-color: #d4ebff;}#sk-container-id-5 input.sk-hidden--visually {border: 0;clip: rect(1px 1px 1px 1px);clip: rect(1px, 1px, 1px, 1px);height: 1px;margin: -1px;overflow: hidden;padding: 0;position: absolute;width: 1px;}#sk-container-id-5 div.sk-estimator {font-family: monospace;background-color: #f0f8ff;border: 1px dotted black;border-radius: 0.25em;box-sizing: border-box;margin-bottom: 0.5em;}#sk-container-id-5 div.sk-estimator:hover {background-color: #d4ebff;}#sk-container-id-5 div.sk-parallel-item::after {content: \"\";width: 100%;border-bottom: 1px solid gray;flex-grow: 1;}#sk-container-id-5 div.sk-label:hover label.sk-toggleable__label {background-color: #d4ebff;}#sk-container-id-5 div.sk-serial::before {content: \"\";position: absolute;border-left: 1px solid gray;box-sizing: border-box;top: 0;bottom: 0;left: 50%;z-index: 0;}#sk-container-id-5 div.sk-serial {display: flex;flex-direction: column;align-items: center;background-color: white;padding-right: 0.2em;padding-left: 0.2em;position: relative;}#sk-container-id-5 div.sk-item {position: relative;z-index: 1;}#sk-container-id-5 div.sk-parallel {display: flex;align-items: stretch;justify-content: center;background-color: white;position: relative;}#sk-container-id-5 div.sk-item::before, #sk-container-id-5 div.sk-parallel-item::before {content: \"\";position: absolute;border-left: 1px solid gray;box-sizing: border-box;top: 0;bottom: 0;left: 50%;z-index: -1;}#sk-container-id-5 div.sk-parallel-item {display: flex;flex-direction: column;z-index: 1;position: relative;background-color: white;}#sk-container-id-5 div.sk-parallel-item:first-child::after {align-self: flex-end;width: 50%;}#sk-container-id-5 div.sk-parallel-item:last-child::after {align-self: flex-start;width: 50%;}#sk-container-id-5 div.sk-parallel-item:only-child::after {width: 0;}#sk-container-id-5 div.sk-dashed-wrapped {border: 1px dashed gray;margin: 0 0.4em 0.5em 0.4em;box-sizing: border-box;padding-bottom: 0.4em;background-color: white;}#sk-container-id-5 div.sk-label label {font-family: monospace;font-weight: bold;display: inline-block;line-height: 1.2em;}#sk-container-id-5 div.sk-label-container {text-align: center;}#sk-container-id-5 div.sk-container {/* jupyter's `normalize.less` sets `[hidden] { display: none; }` but bootstrap.min.css set `[hidden] { display: none !important; }` so we also need the `!important` here to be able to override the default hidden behavior on the sphinx rendered scikit-learn.org. See: https://github.com/scikit-learn/scikit-learn/issues/21755 */display: inline-block !important;position: relative;}#sk-container-id-5 div.sk-text-repr-fallback {display: none;}</style><div id=\"sk-container-id-5\" class=\"sk-top-container\"><div class=\"sk-text-repr-fallback\"><pre>XGBClassifier(base_score=None, booster=None, callbacks=None,\n",
       "              colsample_bylevel=None, colsample_bynode=None,\n",
       "              colsample_bytree=None, early_stopping_rounds=None,\n",
       "              enable_categorical=False, eval_metric=None, feature_types=None,\n",
       "              gamma=2, gpu_id=None, grow_policy=None, importance_type=None,\n",
       "              interaction_constraints=None, learning_rate=None, max_bin=None,\n",
       "              max_cat_threshold=None, max_cat_to_onehot=None,\n",
       "              max_delta_step=None, max_depth=5, max_leaves=None,\n",
       "              min_child_weight=None, missing=nan, monotone_constraints=None,\n",
       "              n_estimators=7, n_jobs=None, num_parallel_tree=None,\n",
       "              predictor=None, random_state=None, ...)</pre><b>In a Jupyter environment, please rerun this cell to show the HTML representation or trust the notebook. <br />On GitHub, the HTML representation is unable to render, please try loading this page with nbviewer.org.</b></div><div class=\"sk-container\" hidden><div class=\"sk-item\"><div class=\"sk-estimator sk-toggleable\"><input class=\"sk-toggleable__control sk-hidden--visually\" id=\"sk-estimator-id-5\" type=\"checkbox\" checked><label for=\"sk-estimator-id-5\" class=\"sk-toggleable__label sk-toggleable__label-arrow\">XGBClassifier</label><div class=\"sk-toggleable__content\"><pre>XGBClassifier(base_score=None, booster=None, callbacks=None,\n",
       "              colsample_bylevel=None, colsample_bynode=None,\n",
       "              colsample_bytree=None, early_stopping_rounds=None,\n",
       "              enable_categorical=False, eval_metric=None, feature_types=None,\n",
       "              gamma=2, gpu_id=None, grow_policy=None, importance_type=None,\n",
       "              interaction_constraints=None, learning_rate=None, max_bin=None,\n",
       "              max_cat_threshold=None, max_cat_to_onehot=None,\n",
       "              max_delta_step=None, max_depth=5, max_leaves=None,\n",
       "              min_child_weight=None, missing=nan, monotone_constraints=None,\n",
       "              n_estimators=7, n_jobs=None, num_parallel_tree=None,\n",
       "              predictor=None, random_state=None, ...)</pre></div></div></div></div></div>"
      ],
      "text/plain": [
       "XGBClassifier(base_score=None, booster=None, callbacks=None,\n",
       "              colsample_bylevel=None, colsample_bynode=None,\n",
       "              colsample_bytree=None, early_stopping_rounds=None,\n",
       "              enable_categorical=False, eval_metric=None, feature_types=None,\n",
       "              gamma=2, gpu_id=None, grow_policy=None, importance_type=None,\n",
       "              interaction_constraints=None, learning_rate=None, max_bin=None,\n",
       "              max_cat_threshold=None, max_cat_to_onehot=None,\n",
       "              max_delta_step=None, max_depth=5, max_leaves=None,\n",
       "              min_child_weight=None, missing=nan, monotone_constraints=None,\n",
       "              n_estimators=7, n_jobs=None, num_parallel_tree=None,\n",
       "              predictor=None, random_state=None, ...)"
      ]
     },
     "execution_count": 175,
     "metadata": {},
     "output_type": "execute_result"
    }
   ],
   "source": [
    "xgboost = XGBClassifier(n_estimators=7, max_depth=5, gamma=2)\n",
    "xgboost.fit(X, y)"
   ]
  },
  {
   "cell_type": "code",
   "execution_count": 176,
   "id": "11ac6f1e",
   "metadata": {
    "scrolled": true
   },
   "outputs": [
    {
     "data": {
      "text/html": [
       "<div>\n",
       "<style scoped>\n",
       "    .dataframe tbody tr th:only-of-type {\n",
       "        vertical-align: middle;\n",
       "    }\n",
       "\n",
       "    .dataframe tbody tr th {\n",
       "        vertical-align: top;\n",
       "    }\n",
       "\n",
       "    .dataframe thead th {\n",
       "        text-align: right;\n",
       "    }\n",
       "</style>\n",
       "<table border=\"1\" class=\"dataframe\">\n",
       "  <thead>\n",
       "    <tr style=\"text-align: right;\">\n",
       "      <th></th>\n",
       "      <th>feature</th>\n",
       "      <th>importance</th>\n",
       "    </tr>\n",
       "  </thead>\n",
       "  <tbody>\n",
       "    <tr>\n",
       "      <th>8</th>\n",
       "      <td>Mr</td>\n",
       "      <td>0.625099</td>\n",
       "    </tr>\n",
       "    <tr>\n",
       "      <th>0</th>\n",
       "      <td>Pclass</td>\n",
       "      <td>0.086762</td>\n",
       "    </tr>\n",
       "    <tr>\n",
       "      <th>10</th>\n",
       "      <td>Other</td>\n",
       "      <td>0.081764</td>\n",
       "    </tr>\n",
       "    <tr>\n",
       "      <th>11</th>\n",
       "      <td>Relative</td>\n",
       "      <td>0.075775</td>\n",
       "    </tr>\n",
       "    <tr>\n",
       "      <th>5</th>\n",
       "      <td>S</td>\n",
       "      <td>0.035079</td>\n",
       "    </tr>\n",
       "    <tr>\n",
       "      <th>1</th>\n",
       "      <td>Sex</td>\n",
       "      <td>0.031442</td>\n",
       "    </tr>\n",
       "    <tr>\n",
       "      <th>2</th>\n",
       "      <td>Age</td>\n",
       "      <td>0.025801</td>\n",
       "    </tr>\n",
       "    <tr>\n",
       "      <th>4</th>\n",
       "      <td>Q</td>\n",
       "      <td>0.023187</td>\n",
       "    </tr>\n",
       "    <tr>\n",
       "      <th>3</th>\n",
       "      <td>Fare</td>\n",
       "      <td>0.01509</td>\n",
       "    </tr>\n",
       "    <tr>\n",
       "      <th>6</th>\n",
       "      <td>Master</td>\n",
       "      <td>0.0</td>\n",
       "    </tr>\n",
       "    <tr>\n",
       "      <th>7</th>\n",
       "      <td>Miss</td>\n",
       "      <td>0.0</td>\n",
       "    </tr>\n",
       "    <tr>\n",
       "      <th>9</th>\n",
       "      <td>Mrs</td>\n",
       "      <td>0.0</td>\n",
       "    </tr>\n",
       "  </tbody>\n",
       "</table>\n",
       "</div>"
      ],
      "text/plain": [
       "     feature importance\n",
       "8         Mr   0.625099\n",
       "0     Pclass   0.086762\n",
       "10     Other   0.081764\n",
       "11  Relative   0.075775\n",
       "5          S   0.035079\n",
       "1        Sex   0.031442\n",
       "2        Age   0.025801\n",
       "4          Q   0.023187\n",
       "3       Fare    0.01509\n",
       "6     Master        0.0\n",
       "7       Miss        0.0\n",
       "9        Mrs        0.0"
      ]
     },
     "execution_count": 176,
     "metadata": {},
     "output_type": "execute_result"
    }
   ],
   "source": [
    "fet_import = pd.DataFrame(np.hstack((X.columns.values.reshape(-1, 1), \n",
    "                          xgboost.feature_importances_.reshape(-1 ,1))), \n",
    "                          columns=[\"feature\", \"importance\"])\n",
    "fet_import.sort_values(\"importance\", ascending=False)"
   ]
  },
  {
   "cell_type": "markdown",
   "id": "8233501a",
   "metadata": {},
   "source": [
    "Master, Miss, and Mrs has no feature importance, hence shall be eliminated"
   ]
  },
  {
   "cell_type": "markdown",
   "id": "c70274ca",
   "metadata": {},
   "source": [
    "### Feature engineering & data cleaning (2)"
   ]
  },
  {
   "cell_type": "markdown",
   "id": "e94262f7",
   "metadata": {},
   "source": [
    "Taking into account the discovery found during feature importance testing by updating the FeatureDropper class"
   ]
  },
  {
   "cell_type": "code",
   "execution_count": 31,
   "id": "8a19081a",
   "metadata": {},
   "outputs": [],
   "source": [
    "class FeatureDropper2(BaseEstimator, TransformerMixin):\n",
    "    \n",
    "    def fit(self, X, y=None):\n",
    "        return self\n",
    "    \n",
    "    def transform(self, X):\n",
    "        return X.drop([\"PassengerId\", \"Name\", \"Ticket\", \"Cabin\", \"Embarked\", \"SibSp\", \n",
    "                       \"Parch\", \"Title\", \"C\", \"Master\", \"Miss\", \"Mrs\"], axis=1)  # add dropped columns"
   ]
  },
  {
   "cell_type": "code",
   "execution_count": 33,
   "id": "c1d5c3c3",
   "metadata": {},
   "outputs": [],
   "source": [
    "from sklearn.pipeline import Pipeline\n",
    "\n",
    "pipe = Pipeline([\n",
    "    (\"imputer\", Imputer()),\n",
    "    (\"extract_feature\", ExtractFeature()),\n",
    "    (\"encoder\", Encoder()),\n",
    "    (\"binning_feature\", BinningFeature()),\n",
    "    (\"combine_feature\", CombineFeature()),\n",
    "    (\"feature_dropper\", FeatureDropper2())\n",
    "])"
   ]
  },
  {
   "cell_type": "code",
   "execution_count": 34,
   "id": "0fcfc28a",
   "metadata": {},
   "outputs": [],
   "source": [
    "df_clean = pipe.fit_transform(df)\n",
    "X = df_clean.loc[:, df_clean.columns!=\"Survived\"]\n",
    "y = df_clean[\"Survived\"]"
   ]
  },
  {
   "cell_type": "markdown",
   "id": "cd330fca",
   "metadata": {},
   "source": [
    "#### testing random forest on whole data (2)"
   ]
  },
  {
   "cell_type": "code",
   "execution_count": 36,
   "id": "8827d3a6",
   "metadata": {},
   "outputs": [
    {
     "name": "stdout",
     "output_type": "stream",
     "text": [
      "0.8383838383838383\n"
     ]
    }
   ],
   "source": [
    "from sklearn.ensemble import RandomForestClassifier\n",
    "\n",
    "ranfor = RandomForestClassifier(n_estimators=10, max_depth=5, min_samples_split=4)\n",
    "ranfor.fit(X, y)\n",
    "print(ranfor.score(X, y))"
   ]
  },
  {
   "cell_type": "markdown",
   "id": "22c1fa0e",
   "metadata": {},
   "source": [
    "just as good as before."
   ]
  },
  {
   "cell_type": "markdown",
   "id": "2a666af4",
   "metadata": {},
   "source": [
    "### Submission testing"
   ]
  },
  {
   "cell_type": "markdown",
   "id": "f25d9eb9",
   "metadata": {},
   "source": [
    "when I submit the above model to kaggle, I got __0.7799__ accuracy"
   ]
  },
  {
   "cell_type": "markdown",
   "id": "e903bb27",
   "metadata": {},
   "source": [
    "### Tuning the random forest using RandomizedSearchCV"
   ]
  },
  {
   "cell_type": "code",
   "execution_count": 62,
   "id": "2c6c3a12",
   "metadata": {
    "scrolled": false
   },
   "outputs": [
    {
     "data": {
      "text/html": [
       "<style>#sk-container-id-7 {color: black;}#sk-container-id-7 pre{padding: 0;}#sk-container-id-7 div.sk-toggleable {background-color: white;}#sk-container-id-7 label.sk-toggleable__label {cursor: pointer;display: block;width: 100%;margin-bottom: 0;padding: 0.3em;box-sizing: border-box;text-align: center;}#sk-container-id-7 label.sk-toggleable__label-arrow:before {content: \"▸\";float: left;margin-right: 0.25em;color: #696969;}#sk-container-id-7 label.sk-toggleable__label-arrow:hover:before {color: black;}#sk-container-id-7 div.sk-estimator:hover label.sk-toggleable__label-arrow:before {color: black;}#sk-container-id-7 div.sk-toggleable__content {max-height: 0;max-width: 0;overflow: hidden;text-align: left;background-color: #f0f8ff;}#sk-container-id-7 div.sk-toggleable__content pre {margin: 0.2em;color: black;border-radius: 0.25em;background-color: #f0f8ff;}#sk-container-id-7 input.sk-toggleable__control:checked~div.sk-toggleable__content {max-height: 200px;max-width: 100%;overflow: auto;}#sk-container-id-7 input.sk-toggleable__control:checked~label.sk-toggleable__label-arrow:before {content: \"▾\";}#sk-container-id-7 div.sk-estimator input.sk-toggleable__control:checked~label.sk-toggleable__label {background-color: #d4ebff;}#sk-container-id-7 div.sk-label input.sk-toggleable__control:checked~label.sk-toggleable__label {background-color: #d4ebff;}#sk-container-id-7 input.sk-hidden--visually {border: 0;clip: rect(1px 1px 1px 1px);clip: rect(1px, 1px, 1px, 1px);height: 1px;margin: -1px;overflow: hidden;padding: 0;position: absolute;width: 1px;}#sk-container-id-7 div.sk-estimator {font-family: monospace;background-color: #f0f8ff;border: 1px dotted black;border-radius: 0.25em;box-sizing: border-box;margin-bottom: 0.5em;}#sk-container-id-7 div.sk-estimator:hover {background-color: #d4ebff;}#sk-container-id-7 div.sk-parallel-item::after {content: \"\";width: 100%;border-bottom: 1px solid gray;flex-grow: 1;}#sk-container-id-7 div.sk-label:hover label.sk-toggleable__label {background-color: #d4ebff;}#sk-container-id-7 div.sk-serial::before {content: \"\";position: absolute;border-left: 1px solid gray;box-sizing: border-box;top: 0;bottom: 0;left: 50%;z-index: 0;}#sk-container-id-7 div.sk-serial {display: flex;flex-direction: column;align-items: center;background-color: white;padding-right: 0.2em;padding-left: 0.2em;position: relative;}#sk-container-id-7 div.sk-item {position: relative;z-index: 1;}#sk-container-id-7 div.sk-parallel {display: flex;align-items: stretch;justify-content: center;background-color: white;position: relative;}#sk-container-id-7 div.sk-item::before, #sk-container-id-7 div.sk-parallel-item::before {content: \"\";position: absolute;border-left: 1px solid gray;box-sizing: border-box;top: 0;bottom: 0;left: 50%;z-index: -1;}#sk-container-id-7 div.sk-parallel-item {display: flex;flex-direction: column;z-index: 1;position: relative;background-color: white;}#sk-container-id-7 div.sk-parallel-item:first-child::after {align-self: flex-end;width: 50%;}#sk-container-id-7 div.sk-parallel-item:last-child::after {align-self: flex-start;width: 50%;}#sk-container-id-7 div.sk-parallel-item:only-child::after {width: 0;}#sk-container-id-7 div.sk-dashed-wrapped {border: 1px dashed gray;margin: 0 0.4em 0.5em 0.4em;box-sizing: border-box;padding-bottom: 0.4em;background-color: white;}#sk-container-id-7 div.sk-label label {font-family: monospace;font-weight: bold;display: inline-block;line-height: 1.2em;}#sk-container-id-7 div.sk-label-container {text-align: center;}#sk-container-id-7 div.sk-container {/* jupyter's `normalize.less` sets `[hidden] { display: none; }` but bootstrap.min.css set `[hidden] { display: none !important; }` so we also need the `!important` here to be able to override the default hidden behavior on the sphinx rendered scikit-learn.org. See: https://github.com/scikit-learn/scikit-learn/issues/21755 */display: inline-block !important;position: relative;}#sk-container-id-7 div.sk-text-repr-fallback {display: none;}</style><div id=\"sk-container-id-7\" class=\"sk-top-container\"><div class=\"sk-text-repr-fallback\"><pre>RandomizedSearchCV(cv=5, estimator=RandomForestClassifier(n_estimators=10),\n",
       "                   n_iter=20,\n",
       "                   param_distributions={&#x27;bootstrap&#x27;: [True, False],\n",
       "                                        &#x27;criterion&#x27;: [&#x27;gini&#x27;, &#x27;entropy&#x27;],\n",
       "                                        &#x27;max_depth&#x27;: [3, 4, 5],\n",
       "                                        &#x27;max_features&#x27;: &lt;scipy.stats._distn_infrastructure.rv_discrete_frozen object at 0x0000017158CD5A00&gt;,\n",
       "                                        &#x27;min_samples_split&#x27;: &lt;scipy.stats._distn_infrastructure.rv_discrete_frozen object at 0x0000017158CD0760&gt;},\n",
       "                   return_train_score=True)</pre><b>In a Jupyter environment, please rerun this cell to show the HTML representation or trust the notebook. <br />On GitHub, the HTML representation is unable to render, please try loading this page with nbviewer.org.</b></div><div class=\"sk-container\" hidden><div class=\"sk-item sk-dashed-wrapped\"><div class=\"sk-label-container\"><div class=\"sk-label sk-toggleable\"><input class=\"sk-toggleable__control sk-hidden--visually\" id=\"sk-estimator-id-13\" type=\"checkbox\" ><label for=\"sk-estimator-id-13\" class=\"sk-toggleable__label sk-toggleable__label-arrow\">RandomizedSearchCV</label><div class=\"sk-toggleable__content\"><pre>RandomizedSearchCV(cv=5, estimator=RandomForestClassifier(n_estimators=10),\n",
       "                   n_iter=20,\n",
       "                   param_distributions={&#x27;bootstrap&#x27;: [True, False],\n",
       "                                        &#x27;criterion&#x27;: [&#x27;gini&#x27;, &#x27;entropy&#x27;],\n",
       "                                        &#x27;max_depth&#x27;: [3, 4, 5],\n",
       "                                        &#x27;max_features&#x27;: &lt;scipy.stats._distn_infrastructure.rv_discrete_frozen object at 0x0000017158CD5A00&gt;,\n",
       "                                        &#x27;min_samples_split&#x27;: &lt;scipy.stats._distn_infrastructure.rv_discrete_frozen object at 0x0000017158CD0760&gt;},\n",
       "                   return_train_score=True)</pre></div></div></div><div class=\"sk-parallel\"><div class=\"sk-parallel-item\"><div class=\"sk-item\"><div class=\"sk-label-container\"><div class=\"sk-label sk-toggleable\"><input class=\"sk-toggleable__control sk-hidden--visually\" id=\"sk-estimator-id-14\" type=\"checkbox\" ><label for=\"sk-estimator-id-14\" class=\"sk-toggleable__label sk-toggleable__label-arrow\">estimator: RandomForestClassifier</label><div class=\"sk-toggleable__content\"><pre>RandomForestClassifier(n_estimators=10)</pre></div></div></div><div class=\"sk-serial\"><div class=\"sk-item\"><div class=\"sk-estimator sk-toggleable\"><input class=\"sk-toggleable__control sk-hidden--visually\" id=\"sk-estimator-id-15\" type=\"checkbox\" ><label for=\"sk-estimator-id-15\" class=\"sk-toggleable__label sk-toggleable__label-arrow\">RandomForestClassifier</label><div class=\"sk-toggleable__content\"><pre>RandomForestClassifier(n_estimators=10)</pre></div></div></div></div></div></div></div></div></div></div>"
      ],
      "text/plain": [
       "RandomizedSearchCV(cv=5, estimator=RandomForestClassifier(n_estimators=10),\n",
       "                   n_iter=20,\n",
       "                   param_distributions={'bootstrap': [True, False],\n",
       "                                        'criterion': ['gini', 'entropy'],\n",
       "                                        'max_depth': [3, 4, 5],\n",
       "                                        'max_features': <scipy.stats._distn_infrastructure.rv_discrete_frozen object at 0x0000017158CD5A00>,\n",
       "                                        'min_samples_split': <scipy.stats._distn_infrastructure.rv_discrete_frozen object at 0x0000017158CD0760>},\n",
       "                   return_train_score=True)"
      ]
     },
     "execution_count": 62,
     "metadata": {},
     "output_type": "execute_result"
    }
   ],
   "source": [
    "from sklearn.model_selection import RandomizedSearchCV\n",
    "from scipy.stats import randint as sp_randint\n",
    "\n",
    "param_dist = {\"max_depth\": [3, 4, 5], \n",
    "              \"max_features\": sp_randint(1, 11), \n",
    "              \"min_samples_split\": sp_randint(2, 11), \n",
    "              \"bootstrap\": [True, False], \n",
    "              \"criterion\": [\"gini\", \"entropy\"]} \n",
    "\n",
    "ranfor = RandomForestClassifier(n_estimators=10)  # 10 estimators should be plenty\n",
    "random_search = RandomizedSearchCV(ranfor, param_distributions=param_dist, \n",
    "                                   n_iter=20, cv=5, return_train_score=True)\n",
    "random_search.fit(X, y)"
   ]
  },
  {
   "cell_type": "markdown",
   "id": "10ef5bce",
   "metadata": {},
   "source": [
    "#### Best parameters according to RandomizedSearchCV"
   ]
  },
  {
   "cell_type": "code",
   "execution_count": 63,
   "id": "16da89da",
   "metadata": {},
   "outputs": [
    {
     "data": {
      "text/html": [
       "<style>#sk-container-id-8 {color: black;}#sk-container-id-8 pre{padding: 0;}#sk-container-id-8 div.sk-toggleable {background-color: white;}#sk-container-id-8 label.sk-toggleable__label {cursor: pointer;display: block;width: 100%;margin-bottom: 0;padding: 0.3em;box-sizing: border-box;text-align: center;}#sk-container-id-8 label.sk-toggleable__label-arrow:before {content: \"▸\";float: left;margin-right: 0.25em;color: #696969;}#sk-container-id-8 label.sk-toggleable__label-arrow:hover:before {color: black;}#sk-container-id-8 div.sk-estimator:hover label.sk-toggleable__label-arrow:before {color: black;}#sk-container-id-8 div.sk-toggleable__content {max-height: 0;max-width: 0;overflow: hidden;text-align: left;background-color: #f0f8ff;}#sk-container-id-8 div.sk-toggleable__content pre {margin: 0.2em;color: black;border-radius: 0.25em;background-color: #f0f8ff;}#sk-container-id-8 input.sk-toggleable__control:checked~div.sk-toggleable__content {max-height: 200px;max-width: 100%;overflow: auto;}#sk-container-id-8 input.sk-toggleable__control:checked~label.sk-toggleable__label-arrow:before {content: \"▾\";}#sk-container-id-8 div.sk-estimator input.sk-toggleable__control:checked~label.sk-toggleable__label {background-color: #d4ebff;}#sk-container-id-8 div.sk-label input.sk-toggleable__control:checked~label.sk-toggleable__label {background-color: #d4ebff;}#sk-container-id-8 input.sk-hidden--visually {border: 0;clip: rect(1px 1px 1px 1px);clip: rect(1px, 1px, 1px, 1px);height: 1px;margin: -1px;overflow: hidden;padding: 0;position: absolute;width: 1px;}#sk-container-id-8 div.sk-estimator {font-family: monospace;background-color: #f0f8ff;border: 1px dotted black;border-radius: 0.25em;box-sizing: border-box;margin-bottom: 0.5em;}#sk-container-id-8 div.sk-estimator:hover {background-color: #d4ebff;}#sk-container-id-8 div.sk-parallel-item::after {content: \"\";width: 100%;border-bottom: 1px solid gray;flex-grow: 1;}#sk-container-id-8 div.sk-label:hover label.sk-toggleable__label {background-color: #d4ebff;}#sk-container-id-8 div.sk-serial::before {content: \"\";position: absolute;border-left: 1px solid gray;box-sizing: border-box;top: 0;bottom: 0;left: 50%;z-index: 0;}#sk-container-id-8 div.sk-serial {display: flex;flex-direction: column;align-items: center;background-color: white;padding-right: 0.2em;padding-left: 0.2em;position: relative;}#sk-container-id-8 div.sk-item {position: relative;z-index: 1;}#sk-container-id-8 div.sk-parallel {display: flex;align-items: stretch;justify-content: center;background-color: white;position: relative;}#sk-container-id-8 div.sk-item::before, #sk-container-id-8 div.sk-parallel-item::before {content: \"\";position: absolute;border-left: 1px solid gray;box-sizing: border-box;top: 0;bottom: 0;left: 50%;z-index: -1;}#sk-container-id-8 div.sk-parallel-item {display: flex;flex-direction: column;z-index: 1;position: relative;background-color: white;}#sk-container-id-8 div.sk-parallel-item:first-child::after {align-self: flex-end;width: 50%;}#sk-container-id-8 div.sk-parallel-item:last-child::after {align-self: flex-start;width: 50%;}#sk-container-id-8 div.sk-parallel-item:only-child::after {width: 0;}#sk-container-id-8 div.sk-dashed-wrapped {border: 1px dashed gray;margin: 0 0.4em 0.5em 0.4em;box-sizing: border-box;padding-bottom: 0.4em;background-color: white;}#sk-container-id-8 div.sk-label label {font-family: monospace;font-weight: bold;display: inline-block;line-height: 1.2em;}#sk-container-id-8 div.sk-label-container {text-align: center;}#sk-container-id-8 div.sk-container {/* jupyter's `normalize.less` sets `[hidden] { display: none; }` but bootstrap.min.css set `[hidden] { display: none !important; }` so we also need the `!important` here to be able to override the default hidden behavior on the sphinx rendered scikit-learn.org. See: https://github.com/scikit-learn/scikit-learn/issues/21755 */display: inline-block !important;position: relative;}#sk-container-id-8 div.sk-text-repr-fallback {display: none;}</style><div id=\"sk-container-id-8\" class=\"sk-top-container\"><div class=\"sk-text-repr-fallback\"><pre>RandomForestClassifier(bootstrap=False, max_depth=4, max_features=5,\n",
       "                       min_samples_split=6, n_estimators=10)</pre><b>In a Jupyter environment, please rerun this cell to show the HTML representation or trust the notebook. <br />On GitHub, the HTML representation is unable to render, please try loading this page with nbviewer.org.</b></div><div class=\"sk-container\" hidden><div class=\"sk-item\"><div class=\"sk-estimator sk-toggleable\"><input class=\"sk-toggleable__control sk-hidden--visually\" id=\"sk-estimator-id-16\" type=\"checkbox\" checked><label for=\"sk-estimator-id-16\" class=\"sk-toggleable__label sk-toggleable__label-arrow\">RandomForestClassifier</label><div class=\"sk-toggleable__content\"><pre>RandomForestClassifier(bootstrap=False, max_depth=4, max_features=5,\n",
       "                       min_samples_split=6, n_estimators=10)</pre></div></div></div></div></div>"
      ],
      "text/plain": [
       "RandomForestClassifier(bootstrap=False, max_depth=4, max_features=5,\n",
       "                       min_samples_split=6, n_estimators=10)"
      ]
     },
     "execution_count": 63,
     "metadata": {},
     "output_type": "execute_result"
    }
   ],
   "source": [
    "random_search.best_estimator_"
   ]
  },
  {
   "cell_type": "markdown",
   "id": "940d69c6",
   "metadata": {},
   "source": [
    "#### Cross validation result for RandomizedSearchCV"
   ]
  },
  {
   "cell_type": "markdown",
   "id": "ae1850e2",
   "metadata": {},
   "source": [
    "best_estimator_ is found based on the mean of test_score obtained on each fold"
   ]
  },
  {
   "cell_type": "code",
   "execution_count": 64,
   "id": "db4c116d",
   "metadata": {
    "scrolled": true
   },
   "outputs": [
    {
     "data": {
      "text/html": [
       "<div>\n",
       "<style scoped>\n",
       "    .dataframe tbody tr th:only-of-type {\n",
       "        vertical-align: middle;\n",
       "    }\n",
       "\n",
       "    .dataframe tbody tr th {\n",
       "        vertical-align: top;\n",
       "    }\n",
       "\n",
       "    .dataframe thead th {\n",
       "        text-align: right;\n",
       "    }\n",
       "</style>\n",
       "<table border=\"1\" class=\"dataframe\">\n",
       "  <thead>\n",
       "    <tr style=\"text-align: right;\">\n",
       "      <th></th>\n",
       "      <th>mean_fit_time</th>\n",
       "      <th>std_fit_time</th>\n",
       "      <th>mean_score_time</th>\n",
       "      <th>std_score_time</th>\n",
       "      <th>param_bootstrap</th>\n",
       "      <th>param_criterion</th>\n",
       "      <th>param_max_depth</th>\n",
       "      <th>param_max_features</th>\n",
       "      <th>param_min_samples_split</th>\n",
       "      <th>params</th>\n",
       "      <th>...</th>\n",
       "      <th>mean_test_score</th>\n",
       "      <th>std_test_score</th>\n",
       "      <th>rank_test_score</th>\n",
       "      <th>split0_train_score</th>\n",
       "      <th>split1_train_score</th>\n",
       "      <th>split2_train_score</th>\n",
       "      <th>split3_train_score</th>\n",
       "      <th>split4_train_score</th>\n",
       "      <th>mean_train_score</th>\n",
       "      <th>std_train_score</th>\n",
       "    </tr>\n",
       "  </thead>\n",
       "  <tbody>\n",
       "    <tr>\n",
       "      <th>0</th>\n",
       "      <td>0.032582</td>\n",
       "      <td>0.003708</td>\n",
       "      <td>0.007941</td>\n",
       "      <td>0.001052</td>\n",
       "      <td>False</td>\n",
       "      <td>gini</td>\n",
       "      <td>4</td>\n",
       "      <td>5</td>\n",
       "      <td>6</td>\n",
       "      <td>{'bootstrap': False, 'criterion': 'gini', 'max...</td>\n",
       "      <td>...</td>\n",
       "      <td>0.832741</td>\n",
       "      <td>0.023048</td>\n",
       "      <td>1</td>\n",
       "      <td>0.831461</td>\n",
       "      <td>0.838710</td>\n",
       "      <td>0.842917</td>\n",
       "      <td>0.842917</td>\n",
       "      <td>0.828892</td>\n",
       "      <td>0.836979</td>\n",
       "      <td>0.005820</td>\n",
       "    </tr>\n",
       "    <tr>\n",
       "      <th>13</th>\n",
       "      <td>0.033365</td>\n",
       "      <td>0.007169</td>\n",
       "      <td>0.006857</td>\n",
       "      <td>0.001276</td>\n",
       "      <td>False</td>\n",
       "      <td>gini</td>\n",
       "      <td>4</td>\n",
       "      <td>7</td>\n",
       "      <td>5</td>\n",
       "      <td>{'bootstrap': False, 'criterion': 'gini', 'max...</td>\n",
       "      <td>...</td>\n",
       "      <td>0.831630</td>\n",
       "      <td>0.022320</td>\n",
       "      <td>2</td>\n",
       "      <td>0.837079</td>\n",
       "      <td>0.841515</td>\n",
       "      <td>0.837307</td>\n",
       "      <td>0.844320</td>\n",
       "      <td>0.828892</td>\n",
       "      <td>0.837822</td>\n",
       "      <td>0.005223</td>\n",
       "    </tr>\n",
       "    <tr>\n",
       "      <th>3</th>\n",
       "      <td>0.039224</td>\n",
       "      <td>0.011218</td>\n",
       "      <td>0.005838</td>\n",
       "      <td>0.000445</td>\n",
       "      <td>True</td>\n",
       "      <td>gini</td>\n",
       "      <td>5</td>\n",
       "      <td>1</td>\n",
       "      <td>7</td>\n",
       "      <td>{'bootstrap': True, 'criterion': 'gini', 'max_...</td>\n",
       "      <td>...</td>\n",
       "      <td>0.830513</td>\n",
       "      <td>0.014103</td>\n",
       "      <td>3</td>\n",
       "      <td>0.834270</td>\n",
       "      <td>0.838710</td>\n",
       "      <td>0.840112</td>\n",
       "      <td>0.842917</td>\n",
       "      <td>0.828892</td>\n",
       "      <td>0.836980</td>\n",
       "      <td>0.004916</td>\n",
       "    </tr>\n",
       "    <tr>\n",
       "      <th>18</th>\n",
       "      <td>0.025769</td>\n",
       "      <td>0.000780</td>\n",
       "      <td>0.006101</td>\n",
       "      <td>0.000262</td>\n",
       "      <td>False</td>\n",
       "      <td>entropy</td>\n",
       "      <td>4</td>\n",
       "      <td>5</td>\n",
       "      <td>5</td>\n",
       "      <td>{'bootstrap': False, 'criterion': 'entropy', '...</td>\n",
       "      <td>...</td>\n",
       "      <td>0.829377</td>\n",
       "      <td>0.017853</td>\n",
       "      <td>4</td>\n",
       "      <td>0.830056</td>\n",
       "      <td>0.840112</td>\n",
       "      <td>0.841515</td>\n",
       "      <td>0.847125</td>\n",
       "      <td>0.833100</td>\n",
       "      <td>0.838382</td>\n",
       "      <td>0.006107</td>\n",
       "    </tr>\n",
       "    <tr>\n",
       "      <th>5</th>\n",
       "      <td>0.030487</td>\n",
       "      <td>0.009377</td>\n",
       "      <td>0.006272</td>\n",
       "      <td>0.001575</td>\n",
       "      <td>False</td>\n",
       "      <td>gini</td>\n",
       "      <td>4</td>\n",
       "      <td>5</td>\n",
       "      <td>3</td>\n",
       "      <td>{'bootstrap': False, 'criterion': 'gini', 'max...</td>\n",
       "      <td>...</td>\n",
       "      <td>0.828266</td>\n",
       "      <td>0.018468</td>\n",
       "      <td>5</td>\n",
       "      <td>0.838483</td>\n",
       "      <td>0.837307</td>\n",
       "      <td>0.837307</td>\n",
       "      <td>0.844320</td>\n",
       "      <td>0.828892</td>\n",
       "      <td>0.837262</td>\n",
       "      <td>0.004927</td>\n",
       "    </tr>\n",
       "  </tbody>\n",
       "</table>\n",
       "<p>5 rows × 25 columns</p>\n",
       "</div>"
      ],
      "text/plain": [
       "    mean_fit_time  std_fit_time  mean_score_time  std_score_time  \\\n",
       "0        0.032582      0.003708         0.007941        0.001052   \n",
       "13       0.033365      0.007169         0.006857        0.001276   \n",
       "3        0.039224      0.011218         0.005838        0.000445   \n",
       "18       0.025769      0.000780         0.006101        0.000262   \n",
       "5        0.030487      0.009377         0.006272        0.001575   \n",
       "\n",
       "   param_bootstrap param_criterion param_max_depth param_max_features  \\\n",
       "0            False            gini               4                  5   \n",
       "13           False            gini               4                  7   \n",
       "3             True            gini               5                  1   \n",
       "18           False         entropy               4                  5   \n",
       "5            False            gini               4                  5   \n",
       "\n",
       "   param_min_samples_split                                             params  \\\n",
       "0                        6  {'bootstrap': False, 'criterion': 'gini', 'max...   \n",
       "13                       5  {'bootstrap': False, 'criterion': 'gini', 'max...   \n",
       "3                        7  {'bootstrap': True, 'criterion': 'gini', 'max_...   \n",
       "18                       5  {'bootstrap': False, 'criterion': 'entropy', '...   \n",
       "5                        3  {'bootstrap': False, 'criterion': 'gini', 'max...   \n",
       "\n",
       "    ...  mean_test_score  std_test_score  rank_test_score  split0_train_score  \\\n",
       "0   ...         0.832741        0.023048                1            0.831461   \n",
       "13  ...         0.831630        0.022320                2            0.837079   \n",
       "3   ...         0.830513        0.014103                3            0.834270   \n",
       "18  ...         0.829377        0.017853                4            0.830056   \n",
       "5   ...         0.828266        0.018468                5            0.838483   \n",
       "\n",
       "    split1_train_score  split2_train_score  split3_train_score  \\\n",
       "0             0.838710            0.842917            0.842917   \n",
       "13            0.841515            0.837307            0.844320   \n",
       "3             0.838710            0.840112            0.842917   \n",
       "18            0.840112            0.841515            0.847125   \n",
       "5             0.837307            0.837307            0.844320   \n",
       "\n",
       "    split4_train_score  mean_train_score  std_train_score  \n",
       "0             0.828892          0.836979         0.005820  \n",
       "13            0.828892          0.837822         0.005223  \n",
       "3             0.828892          0.836980         0.004916  \n",
       "18            0.833100          0.838382         0.006107  \n",
       "5             0.828892          0.837262         0.004927  \n",
       "\n",
       "[5 rows x 25 columns]"
      ]
     },
     "execution_count": 64,
     "metadata": {},
     "output_type": "execute_result"
    }
   ],
   "source": [
    "df_cv = pd.DataFrame(random_search.cv_results_).sort_values(\"rank_test_score\").head()\n",
    "df_cv"
   ]
  },
  {
   "cell_type": "code",
   "execution_count": 65,
   "id": "815fddd0",
   "metadata": {},
   "outputs": [
    {
     "data": {
      "text/html": [
       "<div>\n",
       "<style scoped>\n",
       "    .dataframe tbody tr th:only-of-type {\n",
       "        vertical-align: middle;\n",
       "    }\n",
       "\n",
       "    .dataframe tbody tr th {\n",
       "        vertical-align: top;\n",
       "    }\n",
       "\n",
       "    .dataframe thead th {\n",
       "        text-align: right;\n",
       "    }\n",
       "</style>\n",
       "<table border=\"1\" class=\"dataframe\">\n",
       "  <thead>\n",
       "    <tr style=\"text-align: right;\">\n",
       "      <th></th>\n",
       "      <th>split0_test_score</th>\n",
       "      <th>split1_test_score</th>\n",
       "      <th>split2_test_score</th>\n",
       "      <th>split3_test_score</th>\n",
       "      <th>split4_test_score</th>\n",
       "      <th>split0_train_score</th>\n",
       "      <th>split1_train_score</th>\n",
       "      <th>split2_train_score</th>\n",
       "      <th>split3_train_score</th>\n",
       "      <th>split4_train_score</th>\n",
       "    </tr>\n",
       "  </thead>\n",
       "  <tbody>\n",
       "    <tr>\n",
       "      <th>0</th>\n",
       "      <td>0.860335</td>\n",
       "      <td>0.820225</td>\n",
       "      <td>0.820225</td>\n",
       "      <td>0.803371</td>\n",
       "      <td>0.859551</td>\n",
       "      <td>0.831461</td>\n",
       "      <td>0.838710</td>\n",
       "      <td>0.842917</td>\n",
       "      <td>0.842917</td>\n",
       "      <td>0.828892</td>\n",
       "    </tr>\n",
       "    <tr>\n",
       "      <th>13</th>\n",
       "      <td>0.849162</td>\n",
       "      <td>0.820225</td>\n",
       "      <td>0.820225</td>\n",
       "      <td>0.803371</td>\n",
       "      <td>0.865169</td>\n",
       "      <td>0.837079</td>\n",
       "      <td>0.841515</td>\n",
       "      <td>0.837307</td>\n",
       "      <td>0.844320</td>\n",
       "      <td>0.828892</td>\n",
       "    </tr>\n",
       "    <tr>\n",
       "      <th>3</th>\n",
       "      <td>0.843575</td>\n",
       "      <td>0.814607</td>\n",
       "      <td>0.848315</td>\n",
       "      <td>0.814607</td>\n",
       "      <td>0.831461</td>\n",
       "      <td>0.834270</td>\n",
       "      <td>0.838710</td>\n",
       "      <td>0.840112</td>\n",
       "      <td>0.842917</td>\n",
       "      <td>0.828892</td>\n",
       "    </tr>\n",
       "    <tr>\n",
       "      <th>18</th>\n",
       "      <td>0.854749</td>\n",
       "      <td>0.820225</td>\n",
       "      <td>0.825843</td>\n",
       "      <td>0.803371</td>\n",
       "      <td>0.842697</td>\n",
       "      <td>0.830056</td>\n",
       "      <td>0.840112</td>\n",
       "      <td>0.841515</td>\n",
       "      <td>0.847125</td>\n",
       "      <td>0.833100</td>\n",
       "    </tr>\n",
       "    <tr>\n",
       "      <th>5</th>\n",
       "      <td>0.843575</td>\n",
       "      <td>0.814607</td>\n",
       "      <td>0.825843</td>\n",
       "      <td>0.803371</td>\n",
       "      <td>0.853933</td>\n",
       "      <td>0.838483</td>\n",
       "      <td>0.837307</td>\n",
       "      <td>0.837307</td>\n",
       "      <td>0.844320</td>\n",
       "      <td>0.828892</td>\n",
       "    </tr>\n",
       "  </tbody>\n",
       "</table>\n",
       "</div>"
      ],
      "text/plain": [
       "    split0_test_score  split1_test_score  split2_test_score  \\\n",
       "0            0.860335           0.820225           0.820225   \n",
       "13           0.849162           0.820225           0.820225   \n",
       "3            0.843575           0.814607           0.848315   \n",
       "18           0.854749           0.820225           0.825843   \n",
       "5            0.843575           0.814607           0.825843   \n",
       "\n",
       "    split3_test_score  split4_test_score  split0_train_score  \\\n",
       "0            0.803371           0.859551            0.831461   \n",
       "13           0.803371           0.865169            0.837079   \n",
       "3            0.814607           0.831461            0.834270   \n",
       "18           0.803371           0.842697            0.830056   \n",
       "5            0.803371           0.853933            0.838483   \n",
       "\n",
       "    split1_train_score  split2_train_score  split3_train_score  \\\n",
       "0             0.838710            0.842917            0.842917   \n",
       "13            0.841515            0.837307            0.844320   \n",
       "3             0.838710            0.840112            0.842917   \n",
       "18            0.840112            0.841515            0.847125   \n",
       "5             0.837307            0.837307            0.844320   \n",
       "\n",
       "    split4_train_score  \n",
       "0             0.828892  \n",
       "13            0.828892  \n",
       "3             0.828892  \n",
       "18            0.833100  \n",
       "5             0.828892  "
      ]
     },
     "execution_count": 65,
     "metadata": {},
     "output_type": "execute_result"
    }
   ],
   "source": [
    "df_cv[['split0_test_score', 'split1_test_score', 'split2_test_score',\n",
    "       'split3_test_score', 'split4_test_score','split0_train_score',\n",
    "       'split1_train_score', 'split2_train_score', 'split3_train_score',\n",
    "       'split4_train_score']]"
   ]
  },
  {
   "cell_type": "markdown",
   "id": "1fd957af",
   "metadata": {},
   "source": [
    "CV result looks nothing shady, the best estimator does not contain the \"largest\" parameters and the test and train score do not seem to be far apart"
   ]
  },
  {
   "cell_type": "markdown",
   "id": "794049e3",
   "metadata": {},
   "source": [
    "### Let's do the prediction and final submission"
   ]
  },
  {
   "cell_type": "code",
   "execution_count": 55,
   "id": "40a9e88e",
   "metadata": {
    "scrolled": true
   },
   "outputs": [],
   "source": [
    "df_test = pd.read_csv(\"../datasets/test.csv\")\n",
    "\n",
    "X_test = pipe.transform(df_test)"
   ]
  },
  {
   "cell_type": "code",
   "execution_count": 56,
   "id": "ca108600",
   "metadata": {
    "scrolled": false
   },
   "outputs": [],
   "source": [
    "df_test[\"Survived\"] = random_search.predict(X_test)"
   ]
  },
  {
   "cell_type": "code",
   "execution_count": 57,
   "id": "e40a07a4",
   "metadata": {},
   "outputs": [],
   "source": [
    "final = df_test[[\"PassengerId\", \"Survived\"]]\n",
    "final.to_csv(\"submission_titanic.csv\", index=False)"
   ]
  },
  {
   "cell_type": "markdown",
   "id": "a3219d82",
   "metadata": {},
   "source": [
    "Alas, all these tuning efforts are pointless :(. The final score is __0.77511__, lower than the first submission."
   ]
  }
 ],
 "metadata": {
  "kernelspec": {
   "display_name": "Python 3 (ipykernel)",
   "language": "python",
   "name": "python3"
  },
  "language_info": {
   "codemirror_mode": {
    "name": "ipython",
    "version": 3
   },
   "file_extension": ".py",
   "mimetype": "text/x-python",
   "name": "python",
   "nbconvert_exporter": "python",
   "pygments_lexer": "ipython3",
   "version": "3.9.12"
  }
 },
 "nbformat": 4,
 "nbformat_minor": 5
}
