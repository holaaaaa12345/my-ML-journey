{
 "cells": [
  {
   "cell_type": "markdown",
   "id": "02737cbd",
   "metadata": {},
   "source": [
    "# Neural network from scratch"
   ]
  },
  {
   "cell_type": "markdown",
   "id": "c588d68a",
   "metadata": {},
   "source": [
    "This notebook is a part of the series __From Scratch__, where i try to code machine learning algorithms from scratch (just numpy and math)"
   ]
  },
  {
   "cell_type": "markdown",
   "id": "7d7a2fbf",
   "metadata": {},
   "source": [
    "This is a major milestone during my self-taught machine learning journey. Understanding the backpropagation and calculus in it is quite an experience. That said, this is really the simplest implementation :p."
   ]
  },
  {
   "cell_type": "code",
   "execution_count": 67,
   "id": "285ac7b3",
   "metadata": {},
   "outputs": [],
   "source": [
    "import pandas as pd\n",
    "import numpy as np\n",
    "import matplotlib.pyplot as plt\n",
    "from sklearn.datasets import load_breast_cancer\n",
    "from sklearn.model_selection import train_test_split\n",
    "from sklearn.decomposition import PCA\n",
    "from sklearn.preprocessing import StandardScaler\n",
    "from sklearn.pipeline import Pipeline\n",
    "from tensorflow.keras.models import Sequential\n",
    "from tensorflow.keras.layers import Dense, Normalization\n",
    "from tensorflow.keras.activations import linear, relu\n",
    "from tensorflow.keras.losses import BinaryCrossentropy\n",
    "from tensorflow.keras.optimizers import Adam\n",
    "from keras.datasets import mnist\n",
    "import tensorflow as tf\n",
    "from tqdm import tqdm"
   ]
  },
  {
   "cell_type": "markdown",
   "id": "df75c1df",
   "metadata": {},
   "source": [
    "### Objective: Determine a tumor's malignancy given its texture_mean and radius_mean"
   ]
  },
  {
   "cell_type": "markdown",
   "id": "9b9e7e12",
   "metadata": {},
   "source": [
    "#### The dataset"
   ]
  },
  {
   "cell_type": "code",
   "execution_count": 68,
   "id": "0c8caac3",
   "metadata": {
    "scrolled": false
   },
   "outputs": [
    {
     "data": {
      "text/html": [
       "<div>\n",
       "<style scoped>\n",
       "    .dataframe tbody tr th:only-of-type {\n",
       "        vertical-align: middle;\n",
       "    }\n",
       "\n",
       "    .dataframe tbody tr th {\n",
       "        vertical-align: top;\n",
       "    }\n",
       "\n",
       "    .dataframe thead th {\n",
       "        text-align: right;\n",
       "    }\n",
       "</style>\n",
       "<table border=\"1\" class=\"dataframe\">\n",
       "  <thead>\n",
       "    <tr style=\"text-align: right;\">\n",
       "      <th></th>\n",
       "      <th>mean radius</th>\n",
       "      <th>mean texture</th>\n",
       "      <th>mean perimeter</th>\n",
       "      <th>mean area</th>\n",
       "      <th>mean smoothness</th>\n",
       "      <th>mean compactness</th>\n",
       "      <th>mean concavity</th>\n",
       "      <th>mean concave points</th>\n",
       "      <th>mean symmetry</th>\n",
       "      <th>mean fractal dimension</th>\n",
       "      <th>...</th>\n",
       "      <th>worst radius</th>\n",
       "      <th>worst texture</th>\n",
       "      <th>worst perimeter</th>\n",
       "      <th>worst area</th>\n",
       "      <th>worst smoothness</th>\n",
       "      <th>worst compactness</th>\n",
       "      <th>worst concavity</th>\n",
       "      <th>worst concave points</th>\n",
       "      <th>worst symmetry</th>\n",
       "      <th>worst fractal dimension</th>\n",
       "    </tr>\n",
       "  </thead>\n",
       "  <tbody>\n",
       "    <tr>\n",
       "      <th>0</th>\n",
       "      <td>17.99</td>\n",
       "      <td>10.38</td>\n",
       "      <td>122.8</td>\n",
       "      <td>1001.0</td>\n",
       "      <td>0.11840</td>\n",
       "      <td>0.27760</td>\n",
       "      <td>0.3001</td>\n",
       "      <td>0.14710</td>\n",
       "      <td>0.2419</td>\n",
       "      <td>0.07871</td>\n",
       "      <td>...</td>\n",
       "      <td>25.38</td>\n",
       "      <td>17.33</td>\n",
       "      <td>184.6</td>\n",
       "      <td>2019.0</td>\n",
       "      <td>0.1622</td>\n",
       "      <td>0.6656</td>\n",
       "      <td>0.7119</td>\n",
       "      <td>0.2654</td>\n",
       "      <td>0.4601</td>\n",
       "      <td>0.11890</td>\n",
       "    </tr>\n",
       "    <tr>\n",
       "      <th>1</th>\n",
       "      <td>20.57</td>\n",
       "      <td>17.77</td>\n",
       "      <td>132.9</td>\n",
       "      <td>1326.0</td>\n",
       "      <td>0.08474</td>\n",
       "      <td>0.07864</td>\n",
       "      <td>0.0869</td>\n",
       "      <td>0.07017</td>\n",
       "      <td>0.1812</td>\n",
       "      <td>0.05667</td>\n",
       "      <td>...</td>\n",
       "      <td>24.99</td>\n",
       "      <td>23.41</td>\n",
       "      <td>158.8</td>\n",
       "      <td>1956.0</td>\n",
       "      <td>0.1238</td>\n",
       "      <td>0.1866</td>\n",
       "      <td>0.2416</td>\n",
       "      <td>0.1860</td>\n",
       "      <td>0.2750</td>\n",
       "      <td>0.08902</td>\n",
       "    </tr>\n",
       "    <tr>\n",
       "      <th>2</th>\n",
       "      <td>19.69</td>\n",
       "      <td>21.25</td>\n",
       "      <td>130.0</td>\n",
       "      <td>1203.0</td>\n",
       "      <td>0.10960</td>\n",
       "      <td>0.15990</td>\n",
       "      <td>0.1974</td>\n",
       "      <td>0.12790</td>\n",
       "      <td>0.2069</td>\n",
       "      <td>0.05999</td>\n",
       "      <td>...</td>\n",
       "      <td>23.57</td>\n",
       "      <td>25.53</td>\n",
       "      <td>152.5</td>\n",
       "      <td>1709.0</td>\n",
       "      <td>0.1444</td>\n",
       "      <td>0.4245</td>\n",
       "      <td>0.4504</td>\n",
       "      <td>0.2430</td>\n",
       "      <td>0.3613</td>\n",
       "      <td>0.08758</td>\n",
       "    </tr>\n",
       "  </tbody>\n",
       "</table>\n",
       "<p>3 rows × 30 columns</p>\n",
       "</div>"
      ],
      "text/plain": [
       "   mean radius  mean texture  mean perimeter  mean area  mean smoothness  \\\n",
       "0        17.99         10.38           122.8     1001.0          0.11840   \n",
       "1        20.57         17.77           132.9     1326.0          0.08474   \n",
       "2        19.69         21.25           130.0     1203.0          0.10960   \n",
       "\n",
       "   mean compactness  mean concavity  mean concave points  mean symmetry  \\\n",
       "0           0.27760          0.3001              0.14710         0.2419   \n",
       "1           0.07864          0.0869              0.07017         0.1812   \n",
       "2           0.15990          0.1974              0.12790         0.2069   \n",
       "\n",
       "   mean fractal dimension  ...  worst radius  worst texture  worst perimeter  \\\n",
       "0                 0.07871  ...         25.38          17.33            184.6   \n",
       "1                 0.05667  ...         24.99          23.41            158.8   \n",
       "2                 0.05999  ...         23.57          25.53            152.5   \n",
       "\n",
       "   worst area  worst smoothness  worst compactness  worst concavity  \\\n",
       "0      2019.0            0.1622             0.6656           0.7119   \n",
       "1      1956.0            0.1238             0.1866           0.2416   \n",
       "2      1709.0            0.1444             0.4245           0.4504   \n",
       "\n",
       "   worst concave points  worst symmetry  worst fractal dimension  \n",
       "0                0.2654          0.4601                  0.11890  \n",
       "1                0.1860          0.2750                  0.08902  \n",
       "2                0.2430          0.3613                  0.08758  \n",
       "\n",
       "[3 rows x 30 columns]"
      ]
     },
     "execution_count": 68,
     "metadata": {},
     "output_type": "execute_result"
    }
   ],
   "source": [
    "raw_load = load_breast_cancer(return_X_y=True, as_frame=True)\n",
    "raw_load[0].head(3)"
   ]
  },
  {
   "cell_type": "markdown",
   "id": "8f9e6f28",
   "metadata": {},
   "source": [
    "#### Test train split"
   ]
  },
  {
   "cell_type": "code",
   "execution_count": 69,
   "id": "b641944f",
   "metadata": {},
   "outputs": [],
   "source": [
    "raw_X = raw_load[0].values\n",
    "raw_y = raw_load[1].values.reshape(-1, 1)\n",
    "X_train, X_test, y_train, y_test = train_test_split(raw_X, raw_y, test_size=0.2)"
   ]
  },
  {
   "cell_type": "markdown",
   "id": "073d0c3a",
   "metadata": {},
   "source": [
    "#### Dimensionality reduction\n",
    "I deliberately pick 2 as the number of components to reduce the complexity of the Neural Network :p"
   ]
  },
  {
   "cell_type": "code",
   "execution_count": 70,
   "id": "bc84e2eb",
   "metadata": {},
   "outputs": [],
   "source": [
    "preprocess = Pipeline([('scaling', StandardScaler()), ('pca', PCA(n_components=2))])\n",
    "X_train = preprocess.fit_transform(X_train)\n",
    "X_test = preprocess.transform(X_test)"
   ]
  },
  {
   "cell_type": "markdown",
   "id": "3df5d58c",
   "metadata": {},
   "source": [
    "#### Scatter plot of the data"
   ]
  },
  {
   "cell_type": "code",
   "execution_count": 71,
   "id": "0da2e048",
   "metadata": {},
   "outputs": [
    {
     "data": {
      "image/png": "[encoded data removed]",
      "text/plain": [
       "<Figure size 432x288 with 1 Axes>"
      ]
     },
     "metadata": {
      "needs_background": "light"
     },
     "output_type": "display_data"
    }
   ],
   "source": [
    "fig, ax = plt.subplots()\n",
    "combined = np.hstack((X_train, y_train))\n",
    "mal = combined[combined[:, 2]==1]\n",
    "ben = combined[combined[:, 2]==0]\n",
    "\n",
    "ax.scatter(mal[:, 0], mal[:, 1], label=\"malignant\", c=\"r\", alpha=0.5)\n",
    "ax.scatter(ben[:, 0], ben[:, 1], label=\"benign\", c=\"b\", alpha=0.5)\n",
    "ax.set_xlabel(\"component_1\")\n",
    "ax.set_ylabel(\"component_2\")\n",
    "ax.legend()\n",
    "\n",
    "plt.show()\n"
   ]
  },
  {
   "cell_type": "markdown",
   "id": "6b617ade",
   "metadata": {},
   "source": [
    "### Final dimensions of test and train"
   ]
  },
  {
   "cell_type": "code",
   "execution_count": 72,
   "id": "b827b2f3",
   "metadata": {},
   "outputs": [
    {
     "name": "stdout",
     "output_type": "stream",
     "text": [
      "X_train: (455, 2)\n",
      "Y_train: (455, 1)\n",
      "X_test:  (114, 2)\n",
      "Y_test:  (114, 1)\n"
     ]
    }
   ],
   "source": [
    "print('X_train: ' + str(X_train.shape))\n",
    "print('Y_train: ' + str(y_train.shape))\n",
    "print('X_test:  '  + str(X_test.shape))\n",
    "print('Y_test:  '  + str(y_test.shape))"
   ]
  },
  {
   "cell_type": "markdown",
   "id": "63535d4f",
   "metadata": {},
   "source": [
    "### The Model overview"
   ]
  },
  {
   "cell_type": "markdown",
   "id": "9cce2cc6",
   "metadata": {},
   "source": [
    "![alt text](model_nn_scratch.jpg \"overview\")"
   ]
  },
  {
   "cell_type": "markdown",
   "id": "a1324519",
   "metadata": {},
   "source": [
    "## Doing it the \"easy\" way using keras sequential API"
   ]
  },
  {
   "cell_type": "code",
   "execution_count": 73,
   "id": "95555dbb",
   "metadata": {
    "scrolled": true
   },
   "outputs": [
    {
     "data": {
      "text/plain": [
       "<keras.callbacks.History at 0x261ecdcbd60>"
      ]
     },
     "execution_count": 73,
     "metadata": {},
     "output_type": "execute_result"
    }
   ],
   "source": [
    "model = Sequential([\n",
    "    \n",
    "    Dense(units=2, activation=relu),\n",
    "    Dense(units=1, activation=linear)\n",
    "])\n",
    "\n",
    "model.compile(loss=BinaryCrossentropy(from_logits=True),  # to avoid numerical instability\n",
    "              optimizer=Adam(learning_rate=0.01),\n",
    "              metrics=\"accuracy\"\n",
    "             )\n",
    "model.fit(X_train, y_train, epochs=80, verbose=0)  # verbose = 0 to avoid printing too much"
   ]
  },
  {
   "cell_type": "markdown",
   "id": "5610e0c6",
   "metadata": {},
   "source": [
    "### Evaluation"
   ]
  },
  {
   "cell_type": "code",
   "execution_count": 74,
   "id": "4df90265",
   "metadata": {
    "scrolled": true
   },
   "outputs": [
    {
     "name": "stdout",
     "output_type": "stream",
     "text": [
      "4/4 [==============================] - 0s 3ms/step - loss: 0.0594 - accuracy: 0.9825\n",
      "total cost: 0.059\n",
      "accuracy: 0.982\n"
     ]
    }
   ],
   "source": [
    "result = model.evaluate(X_test, y_test)\n",
    "print(f\"total cost: {result[0]:.3f}\")\n",
    "print(f\"accuracy: {result[1]:.3f}\")"
   ]
  },
  {
   "cell_type": "markdown",
   "id": "cf855c6c",
   "metadata": {},
   "source": [
    "# Doing it the hard way (from scratch)\n",
    "Let's start with the math behind neural network"
   ]
  },
  {
   "cell_type": "markdown",
   "id": "7843ec1c",
   "metadata": {},
   "source": [
    "#### The specified architecture\n",
    "2 features --> 1 hidden layer (2 neuron relu) --> 1 output layer (1 neuron sigmoid)\n",
    "\n",
    "#### Notation\n",
    "$z_{1}^{[1]} =$ linear combination of input (feature) to the first neuron of the first layer <br>\n",
    "$z_{2}^{[1]} =$ linear combination of input (feature) to the second neuron of the first layer <br>\n",
    "\n",
    "$a_{1}^{[1]} =$ output of the first neuron of the first layer<br>\n",
    "$a_{2}^{[1]} =$ output of the second neuron of the first layer<br>\n",
    "\n",
    "$z^{[2]} =$ linear combination of output of the first layer<br>\n",
    "$a^{[2]} =$ output of the only neuron of the second layer (final output)<br>\n",
    "\n",
    "name for each parameters can be seen on the model overview above\n",
    "\n",
    "#### Forward propagation:\n",
    "\n",
    "$$z_{1}^{[1]} = w_{1}^{[1]}x_{1} + w_{2}^{[1]}x_{2} + b_{1}^{[1]} $$ <br>\n",
    "$$z_{2}^{[1]} = w_{3}^{[1]}x_{1} + w_{4}^{[1]}x_{2} + b_{2}^{[1]} $$ <br>\n",
    "$$a_{1}^{[1]} = \\text{relu}(z_{1}^{[1]})$$ <br>\n",
    "$$a_{2}^{[1]} = \\text{relu}(z_{2}^{[1]})$$ <br>\n",
    "$$z^{[2]} = w_{1}^{[2]}x_{1} + w_{2}^{[2]}x_{2} + b^{[2]} $$ <br>\n",
    "$$a^{[2]} = \\frac{1}{1 + e^{-z^{[2]}}}$$ <br>\n",
    "\n",
    "#### cost & loss function: <br>\n",
    "$$\\text{cross entropy cost}(\\hat{a}^{[2]}, \\hat{y}) = -\\frac{1}{n}\\sum_{i=1}^{n}\\sum_{j=1}^{m}y_{ij}\\text{log}(a^{[2]}[ij]) \\space\\text{where n=number of examples, m=number of class}$$ <br>\n",
    "$$\\text{binary cross entropy cost}(\\hat{a}^{[2]}, \\hat{y}) = -\\frac{1}{n}\\sum_{i=1}^{n}y_{i}\\text{log}(a^{[2]}[i]) + (1-y_{i})\\text{log}(1-a^{[2]}[i])$$ <br>\n",
    "\n",
    "#####  Derivative of cost function w.r.t parameters\n",
    "$$\\frac{\\partial ( \\text{binary cross entropy cost}(\\vec{a}^{[2]}, \\vec{y}))}{\\partial \\vec{w}} = \\frac{1}{n}(\\frac {\\partial (\\text{binary cross entropy loss}(a^{[2]}, \\hat{y}))_{1}}{\\partial \\vec{w}} + \\frac {\\partial (\\text{binary cross entropy loss}(a^{[2]}, \\hat{y}))_{2}}{\\partial \\vec{w}}+ ...+ \\frac {\\partial (\\text{binary cross entropy loss}(a^{[2]}, \\hat{y}))_{n}}{\\partial \\vec{w}})\\space \\text{for n=number of examples}$$<br>\n",
    "\n",
    "$$\\text{binary cross entropy loss}(a^{[2]}, \\hat{y}) = -(y_{i}\\text{log}(a^{[2]}) + (1-y_{i})\\text{log}(1-a^{[2]}))$$\n",
    "\n",
    "- Intuitively speaking, the gradient of cost function wrt to parameter $w$ is the average of all the gradient of loss function wrt to parameter $w_{1}, w_{2},..., w_{n}$ where $n=$number of examples.\n",
    "\n",
    "\n",
    "#### Backward propagation:\n",
    "- The point of backpropagation is to determine the gradient of cost function wrt to each parameter $w$\n",
    "- Backpropagation involves the derivation of loss function wrt to each parameters, then averaging them later for gradient descent\n",
    "\n",
    "##### output layer\n",
    "$\\frac{\\partial \\text{cost}(a^{[2]})}{\\partial z^{[2]}}=\\frac{\\partial a^{[2]}}{\\partial z^{[2]}}\\times\\frac{\\partial\\text{cost}(a^{[2]})}{\\partial a^{[2]}} = (1-a^{[2]})\\times \\frac{a^{[2]}-y}{a^{[2]}(1-a^{[2]})} = a^{[2]} - y$\n",
    "\n",
    "\n",
    "$$\\frac{\\partial\\text{cost}(a^{[2]})}{\\partial w_{1}^{[2]}} = \\frac{\\partial z^{[2]}}{\\partial w_{1}^{[2]}}\\times\\frac{\\partial \\text{cost}(a^{[2]})}{\\partial z^{[2]}} = a_{1}^{[1]}\\times (a^{[2]} - y)$$\n",
    "\n",
    "$$\\frac{\\partial\\text{cost}(a^{[2]})}{\\partial w_{2}^{[2]}} = \\frac{\\partial z^{[2]}}{\\partial w_{2}^{[2]}}\\times\\frac{\\partial \\text{cost}(a^{[2]})}{\\partial z^{[2]}} = a_{2}^{[1]}\\times (a^{[2]} - y)$$\n",
    "\n",
    "$$\\frac{\\partial\\text{cost}(a^{[2]})}{\\partial b^{[2]}} = \\frac{\\partial z^{[2]}}{\\partial b^{[2]}}\\times\\frac{\\partial \\text{cost}(a^{[2]})}{\\partial z^{[2]}} = a^{[2]} - y$$\n",
    "\n",
    "\n",
    "##### hidden layer\n",
    "$\\frac{\\partial \\text{cost}(a^{[2]})}{\\partial z_{1}^{[1]}}=\\frac{\\partial a_{1}^{[1]}}{\\partial z_{1}^{[1]}}\\times\\frac{\\partial z^{[2]}}{\\partial a_{1}^{[1]}}\\times\\frac{\\partial \\text{cost}(a^{[2]})}{\\partial z^{[2]}} = \\text{relu'}(z_1^{[1]}) \\times w_1^{[2]}\\times (a^{[2]} - y)$ <br>\n",
    "\n",
    "$$\\frac{\\partial\\text{cost}(a^{[2]})}{\\partial w_{1}^{[1]}} = \\frac{\\partial z_{1}^{[1]}}{\\partial w_{1}^{[1]}}\\times \\frac{\\partial \\text{cost}(a^{[2]})}{\\partial z_{1}^{[1]}} = x_1\\times \\text{relu'}(z_1^{[1]}) \\times w_1^{[2]}\\times (a^{[2]} - y)$$\n",
    "$$\\frac{\\partial\\text{cost}(a^{[2]})}{\\partial w_{2}^{[1]}} = \\frac{\\partial z_{1}^{[1]}}{\\partial w_{2}^{[1]}}\\times \\frac{\\partial \\text{cost}(a^{[2]})}{\\partial z_{1}^{[1]}} = x_2\\times \\text{relu'}(z_1^{[1]}) \\times w_1^{[2]}\\times (a^{[2]} - y)$$ \n",
    "$$\\frac{\\partial\\text{cost}(a^{[2]})}{\\partial b_{1}^{[1]}} = \\frac{\\partial z_{1}^{[1]}}{\\partial b_{1}^{[1]}}\\times \\frac{\\partial \\text{cost}(a^{[2]})}{\\partial z_{1}^{[1]}} = \\text{relu'}(z_1^{[1]}) \\times w_1^{[2]}\\times (a^{[2]} - y)$$ \n",
    "<br>\n",
    "\n",
    "$\\frac{\\partial \\text{cost}(a^{[2]})}{\\partial z_{2}^{[1]}}=\\frac{\\partial a_{1}^{[1]}}{\\partial z_{2}^{[1]}}\\times\\frac{\\partial z^{[2]}}{\\partial a_{1}^{[1]}}\\times\\frac{\\partial \\text{cost}(a^{[2]})}{\\partial z^{[2]}} = \\text{relu'}(z_2^{[1]}) \\times w_2^{[2]}\\times (a^{[2]} - y)$ <br>\n",
    "\n",
    "$$\\frac{\\partial\\text{cost}(a^{[2]})}{\\partial w_{3}^{[1]}} = \\frac{\\partial z_{2}^{[1]}}{\\partial w_{3}^{[1]}}\\times \\frac{\\partial \\text{cost}(a^{[2]})}{\\partial z_{1}^{[1]}} = x_1\\times \\text{relu'}(z_2^{[1]}) \\times w_2^{[2]}\\times (a^{[2]} - y)$$\n",
    "$$\\frac{\\partial\\text{cost}(a^{[2]})}{\\partial w_{4}^{[1]}} = \\frac{\\partial z_{1}^{[1]}}{\\partial w_{4}^{[1]}}\\times \\frac{\\partial \\text{cost}(a^{[2]})}{\\partial z_{1}^{[1]}} = x_2\\times \\text{relu'}(z_1^{[1]}) \\times w_1^{[2]}\\times (a^{[2]} - y)$$ \n",
    "$$\\frac{\\partial\\text{cost}(a^{[2]})}{\\partial b_{2}^{[1]}} = \\frac{\\partial z_{1}^{[1]}}{\\partial b_{2}^{[1]}}\\times \\frac{\\partial \\text{cost}(a^{[2]})}{\\partial z_{1}^{[1]}} = \\text{relu'}(z_1^{[1]}) \\times w_1^{[2]}\\times (a^{[2]} - y)$$ \n",
    "<br>"
   ]
  },
  {
   "cell_type": "markdown",
   "id": "6f41c1db",
   "metadata": {},
   "source": [
    "### No vectorization (just for loop), vanilla gradient descent, and non-modular implementation"
   ]
  },
  {
   "cell_type": "markdown",
   "id": "7782d8bb",
   "metadata": {},
   "source": [
    "This implementation is tailored for learning, hence not for production usage. It is meant to be explicit and not use any vectorization. It is also non-modular, as it can only be of the specified architecture and parameters."
   ]
  },
  {
   "cell_type": "code",
   "execution_count": 75,
   "id": "9564fd14",
   "metadata": {},
   "outputs": [],
   "source": [
    "class NeuralNetwork():\n",
    "    \n",
    "    def initialize(self):\n",
    "        self.w11, self.w12, self.w13, self.w14, self.w21, self.w22, self.b11, self.b12, self.b2 = np.random.randn(9)\n",
    "    \n",
    "    def relu(self, x):\n",
    "        return np.maximum(x, 0)\n",
    "    \n",
    "    def sigmoid(self, x):\n",
    "        return 1/(1+np.exp(-x))\n",
    "    \n",
    "    def binary_cross_entropy(self, x, y_true):\n",
    "        return -(y_true * np.log(x) + (1 - y_true) * np.log(1 - x))\n",
    "    \n",
    "    def derivative_relu(self, x):\n",
    "        return 1 if x>0 else 0\n",
    "    \n",
    "    def forward_prop(self, x1, x2):\n",
    "        forward_dict = {} \n",
    "        \n",
    "        # hidden layer\n",
    "        forward_dict[\"z11\"] = self.w11 * x1 + self.w12 * x2 + self.b11\n",
    "        forward_dict[\"z12\"] = self.w13 * x1 + self.w14 * x2 + self.b12\n",
    "        forward_dict[\"a11\"] = self.relu(forward_dict[\"z11\"])\n",
    "        forward_dict[\"a12\"] = self.relu(forward_dict[\"z12\"])\n",
    "        \n",
    "        # output layer\n",
    "        forward_dict[\"z2\"] = self.w21 * forward_dict[\"a11\"] + self.w22 * forward_dict[\"a12\"] + self.b2\n",
    "        forward_dict[\"a2\"] = self.sigmoid(forward_dict[\"z2\"])\n",
    "        \n",
    "        return forward_dict\n",
    "\n",
    "    def back_prop(self, x1, x2, y_true, forward_dict):\n",
    "        # gradient will be calculated for each training example and averaged later#\n",
    "        \n",
    "        deriva_dict = {}\n",
    "        \n",
    "        # output layer\n",
    "        error = forward_dict[\"a2\"] - y_true\n",
    "        \n",
    "        deriva_dict[\"dloss_dw21\"] = forward_dict[\"a11\"] * error\n",
    "        deriva_dict[\"dloss_dw22\"] = forward_dict[\"a12\"] * error\n",
    "        deriva_dict[\"dloss_db2\"] = error\n",
    "        \n",
    "        # hidden layer\n",
    "        dcost_dz11 = self.derivative_relu(forward_dict[\"z11\"]) * self.w21 * error\n",
    "        dcost_dz12 = self.derivative_relu(forward_dict[\"z12\"]) * self.w22 * error\n",
    "        \n",
    "        deriva_dict[\"dloss_dw11\"] = x1 * dcost_dz11\n",
    "        deriva_dict[\"dloss_dw12\"] = x2 * dcost_dz11\n",
    "        deriva_dict[\"dloss_db11\"] = dcost_dz11\n",
    "        \n",
    "        deriva_dict[\"dloss_dw13\"] = x1 * dcost_dz12\n",
    "        deriva_dict[\"dloss_dw14\"] = x2 * dcost_dz12\n",
    "        deriva_dict[\"dloss_db12\"] = dcost_dz12\n",
    "        \n",
    "        return deriva_dict\n",
    "    \n",
    "    def get_prob_class(self, x1, x2):\n",
    "        prob = self.forward_prop(x1, x2)[\"a2\"]\n",
    "        class_ = self.encode_class(prob)\n",
    "        return prob, class_\n",
    "    \n",
    "    def encode_class(self, x):\n",
    "        return 1 if x>0.5 else 0\n",
    "    \n",
    "    def get_accuracy_cost(self, X, y):\n",
    "        n = X.shape[0]\n",
    "        n_correct = 0\n",
    "        cost = 0\n",
    "        for i in range(n):\n",
    "            x1, x2 = X[i]\n",
    "            prediction = self.get_prob_class(x1, x2)\n",
    "            if prediction[1] == y[i][0]:\n",
    "                n_correct += 1\n",
    "            cost += self.binary_cross_entropy(prediction[0], y[i][0])\n",
    "        return n_correct/n, cost/n\n",
    "\n",
    "    def fit(self, X, y, alpha, epochs):\n",
    "        n, m = X.shape\n",
    "        \n",
    "        self.initialize()\n",
    "        costs = []\n",
    "\n",
    "        for i in range(1, epochs+1):\n",
    "            # Loop to iterate based on specified epoch\n",
    "            \n",
    "            dcost_dw21 = 0\n",
    "            dcost_dw22 = 0\n",
    "            dcost_db2 = 0\n",
    "            dcost_dw11 = 0\n",
    "            dcost_dw12 = 0\n",
    "            dcost_db11 = 0\n",
    "            dcost_dw13 = 0\n",
    "            dcost_dw14 = 0\n",
    "            dcost_db12 = 0\n",
    "            \n",
    "            for j in range(n):\n",
    "                # Loop to find derivatives for each example\n",
    "                \n",
    "                x1 , x2 = X[j]\n",
    "                y_true = y[j][0]\n",
    "                forward_prop = self.forward_prop(x1, x2)\n",
    "                back_prop = self.back_prop(x1, x2, y_true, forward_prop)\n",
    "                \n",
    "                dcost_dw21 += back_prop[\"dloss_dw21\"]\n",
    "                dcost_dw22 += back_prop[\"dloss_dw22\"]\n",
    "                dcost_db2 += back_prop[\"dloss_db2\"]\n",
    "                dcost_dw11 += back_prop[\"dloss_dw11\"]\n",
    "                dcost_dw12 += back_prop[\"dloss_dw12\"]\n",
    "                dcost_db11 += back_prop[\"dloss_db11\"]\n",
    "                dcost_dw13 += back_prop[\"dloss_dw13\"]\n",
    "                dcost_dw14 += back_prop[\"dloss_dw14\"]\n",
    "                dcost_db12 += back_prop[\"dloss_db12\"]\n",
    "            \n",
    "            # The parameter update process\n",
    "            self.w21 -= alpha*(1/n)*dcost_dw21 \n",
    "            self.w22 -= alpha*(1/n)*dcost_dw22 \n",
    "            self.b2  -= alpha*(1/n)*dcost_db2\n",
    "            self.w11 -= alpha*(1/n)*dcost_dw11 \n",
    "            self.w12 -= alpha*(1/n)*dcost_dw12 \n",
    "            self.b11 -= alpha*(1/n)*dcost_db11\n",
    "            self.w13 -= alpha*(1/n)*dcost_dw13\n",
    "            self.w14 -= alpha*(1/n)*dcost_dw14\n",
    "            self.b12 -= alpha*(1/n)*dcost_db12\n",
    "            \n",
    "            accuracy, cost = self.get_accuracy_cost(X, y)\n",
    "            costs.append(cost)\n",
    "            \n",
    "            print(f\"epoch: {i}, cost: {cost:.4f}, accuracy: {accuracy*100:.2f}%\")"
   ]
  },
  {
   "cell_type": "markdown",
   "id": "17d3e8e3",
   "metadata": {},
   "source": [
    "### Training"
   ]
  },
  {
   "cell_type": "code",
   "execution_count": 76,
   "id": "e3e3aaaf",
   "metadata": {
    "scrolled": true
   },
   "outputs": [
    {
     "name": "stdout",
     "output_type": "stream",
     "text": [
      "epoch: 1, cost: 1.6640, accuracy: 21.10%\n",
      "epoch: 2, cost: 1.1853, accuracy: 22.20%\n",
      "epoch: 3, cost: 0.8256, accuracy: 26.59%\n",
      "epoch: 4, cost: 0.6817, accuracy: 37.58%\n",
      "epoch: 5, cost: 0.6716, accuracy: 38.02%\n",
      "epoch: 6, cost: 0.6649, accuracy: 38.02%\n",
      "epoch: 7, cost: 0.6585, accuracy: 38.90%\n",
      "epoch: 8, cost: 0.6523, accuracy: 39.56%\n",
      "epoch: 9, cost: 0.6462, accuracy: 40.00%\n",
      "epoch: 10, cost: 0.6402, accuracy: 41.10%\n",
      "epoch: 11, cost: 0.6343, accuracy: 41.10%\n",
      "epoch: 12, cost: 0.6284, accuracy: 41.32%\n",
      "epoch: 13, cost: 0.6227, accuracy: 41.54%\n",
      "epoch: 14, cost: 0.6170, accuracy: 83.52%\n",
      "epoch: 15, cost: 0.6114, accuracy: 83.30%\n",
      "epoch: 16, cost: 0.6059, accuracy: 83.52%\n",
      "epoch: 17, cost: 0.6004, accuracy: 83.52%\n",
      "epoch: 18, cost: 0.5951, accuracy: 83.52%\n",
      "epoch: 19, cost: 0.5898, accuracy: 83.52%\n",
      "epoch: 20, cost: 0.5845, accuracy: 83.74%\n",
      "epoch: 21, cost: 0.5794, accuracy: 83.74%\n",
      "epoch: 22, cost: 0.5743, accuracy: 83.96%\n",
      "epoch: 23, cost: 0.5692, accuracy: 84.40%\n",
      "epoch: 24, cost: 0.5643, accuracy: 84.40%\n",
      "epoch: 25, cost: 0.5594, accuracy: 84.62%\n",
      "epoch: 26, cost: 0.5546, accuracy: 84.40%\n",
      "epoch: 27, cost: 0.5498, accuracy: 84.40%\n",
      "epoch: 28, cost: 0.5451, accuracy: 84.62%\n",
      "epoch: 29, cost: 0.5405, accuracy: 84.62%\n",
      "epoch: 30, cost: 0.5359, accuracy: 84.62%\n",
      "epoch: 31, cost: 0.5314, accuracy: 85.05%\n",
      "epoch: 32, cost: 0.5270, accuracy: 85.05%\n",
      "epoch: 33, cost: 0.5227, accuracy: 85.05%\n",
      "epoch: 34, cost: 0.5184, accuracy: 85.05%\n",
      "epoch: 35, cost: 0.5142, accuracy: 85.27%\n",
      "epoch: 36, cost: 0.5101, accuracy: 85.49%\n",
      "epoch: 37, cost: 0.5060, accuracy: 85.71%\n",
      "epoch: 38, cost: 0.5020, accuracy: 85.71%\n",
      "epoch: 39, cost: 0.4981, accuracy: 85.71%\n",
      "epoch: 40, cost: 0.4942, accuracy: 85.71%\n",
      "epoch: 41, cost: 0.4904, accuracy: 85.93%\n",
      "epoch: 42, cost: 0.4867, accuracy: 85.93%\n",
      "epoch: 43, cost: 0.4831, accuracy: 85.93%\n",
      "epoch: 44, cost: 0.4795, accuracy: 85.93%\n",
      "epoch: 45, cost: 0.4761, accuracy: 85.93%\n",
      "epoch: 46, cost: 0.4727, accuracy: 85.93%\n",
      "epoch: 47, cost: 0.4694, accuracy: 86.15%\n",
      "epoch: 48, cost: 0.4661, accuracy: 86.15%\n",
      "epoch: 49, cost: 0.4630, accuracy: 86.15%\n",
      "epoch: 50, cost: 0.4599, accuracy: 86.15%\n",
      "epoch: 51, cost: 0.4568, accuracy: 86.15%\n",
      "epoch: 52, cost: 0.4538, accuracy: 86.15%\n",
      "epoch: 53, cost: 0.4508, accuracy: 86.37%\n",
      "epoch: 54, cost: 0.4479, accuracy: 86.37%\n",
      "epoch: 55, cost: 0.4451, accuracy: 86.37%\n",
      "epoch: 56, cost: 0.4424, accuracy: 86.37%\n",
      "epoch: 57, cost: 0.4396, accuracy: 86.59%\n",
      "epoch: 58, cost: 0.4368, accuracy: 86.59%\n",
      "epoch: 59, cost: 0.4341, accuracy: 86.59%\n",
      "epoch: 60, cost: 0.4315, accuracy: 86.81%\n",
      "epoch: 61, cost: 0.4288, accuracy: 86.81%\n",
      "epoch: 62, cost: 0.4262, accuracy: 86.81%\n",
      "epoch: 63, cost: 0.4236, accuracy: 86.81%\n",
      "epoch: 64, cost: 0.4212, accuracy: 87.03%\n",
      "epoch: 65, cost: 0.4187, accuracy: 87.03%\n",
      "epoch: 66, cost: 0.4164, accuracy: 87.03%\n",
      "epoch: 67, cost: 0.4141, accuracy: 87.03%\n",
      "epoch: 68, cost: 0.4119, accuracy: 87.03%\n",
      "epoch: 69, cost: 0.4097, accuracy: 87.03%\n",
      "epoch: 70, cost: 0.4075, accuracy: 87.03%\n",
      "epoch: 71, cost: 0.4054, accuracy: 87.03%\n",
      "epoch: 72, cost: 0.4034, accuracy: 87.03%\n",
      "epoch: 73, cost: 0.4014, accuracy: 87.25%\n",
      "epoch: 74, cost: 0.3994, accuracy: 87.25%\n",
      "epoch: 75, cost: 0.3975, accuracy: 87.25%\n",
      "epoch: 76, cost: 0.3957, accuracy: 87.03%\n",
      "epoch: 77, cost: 0.3938, accuracy: 87.25%\n",
      "epoch: 78, cost: 0.3920, accuracy: 87.47%\n",
      "epoch: 79, cost: 0.3903, accuracy: 87.47%\n",
      "epoch: 80, cost: 0.3886, accuracy: 87.47%\n",
      "epoch: 81, cost: 0.3869, accuracy: 87.47%\n",
      "epoch: 82, cost: 0.3853, accuracy: 87.47%\n",
      "epoch: 83, cost: 0.3837, accuracy: 87.47%\n",
      "epoch: 84, cost: 0.3821, accuracy: 87.69%\n",
      "epoch: 85, cost: 0.3806, accuracy: 87.69%\n",
      "epoch: 86, cost: 0.3791, accuracy: 87.69%\n",
      "epoch: 87, cost: 0.3775, accuracy: 87.69%\n",
      "epoch: 88, cost: 0.3761, accuracy: 87.69%\n",
      "epoch: 89, cost: 0.3746, accuracy: 87.69%\n",
      "epoch: 90, cost: 0.3732, accuracy: 87.69%\n",
      "epoch: 91, cost: 0.3718, accuracy: 87.69%\n",
      "epoch: 92, cost: 0.3704, accuracy: 88.13%\n",
      "epoch: 93, cost: 0.3690, accuracy: 88.13%\n",
      "epoch: 94, cost: 0.3677, accuracy: 88.13%\n",
      "epoch: 95, cost: 0.3664, accuracy: 88.13%\n",
      "epoch: 96, cost: 0.3652, accuracy: 88.13%\n",
      "epoch: 97, cost: 0.3639, accuracy: 88.13%\n",
      "epoch: 98, cost: 0.3627, accuracy: 88.13%\n",
      "epoch: 99, cost: 0.3615, accuracy: 88.13%\n",
      "epoch: 100, cost: 0.3604, accuracy: 88.13%\n",
      "epoch: 101, cost: 0.3593, accuracy: 88.13%\n",
      "epoch: 102, cost: 0.3582, accuracy: 88.13%\n",
      "epoch: 103, cost: 0.3571, accuracy: 88.13%\n",
      "epoch: 104, cost: 0.3560, accuracy: 88.13%\n",
      "epoch: 105, cost: 0.3550, accuracy: 88.13%\n",
      "epoch: 106, cost: 0.3540, accuracy: 88.13%\n",
      "epoch: 107, cost: 0.3530, accuracy: 88.13%\n",
      "epoch: 108, cost: 0.3520, accuracy: 88.13%\n",
      "epoch: 109, cost: 0.3510, accuracy: 88.13%\n",
      "epoch: 110, cost: 0.3501, accuracy: 88.13%\n",
      "epoch: 111, cost: 0.3491, accuracy: 88.13%\n",
      "epoch: 112, cost: 0.3482, accuracy: 88.13%\n",
      "epoch: 113, cost: 0.3472, accuracy: 88.13%\n",
      "epoch: 114, cost: 0.3462, accuracy: 88.13%\n",
      "epoch: 115, cost: 0.3452, accuracy: 88.13%\n",
      "epoch: 116, cost: 0.3443, accuracy: 88.13%\n",
      "epoch: 117, cost: 0.3434, accuracy: 88.13%\n",
      "epoch: 118, cost: 0.3425, accuracy: 88.13%\n",
      "epoch: 119, cost: 0.3416, accuracy: 88.13%\n",
      "epoch: 120, cost: 0.3407, accuracy: 88.13%\n",
      "epoch: 121, cost: 0.3399, accuracy: 88.13%\n",
      "epoch: 122, cost: 0.3390, accuracy: 88.13%\n",
      "epoch: 123, cost: 0.3382, accuracy: 88.13%\n",
      "epoch: 124, cost: 0.3374, accuracy: 88.13%\n",
      "epoch: 125, cost: 0.3365, accuracy: 88.13%\n",
      "epoch: 126, cost: 0.3357, accuracy: 88.13%\n",
      "epoch: 127, cost: 0.3349, accuracy: 88.13%\n",
      "epoch: 128, cost: 0.3341, accuracy: 88.13%\n",
      "epoch: 129, cost: 0.3332, accuracy: 88.13%\n",
      "epoch: 130, cost: 0.3324, accuracy: 88.13%\n",
      "epoch: 131, cost: 0.3315, accuracy: 88.13%\n",
      "epoch: 132, cost: 0.3307, accuracy: 88.13%\n",
      "epoch: 133, cost: 0.3299, accuracy: 88.13%\n",
      "epoch: 134, cost: 0.3292, accuracy: 88.13%\n",
      "epoch: 135, cost: 0.3284, accuracy: 88.13%\n",
      "epoch: 136, cost: 0.3276, accuracy: 88.13%\n",
      "epoch: 137, cost: 0.3269, accuracy: 88.13%\n",
      "epoch: 138, cost: 0.3262, accuracy: 88.13%\n",
      "epoch: 139, cost: 0.3254, accuracy: 88.13%\n",
      "epoch: 140, cost: 0.3247, accuracy: 88.13%\n",
      "epoch: 141, cost: 0.3240, accuracy: 88.13%\n",
      "epoch: 142, cost: 0.3233, accuracy: 88.13%\n",
      "epoch: 143, cost: 0.3227, accuracy: 88.13%\n",
      "epoch: 144, cost: 0.3220, accuracy: 88.13%\n",
      "epoch: 145, cost: 0.3214, accuracy: 88.13%\n",
      "epoch: 146, cost: 0.3207, accuracy: 88.13%\n",
      "epoch: 147, cost: 0.3201, accuracy: 88.13%\n",
      "epoch: 148, cost: 0.3194, accuracy: 88.13%\n",
      "epoch: 149, cost: 0.3188, accuracy: 88.35%\n",
      "epoch: 150, cost: 0.3182, accuracy: 88.35%\n",
      "epoch: 151, cost: 0.3176, accuracy: 88.35%\n",
      "epoch: 152, cost: 0.3170, accuracy: 88.35%\n",
      "epoch: 153, cost: 0.3164, accuracy: 88.35%\n",
      "epoch: 154, cost: 0.3158, accuracy: 88.35%\n",
      "epoch: 155, cost: 0.3152, accuracy: 88.35%\n",
      "epoch: 156, cost: 0.3146, accuracy: 88.35%\n",
      "epoch: 157, cost: 0.3140, accuracy: 88.35%\n",
      "epoch: 158, cost: 0.3134, accuracy: 88.35%\n",
      "epoch: 159, cost: 0.3128, accuracy: 88.35%\n",
      "epoch: 160, cost: 0.3123, accuracy: 88.35%\n",
      "epoch: 161, cost: 0.3117, accuracy: 88.57%\n",
      "epoch: 162, cost: 0.3111, accuracy: 88.57%\n",
      "epoch: 163, cost: 0.3106, accuracy: 88.57%\n",
      "epoch: 164, cost: 0.3100, accuracy: 88.57%\n",
      "epoch: 165, cost: 0.3095, accuracy: 88.57%\n",
      "epoch: 166, cost: 0.3090, accuracy: 88.57%\n",
      "epoch: 167, cost: 0.3085, accuracy: 88.79%\n",
      "epoch: 168, cost: 0.3080, accuracy: 88.79%\n",
      "epoch: 169, cost: 0.3075, accuracy: 88.57%\n",
      "epoch: 170, cost: 0.3070, accuracy: 88.57%\n",
      "epoch: 171, cost: 0.3065, accuracy: 88.57%\n",
      "epoch: 172, cost: 0.3060, accuracy: 88.57%\n",
      "epoch: 173, cost: 0.3055, accuracy: 88.57%\n",
      "epoch: 174, cost: 0.3050, accuracy: 88.57%\n",
      "epoch: 175, cost: 0.3046, accuracy: 88.57%\n",
      "epoch: 176, cost: 0.3041, accuracy: 88.57%\n",
      "epoch: 177, cost: 0.3037, accuracy: 88.57%\n",
      "epoch: 178, cost: 0.3032, accuracy: 88.57%\n",
      "epoch: 179, cost: 0.3028, accuracy: 88.57%\n",
      "epoch: 180, cost: 0.3024, accuracy: 88.57%\n",
      "epoch: 181, cost: 0.3019, accuracy: 88.57%\n",
      "epoch: 182, cost: 0.3015, accuracy: 88.57%\n",
      "epoch: 183, cost: 0.3011, accuracy: 88.57%\n",
      "epoch: 184, cost: 0.3007, accuracy: 88.57%\n",
      "epoch: 185, cost: 0.3003, accuracy: 88.57%\n",
      "epoch: 186, cost: 0.2999, accuracy: 88.57%\n",
      "epoch: 187, cost: 0.2995, accuracy: 88.57%\n",
      "epoch: 188, cost: 0.2991, accuracy: 88.57%\n",
      "epoch: 189, cost: 0.2987, accuracy: 88.57%\n",
      "epoch: 190, cost: 0.2983, accuracy: 88.35%\n",
      "epoch: 191, cost: 0.2979, accuracy: 88.35%\n",
      "epoch: 192, cost: 0.2975, accuracy: 88.35%\n",
      "epoch: 193, cost: 0.2971, accuracy: 89.01%\n",
      "epoch: 194, cost: 0.2967, accuracy: 89.01%\n",
      "epoch: 195, cost: 0.2963, accuracy: 89.01%\n",
      "epoch: 196, cost: 0.2960, accuracy: 89.01%\n",
      "epoch: 197, cost: 0.2956, accuracy: 89.01%\n"
     ]
    },
    {
     "name": "stdout",
     "output_type": "stream",
     "text": [
      "epoch: 198, cost: 0.2952, accuracy: 89.01%\n",
      "epoch: 199, cost: 0.2948, accuracy: 89.01%\n",
      "epoch: 200, cost: 0.2945, accuracy: 89.01%\n"
     ]
    }
   ],
   "source": [
    "classifier = NeuralNetwork()\n",
    "classifier.fit(X_train, y_train, 0.1, 200)"
   ]
  },
  {
   "cell_type": "markdown",
   "id": "598580c2",
   "metadata": {},
   "source": [
    "### Evaluation"
   ]
  },
  {
   "cell_type": "code",
   "execution_count": 77,
   "id": "c8a6dd82",
   "metadata": {
    "scrolled": true
   },
   "outputs": [
    {
     "name": "stdout",
     "output_type": "stream",
     "text": [
      "cost: 0.247\n",
      "accuracy: 0.921\n"
     ]
    }
   ],
   "source": [
    "result = classifier.get_accuracy_cost(X_test, y_test)\n",
    "\n",
    "print(f\"cost: {result[1]:.3f}\")\n",
    "print(f\"accuracy: {result[0]:.3f}\")"
   ]
  },
  {
   "cell_type": "markdown",
   "id": "5fe28c3c",
   "metadata": {},
   "source": [
    "## Bonus: Vanilla gradient descent vs mini batch gradient descent"
   ]
  },
  {
   "cell_type": "markdown",
   "id": "32c0b02f",
   "metadata": {},
   "source": [
    "The following is the same neural network with the same architecture but with mini batch gradient descent instead of vanilla gradient descent"
   ]
  },
  {
   "cell_type": "code",
   "execution_count": 78,
   "id": "65243079",
   "metadata": {},
   "outputs": [],
   "source": [
    "class NeuralNetwork_batch():\n",
    "    \n",
    "    def initialize(self):\n",
    "        self.w11, self.w12, self.w13, self.w14, self.w21, self.w22, self.b11, self.b12, self.b2 = np.random.randn(9)\n",
    "    \n",
    "    def relu(self, x):\n",
    "        return np.maximum(x, 0)\n",
    "    \n",
    "    def sigmoid(self, x):\n",
    "        return 1/(1+np.exp(-x))\n",
    "    \n",
    "    def binary_cross_entropy(self, x, y_true):\n",
    "        return -(y_true * np.log(x) + (1 - y_true) * np.log(1 - x))\n",
    "    \n",
    "    def derivative_relu(self, x):\n",
    "        return 1 if x>0 else 0\n",
    "    \n",
    "    def forward_prop(self, x1, x2):\n",
    "        forward_dict = {} \n",
    "        \n",
    "        # hidden layer\n",
    "        forward_dict[\"z11\"] = self.w11 * x1 + self.w12 * x2 + self.b11\n",
    "        forward_dict[\"z12\"] = self.w13 * x1 + self.w14 * x2 + self.b12\n",
    "        forward_dict[\"a11\"] = self.relu(forward_dict[\"z11\"])\n",
    "        forward_dict[\"a12\"] = self.relu(forward_dict[\"z12\"])\n",
    "        \n",
    "        # output layer\n",
    "        forward_dict[\"z2\"] = self.w21 * forward_dict[\"a11\"] + self.w22 * forward_dict[\"a12\"] + self.b2\n",
    "        forward_dict[\"a2\"] = self.sigmoid(forward_dict[\"z2\"])\n",
    "        \n",
    "        return forward_dict\n",
    "\n",
    "    def back_prop(self, x1, x2, y_true, forward_dict):\n",
    "        # gradient will be calculated for each training example and averaged later#\n",
    "        \n",
    "        deriva_dict = {}\n",
    "        \n",
    "        # output layer\n",
    "        error = forward_dict[\"a2\"] - y_true\n",
    "        \n",
    "        deriva_dict[\"dloss_dw21\"] = forward_dict[\"a11\"] * error\n",
    "        deriva_dict[\"dloss_dw22\"] = forward_dict[\"a12\"] * error\n",
    "        deriva_dict[\"dloss_db2\"] = error\n",
    "        \n",
    "        # hidden layer\n",
    "        dcost_dz11 = self.derivative_relu(forward_dict[\"z11\"]) * self.w21 * error\n",
    "        dcost_dz12 = self.derivative_relu(forward_dict[\"z12\"]) * self.w22 * error\n",
    "        \n",
    "        deriva_dict[\"dloss_dw11\"] = x1 * dcost_dz11\n",
    "        deriva_dict[\"dloss_dw12\"] = x2 * dcost_dz11\n",
    "        deriva_dict[\"dloss_db11\"] = dcost_dz11\n",
    "        \n",
    "        deriva_dict[\"dloss_dw13\"] = x1 * dcost_dz12\n",
    "        deriva_dict[\"dloss_dw14\"] = x2 * dcost_dz12\n",
    "        deriva_dict[\"dloss_db12\"] = dcost_dz12\n",
    "        \n",
    "        return deriva_dict\n",
    "    \n",
    "    def get_prob_class(self, x1, x2):\n",
    "        prob = self.forward_prop(x1, x2)[\"a2\"]\n",
    "        class_ = self.encode_class(prob)\n",
    "        return prob, class_\n",
    "    \n",
    "    def encode_class(self, x):\n",
    "        return 1 if x>0.5 else 0\n",
    "    \n",
    "    def get_accuracy_cost(self, X, y):\n",
    "        n = X.shape[0]\n",
    "        n_correct = 0\n",
    "        cost_total = 0\n",
    "        for i in range(n):\n",
    "            x1, x2 = X[i]\n",
    "            prediction = self.get_prob_class(x1, x2)\n",
    "            if prediction[1] == y[i][0]:\n",
    "                n_correct += 1\n",
    "            cost_total += self.binary_cross_entropy(prediction[0], y[i][0])\n",
    "        return n_correct/n, cost_total/n\n",
    "\n",
    "    def fit(self, X, y, alpha, epochs, batch_size=32):\n",
    "        n, m = X.shape\n",
    "        combined = np.hstack([X, y])\n",
    "        self.initialize()\n",
    "        n_iter_batch = np.ceil(n/batch_size)  # Number of training iteration for one epoch\n",
    "        \n",
    "\n",
    "        for i in range(1, epochs+1):\n",
    "            dcost_dw21 = 0\n",
    "            dcost_dw22 = 0\n",
    "            dcost_db2 = 0\n",
    "            dcost_dw11 = 0\n",
    "            dcost_dw12 = 0\n",
    "            dcost_db11 = 0\n",
    "            dcost_dw13 = 0\n",
    "            dcost_dw14 = 0\n",
    "            dcost_db12 = 0\n",
    "            \n",
    "            #Shuffled the dataset before splitting\n",
    "            combined_shuffled = np.random.permutation(combined)\n",
    "            X_shuffled = combined_shuffled[:, 0:-1]\n",
    "            y_shuffled = combined_shuffled[:, -1].reshape(-1, 1)\n",
    "            \n",
    "            costs_batch = 0\n",
    "            accuracies_batch = 0\n",
    "            for k in tqdm(range(0, n, batch_size), position=0):\n",
    "                X_batch = X_shuffled[k: k+batch_size]\n",
    "                y_batch = y_shuffled[k: k+batch_size]\n",
    "                n_batch = X_batch.shape[0]\n",
    "            \n",
    "                for j in range(n_batch):\n",
    "                    x1 , x2 = X_batch[j]\n",
    "                    y_true = y_batch[j][0]\n",
    "                    forward_prop = self.forward_prop(x1, x2)\n",
    "                    back_prop = self.back_prop(x1, x2, y_true, forward_prop)\n",
    "\n",
    "                    dcost_dw21 += back_prop[\"dloss_dw21\"]\n",
    "                    dcost_dw22 += back_prop[\"dloss_dw22\"]\n",
    "                    dcost_db2 += back_prop[\"dloss_db2\"]\n",
    "                    dcost_dw11 += back_prop[\"dloss_dw11\"]\n",
    "                    dcost_dw12 += back_prop[\"dloss_dw12\"]\n",
    "                    dcost_db11 += back_prop[\"dloss_db11\"]\n",
    "                    dcost_dw13 += back_prop[\"dloss_dw13\"]\n",
    "                    dcost_dw14 += back_prop[\"dloss_dw14\"]\n",
    "                    dcost_db12 += back_prop[\"dloss_db12\"]\n",
    "\n",
    "                self.w21 -= alpha*(1/n)*dcost_dw21 \n",
    "                self.w22 -= alpha*(1/n)*dcost_dw22 \n",
    "                self.b2  -= alpha*(1/n)*dcost_db2\n",
    "                self.w11 -= alpha*(1/n)*dcost_dw11 \n",
    "                self.w12 -= alpha*(1/n)*dcost_dw12 \n",
    "                self.b11 -= alpha*(1/n)*dcost_db11\n",
    "                self.w13 -= alpha*(1/n)*dcost_dw13\n",
    "                self.w14 -= alpha*(1/n)*dcost_dw14\n",
    "                self.b12 -= alpha*(1/n)*dcost_db12\n",
    "\n",
    "                accuracy, cost = self.get_accuracy_cost(X_batch, y_batch)\n",
    "                costs_batch += cost\n",
    "                accuracies_batch += accuracy\n",
    "            \n",
    "            # Reported cost and accuracy are averaged across the mini batch\n",
    "            # of a given epoch\n",
    "            epoch_cost = costs_batch/n_iter_batch\n",
    "            epoch_accuracy = accuracies_batch/n_iter_batch\n",
    "            print(f\"epoch: {i}, cost: {epoch_cost:.4f}, accuracy: {epoch_accuracy:.2f}%\")"
   ]
  },
  {
   "cell_type": "markdown",
   "id": "672481ba",
   "metadata": {},
   "source": [
    "### Training using small epoch (30)"
   ]
  },
  {
   "cell_type": "markdown",
   "id": "1dc64ef6",
   "metadata": {},
   "source": [
    "#### With mini batch"
   ]
  },
  {
   "cell_type": "code",
   "execution_count": 79,
   "id": "3d365253",
   "metadata": {
    "scrolled": true
   },
   "outputs": [
    {
     "name": "stderr",
     "output_type": "stream",
     "text": [
      "100%|█████████████████████████████████████████████████████████████████████████████████| 15/15 [00:00<00:00, 377.65it/s]\n"
     ]
    },
    {
     "name": "stdout",
     "output_type": "stream",
     "text": [
      "epoch: 1, cost: 0.5522, accuracy: 0.68%\n"
     ]
    },
    {
     "name": "stderr",
     "output_type": "stream",
     "text": [
      "100%|█████████████████████████████████████████████████████████████████████████████████| 15/15 [00:00<00:00, 256.43it/s]\n"
     ]
    },
    {
     "name": "stdout",
     "output_type": "stream",
     "text": [
      "epoch: 2, cost: 0.3144, accuracy: 0.92%\n"
     ]
    },
    {
     "name": "stderr",
     "output_type": "stream",
     "text": [
      "100%|█████████████████████████████████████████████████████████████████████████████████| 15/15 [00:00<00:00, 203.75it/s]\n"
     ]
    },
    {
     "name": "stdout",
     "output_type": "stream",
     "text": [
      "epoch: 3, cost: 0.2553, accuracy: 0.95%\n"
     ]
    },
    {
     "name": "stderr",
     "output_type": "stream",
     "text": [
      "100%|█████████████████████████████████████████████████████████████████████████████████| 15/15 [00:00<00:00, 378.54it/s]\n"
     ]
    },
    {
     "name": "stdout",
     "output_type": "stream",
     "text": [
      "epoch: 4, cost: 0.2363, accuracy: 0.94%\n"
     ]
    },
    {
     "name": "stderr",
     "output_type": "stream",
     "text": [
      "100%|█████████████████████████████████████████████████████████████████████████████████| 15/15 [00:00<00:00, 381.85it/s]\n"
     ]
    },
    {
     "name": "stdout",
     "output_type": "stream",
     "text": [
      "epoch: 5, cost: 0.2295, accuracy: 0.95%\n"
     ]
    },
    {
     "name": "stderr",
     "output_type": "stream",
     "text": [
      "100%|█████████████████████████████████████████████████████████████████████████████████| 15/15 [00:00<00:00, 270.96it/s]\n"
     ]
    },
    {
     "name": "stdout",
     "output_type": "stream",
     "text": [
      "epoch: 6, cost: 0.2264, accuracy: 0.95%\n"
     ]
    },
    {
     "name": "stderr",
     "output_type": "stream",
     "text": [
      "100%|█████████████████████████████████████████████████████████████████████████████████| 15/15 [00:00<00:00, 323.94it/s]\n"
     ]
    },
    {
     "name": "stdout",
     "output_type": "stream",
     "text": [
      "epoch: 7, cost: 0.2235, accuracy: 0.95%\n"
     ]
    },
    {
     "name": "stderr",
     "output_type": "stream",
     "text": [
      "100%|█████████████████████████████████████████████████████████████████████████████████| 15/15 [00:00<00:00, 387.34it/s]\n"
     ]
    },
    {
     "name": "stdout",
     "output_type": "stream",
     "text": [
      "epoch: 8, cost: 0.2137, accuracy: 0.95%\n"
     ]
    },
    {
     "name": "stderr",
     "output_type": "stream",
     "text": [
      "100%|█████████████████████████████████████████████████████████████████████████████████| 15/15 [00:00<00:00, 366.03it/s]\n"
     ]
    },
    {
     "name": "stdout",
     "output_type": "stream",
     "text": [
      "epoch: 9, cost: 0.2182, accuracy: 0.94%\n"
     ]
    },
    {
     "name": "stderr",
     "output_type": "stream",
     "text": [
      "100%|█████████████████████████████████████████████████████████████████████████████████| 15/15 [00:00<00:00, 409.16it/s]\n"
     ]
    },
    {
     "name": "stdout",
     "output_type": "stream",
     "text": [
      "epoch: 10, cost: 0.2168, accuracy: 0.94%\n"
     ]
    },
    {
     "name": "stderr",
     "output_type": "stream",
     "text": [
      "100%|█████████████████████████████████████████████████████████████████████████████████| 15/15 [00:00<00:00, 443.76it/s]\n"
     ]
    },
    {
     "name": "stdout",
     "output_type": "stream",
     "text": [
      "epoch: 11, cost: 0.2237, accuracy: 0.94%\n"
     ]
    },
    {
     "name": "stderr",
     "output_type": "stream",
     "text": [
      "100%|█████████████████████████████████████████████████████████████████████████████████| 15/15 [00:00<00:00, 381.71it/s]\n"
     ]
    },
    {
     "name": "stdout",
     "output_type": "stream",
     "text": [
      "epoch: 12, cost: 0.1982, accuracy: 0.95%\n"
     ]
    },
    {
     "name": "stderr",
     "output_type": "stream",
     "text": [
      "100%|█████████████████████████████████████████████████████████████████████████████████| 15/15 [00:00<00:00, 388.22it/s]\n"
     ]
    },
    {
     "name": "stdout",
     "output_type": "stream",
     "text": [
      "epoch: 13, cost: 0.2284, accuracy: 0.94%\n"
     ]
    },
    {
     "name": "stderr",
     "output_type": "stream",
     "text": [
      "100%|█████████████████████████████████████████████████████████████████████████████████| 15/15 [00:00<00:00, 354.69it/s]\n"
     ]
    },
    {
     "name": "stdout",
     "output_type": "stream",
     "text": [
      "epoch: 14, cost: 0.1985, accuracy: 0.95%\n"
     ]
    },
    {
     "name": "stderr",
     "output_type": "stream",
     "text": [
      "100%|█████████████████████████████████████████████████████████████████████████████████| 15/15 [00:00<00:00, 351.47it/s]\n"
     ]
    },
    {
     "name": "stdout",
     "output_type": "stream",
     "text": [
      "epoch: 15, cost: 0.1973, accuracy: 0.95%\n"
     ]
    },
    {
     "name": "stderr",
     "output_type": "stream",
     "text": [
      "100%|█████████████████████████████████████████████████████████████████████████████████| 15/15 [00:00<00:00, 244.74it/s]\n"
     ]
    },
    {
     "name": "stdout",
     "output_type": "stream",
     "text": [
      "epoch: 16, cost: 0.2020, accuracy: 0.94%\n"
     ]
    },
    {
     "name": "stderr",
     "output_type": "stream",
     "text": [
      "100%|█████████████████████████████████████████████████████████████████████████████████| 15/15 [00:00<00:00, 353.44it/s]\n"
     ]
    },
    {
     "name": "stdout",
     "output_type": "stream",
     "text": [
      "epoch: 17, cost: 0.1994, accuracy: 0.94%\n"
     ]
    },
    {
     "name": "stderr",
     "output_type": "stream",
     "text": [
      "100%|█████████████████████████████████████████████████████████████████████████████████| 15/15 [00:00<00:00, 347.91it/s]\n"
     ]
    },
    {
     "name": "stdout",
     "output_type": "stream",
     "text": [
      "epoch: 18, cost: 0.1865, accuracy: 0.95%\n"
     ]
    },
    {
     "name": "stderr",
     "output_type": "stream",
     "text": [
      "100%|█████████████████████████████████████████████████████████████████████████████████| 15/15 [00:00<00:00, 392.48it/s]\n"
     ]
    },
    {
     "name": "stdout",
     "output_type": "stream",
     "text": [
      "epoch: 19, cost: 0.1857, accuracy: 0.95%\n"
     ]
    },
    {
     "name": "stderr",
     "output_type": "stream",
     "text": [
      "100%|█████████████████████████████████████████████████████████████████████████████████| 15/15 [00:00<00:00, 346.89it/s]\n"
     ]
    },
    {
     "name": "stdout",
     "output_type": "stream",
     "text": [
      "epoch: 20, cost: 0.1844, accuracy: 0.95%\n"
     ]
    },
    {
     "name": "stderr",
     "output_type": "stream",
     "text": [
      "100%|█████████████████████████████████████████████████████████████████████████████████| 15/15 [00:00<00:00, 232.01it/s]\n"
     ]
    },
    {
     "name": "stdout",
     "output_type": "stream",
     "text": [
      "epoch: 21, cost: 0.1889, accuracy: 0.95%\n"
     ]
    },
    {
     "name": "stderr",
     "output_type": "stream",
     "text": [
      "100%|█████████████████████████████████████████████████████████████████████████████████| 15/15 [00:00<00:00, 245.33it/s]\n"
     ]
    },
    {
     "name": "stdout",
     "output_type": "stream",
     "text": [
      "epoch: 22, cost: 0.1861, accuracy: 0.95%\n"
     ]
    },
    {
     "name": "stderr",
     "output_type": "stream",
     "text": [
      "100%|█████████████████████████████████████████████████████████████████████████████████| 15/15 [00:00<00:00, 399.78it/s]\n"
     ]
    },
    {
     "name": "stdout",
     "output_type": "stream",
     "text": [
      "epoch: 23, cost: 0.1806, accuracy: 0.95%\n"
     ]
    },
    {
     "name": "stderr",
     "output_type": "stream",
     "text": [
      "100%|█████████████████████████████████████████████████████████████████████████████████| 15/15 [00:00<00:00, 370.47it/s]\n"
     ]
    },
    {
     "name": "stdout",
     "output_type": "stream",
     "text": [
      "epoch: 24, cost: 0.2016, accuracy: 0.93%\n"
     ]
    },
    {
     "name": "stderr",
     "output_type": "stream",
     "text": [
      "100%|█████████████████████████████████████████████████████████████████████████████████| 15/15 [00:00<00:00, 228.26it/s]\n"
     ]
    },
    {
     "name": "stdout",
     "output_type": "stream",
     "text": [
      "epoch: 25, cost: 0.1766, accuracy: 0.95%\n"
     ]
    },
    {
     "name": "stderr",
     "output_type": "stream",
     "text": [
      "100%|█████████████████████████████████████████████████████████████████████████████████| 15/15 [00:00<00:00, 329.77it/s]\n"
     ]
    },
    {
     "name": "stdout",
     "output_type": "stream",
     "text": [
      "epoch: 26, cost: 0.1731, accuracy: 0.95%\n"
     ]
    },
    {
     "name": "stderr",
     "output_type": "stream",
     "text": [
      "100%|█████████████████████████████████████████████████████████████████████████████████| 15/15 [00:00<00:00, 276.47it/s]\n"
     ]
    },
    {
     "name": "stdout",
     "output_type": "stream",
     "text": [
      "epoch: 27, cost: 0.1710, accuracy: 0.95%\n"
     ]
    },
    {
     "name": "stderr",
     "output_type": "stream",
     "text": [
      "100%|█████████████████████████████████████████████████████████████████████████████████| 15/15 [00:00<00:00, 267.22it/s]\n"
     ]
    },
    {
     "name": "stdout",
     "output_type": "stream",
     "text": [
      "epoch: 28, cost: 0.1866, accuracy: 0.95%\n"
     ]
    },
    {
     "name": "stderr",
     "output_type": "stream",
     "text": [
      "100%|█████████████████████████████████████████████████████████████████████████████████| 15/15 [00:00<00:00, 238.28it/s]\n"
     ]
    },
    {
     "name": "stdout",
     "output_type": "stream",
     "text": [
      "epoch: 29, cost: 0.1748, accuracy: 0.96%\n"
     ]
    },
    {
     "name": "stderr",
     "output_type": "stream",
     "text": [
      "100%|█████████████████████████████████████████████████████████████████████████████████| 15/15 [00:00<00:00, 206.05it/s]"
     ]
    },
    {
     "name": "stdout",
     "output_type": "stream",
     "text": [
      "epoch: 30, cost: 0.1683, accuracy: 0.96%\n"
     ]
    },
    {
     "name": "stderr",
     "output_type": "stream",
     "text": [
      "\n"
     ]
    }
   ],
   "source": [
    "classifier_batch = NeuralNetwork_batch()\n",
    "classifier_batch.fit(X_train, y_train, 0.1, 30)"
   ]
  },
  {
   "cell_type": "markdown",
   "id": "e89f97e3",
   "metadata": {},
   "source": [
    "#### Without mini batch"
   ]
  },
  {
   "cell_type": "code",
   "execution_count": 81,
   "id": "15e1457e",
   "metadata": {},
   "outputs": [
    {
     "name": "stdout",
     "output_type": "stream",
     "text": [
      "epoch: 1, cost: 1.3219, accuracy: 25.49%\n",
      "epoch: 2, cost: 0.9042, accuracy: 49.45%\n",
      "epoch: 3, cost: 0.7690, accuracy: 61.98%\n",
      "epoch: 4, cost: 0.7222, accuracy: 62.86%\n",
      "epoch: 5, cost: 0.6971, accuracy: 62.86%\n",
      "epoch: 6, cost: 0.6795, accuracy: 62.86%\n",
      "epoch: 7, cost: 0.6652, accuracy: 62.86%\n",
      "epoch: 8, cost: 0.6528, accuracy: 62.86%\n",
      "epoch: 9, cost: 0.6416, accuracy: 62.86%\n",
      "epoch: 10, cost: 0.6311, accuracy: 62.86%\n",
      "epoch: 11, cost: 0.6211, accuracy: 62.86%\n",
      "epoch: 12, cost: 0.6115, accuracy: 62.86%\n",
      "epoch: 13, cost: 0.6024, accuracy: 62.86%\n",
      "epoch: 14, cost: 0.5936, accuracy: 62.86%\n",
      "epoch: 15, cost: 0.5854, accuracy: 62.86%\n",
      "epoch: 16, cost: 0.5773, accuracy: 62.86%\n",
      "epoch: 17, cost: 0.5694, accuracy: 62.86%\n",
      "epoch: 18, cost: 0.5617, accuracy: 62.86%\n",
      "epoch: 19, cost: 0.5541, accuracy: 62.86%\n",
      "epoch: 20, cost: 0.5468, accuracy: 62.86%\n",
      "epoch: 21, cost: 0.5397, accuracy: 62.86%\n",
      "epoch: 22, cost: 0.5328, accuracy: 62.86%\n",
      "epoch: 23, cost: 0.5261, accuracy: 62.86%\n",
      "epoch: 24, cost: 0.5197, accuracy: 62.86%\n",
      "epoch: 25, cost: 0.5134, accuracy: 62.86%\n",
      "epoch: 26, cost: 0.5072, accuracy: 62.86%\n",
      "epoch: 27, cost: 0.5012, accuracy: 62.86%\n",
      "epoch: 28, cost: 0.4954, accuracy: 62.86%\n",
      "epoch: 29, cost: 0.4896, accuracy: 62.86%\n",
      "epoch: 30, cost: 0.4840, accuracy: 62.86%\n"
     ]
    }
   ],
   "source": [
    "classifier = NeuralNetwork()\n",
    "classifier.fit(X_train, y_train, 0.1, 30)"
   ]
  },
  {
   "cell_type": "markdown",
   "id": "a93f3701",
   "metadata": {},
   "source": [
    "### Evaluation & Comparison"
   ]
  },
  {
   "cell_type": "code",
   "execution_count": 82,
   "id": "692f6920",
   "metadata": {},
   "outputs": [
    {
     "name": "stdout",
     "output_type": "stream",
     "text": [
      "cost without minibatch: 0.414\n",
      "accuracy without minibatch: 0.623\n",
      "cost with minibatch: 0.097\n",
      "accuracy with minibatch: 0.982\n"
     ]
    }
   ],
   "source": [
    "classifier_ = classifier.get_accuracy_cost(X_test, y_test)\n",
    "\n",
    "print(f\"cost without minibatch: {classifier_[1]:.3f}\")\n",
    "print(f\"accuracy without minibatch: {classifier_[0]:.3f}\")\n",
    "\n",
    "classifier_batch_ = classifier_batch.get_accuracy_cost(X_test, y_test)\n",
    "\n",
    "print(f\"cost with minibatch: {classifier_batch_[1]:.3f}\")\n",
    "print(f\"accuracy with minibatch: {classifier_batch_[0]:.3f}\")"
   ]
  },
  {
   "cell_type": "markdown",
   "id": "1ebcf361",
   "metadata": {},
   "source": [
    "It appears that, in the long run, mini batch gradient descent can achieve better metrics using less epoch, hence more efficient"
   ]
  },
  {
   "cell_type": "markdown",
   "id": "3b479547",
   "metadata": {},
   "source": [
    "# That's it. not bad at all :p"
   ]
  }
 ],
 "metadata": {
  "kernelspec": {
   "display_name": "Python 3 (ipykernel)",
   "language": "python",
   "name": "python3"
  },
  "language_info": {
   "codemirror_mode": {
    "name": "ipython",
    "version": 3
   },
   "file_extension": ".py",
   "mimetype": "text/x-python",
   "name": "python",
   "nbconvert_exporter": "python",
   "pygments_lexer": "ipython3",
   "version": "3.9.12"
  }
 },
 "nbformat": 4,
 "nbformat_minor": 5
}
