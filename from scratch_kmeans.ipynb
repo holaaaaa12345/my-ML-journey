{
 "cells": [
  {
   "cell_type": "markdown",
   "id": "048f394f",
   "metadata": {},
   "source": [
    "### Obj: Implement KMeans from scratch using iris dataset"
   ]
  },
  {
   "cell_type": "markdown",
   "id": "0570dc30",
   "metadata": {},
   "source": [
    "This notebook is a part of the series __From Scratch__, where i try to code machine learning algorithms from scratch (just numpy and math)"
   ]
  },
  {
   "cell_type": "code",
   "execution_count": 12,
   "id": "af0c6b3f",
   "metadata": {},
   "outputs": [],
   "source": [
    "import numpy as np\n",
    "import pandas as pd\n",
    "import matplotlib.pyplot as plt\n",
    "from sklearn import datasets\n",
    "from sklearn.cluster import KMeans  # Just for crosschecking"
   ]
  },
  {
   "cell_type": "markdown",
   "id": "6c986734",
   "metadata": {},
   "source": [
    "#### The iris dataset and preprocessing"
   ]
  },
  {
   "cell_type": "markdown",
   "id": "430a216e",
   "metadata": {},
   "source": [
    "I will only be using petal length and petal width features"
   ]
  },
  {
   "cell_type": "code",
   "execution_count": 4,
   "id": "6db0a6a1",
   "metadata": {
    "scrolled": true
   },
   "outputs": [],
   "source": [
    "iris_master = datasets.load_iris() "
   ]
  },
  {
   "cell_type": "code",
   "execution_count": 5,
   "id": "3d5d858e",
   "metadata": {},
   "outputs": [
    {
     "data": {
      "text/html": [
       "<div>\n",
       "<style scoped>\n",
       "    .dataframe tbody tr th:only-of-type {\n",
       "        vertical-align: middle;\n",
       "    }\n",
       "\n",
       "    .dataframe tbody tr th {\n",
       "        vertical-align: top;\n",
       "    }\n",
       "\n",
       "    .dataframe thead th {\n",
       "        text-align: right;\n",
       "    }\n",
       "</style>\n",
       "<table border=\"1\" class=\"dataframe\">\n",
       "  <thead>\n",
       "    <tr style=\"text-align: right;\">\n",
       "      <th></th>\n",
       "      <th>petal length (cm)</th>\n",
       "      <th>petal width (cm)</th>\n",
       "      <th>species</th>\n",
       "    </tr>\n",
       "  </thead>\n",
       "  <tbody>\n",
       "    <tr>\n",
       "      <th>0</th>\n",
       "      <td>1.4</td>\n",
       "      <td>0.2</td>\n",
       "      <td>setosa</td>\n",
       "    </tr>\n",
       "    <tr>\n",
       "      <th>1</th>\n",
       "      <td>1.4</td>\n",
       "      <td>0.2</td>\n",
       "      <td>setosa</td>\n",
       "    </tr>\n",
       "    <tr>\n",
       "      <th>2</th>\n",
       "      <td>1.3</td>\n",
       "      <td>0.2</td>\n",
       "      <td>setosa</td>\n",
       "    </tr>\n",
       "    <tr>\n",
       "      <th>3</th>\n",
       "      <td>1.5</td>\n",
       "      <td>0.2</td>\n",
       "      <td>setosa</td>\n",
       "    </tr>\n",
       "    <tr>\n",
       "      <th>4</th>\n",
       "      <td>1.4</td>\n",
       "      <td>0.2</td>\n",
       "      <td>setosa</td>\n",
       "    </tr>\n",
       "    <tr>\n",
       "      <th>...</th>\n",
       "      <td>...</td>\n",
       "      <td>...</td>\n",
       "      <td>...</td>\n",
       "    </tr>\n",
       "    <tr>\n",
       "      <th>145</th>\n",
       "      <td>5.2</td>\n",
       "      <td>2.3</td>\n",
       "      <td>virginica</td>\n",
       "    </tr>\n",
       "    <tr>\n",
       "      <th>146</th>\n",
       "      <td>5.0</td>\n",
       "      <td>1.9</td>\n",
       "      <td>virginica</td>\n",
       "    </tr>\n",
       "    <tr>\n",
       "      <th>147</th>\n",
       "      <td>5.2</td>\n",
       "      <td>2.0</td>\n",
       "      <td>virginica</td>\n",
       "    </tr>\n",
       "    <tr>\n",
       "      <th>148</th>\n",
       "      <td>5.4</td>\n",
       "      <td>2.3</td>\n",
       "      <td>virginica</td>\n",
       "    </tr>\n",
       "    <tr>\n",
       "      <th>149</th>\n",
       "      <td>5.1</td>\n",
       "      <td>1.8</td>\n",
       "      <td>virginica</td>\n",
       "    </tr>\n",
       "  </tbody>\n",
       "</table>\n",
       "<p>150 rows × 3 columns</p>\n",
       "</div>"
      ],
      "text/plain": [
       "     petal length (cm)  petal width (cm)    species\n",
       "0                  1.4               0.2     setosa\n",
       "1                  1.4               0.2     setosa\n",
       "2                  1.3               0.2     setosa\n",
       "3                  1.5               0.2     setosa\n",
       "4                  1.4               0.2     setosa\n",
       "..                 ...               ...        ...\n",
       "145                5.2               2.3  virginica\n",
       "146                5.0               1.9  virginica\n",
       "147                5.2               2.0  virginica\n",
       "148                5.4               2.3  virginica\n",
       "149                5.1               1.8  virginica\n",
       "\n",
       "[150 rows x 3 columns]"
      ]
     },
     "execution_count": 5,
     "metadata": {},
     "output_type": "execute_result"
    }
   ],
   "source": [
    "iris = pd.DataFrame(\n",
    "    data= np.hstack((iris_master['data'], iris_master['target'].reshape(-1, 1))),\n",
    "    columns= iris_master['feature_names'] + ['target']\n",
    "    )\n",
    "iris[\"species\"] = iris[\"target\"].replace({0:\"setosa\", 1:\"versicolor\", 2:\"virginica\"})\n",
    "iris = iris[[\"petal length (cm)\", \"petal width (cm)\", \"species\"]]\n",
    "iris"
   ]
  },
  {
   "cell_type": "markdown",
   "id": "2e754f9d",
   "metadata": {},
   "source": [
    "### Plottting the dataset"
   ]
  },
  {
   "cell_type": "code",
   "execution_count": 64,
   "id": "f9f3ba58",
   "metadata": {
    "scrolled": true
   },
   "outputs": [
    {
     "data": {
      "image/png": "[encoded data removed]",
      "text/plain": [
       "<Figure size 432x288 with 1 Axes>"
      ]
     },
     "metadata": {
      "needs_background": "light"
     },
     "output_type": "display_data"
    }
   ],
   "source": [
    "setosa = iris[iris.species == \"setosa\"]\n",
    "versicolor = iris[iris.species==\"versicolor\"]\n",
    "virginica = iris[iris.species==\"virginica\"]\n",
    "\n",
    "fig, ax = plt.subplots()\n",
    "\n",
    "# lables and scatter points\n",
    "ax.scatter(setosa['petal length (cm)'], setosa['petal width (cm)'], label=\"Setosa\", facecolor=\"blue\")\n",
    "ax.scatter(versicolor['petal length (cm)'], versicolor['petal width (cm)'], label=\"Versicolor\", facecolor=\"green\")\n",
    "ax.scatter(virginica['petal length (cm)'], virginica['petal width (cm)'], label=\"Virginica\", facecolor=\"red\")\n",
    "\n",
    "\n",
    "ax.set_xlabel(\"petal length (cm)\")\n",
    "ax.set_ylabel(\"petal width (cm)\")\n",
    "ax.grid()\n",
    "ax.set_title(\"Iris petals\")\n",
    "ax.legend()\n",
    "plt.show()"
   ]
  },
  {
   "cell_type": "markdown",
   "id": "1aa45b52",
   "metadata": {},
   "source": [
    "#### Converting to numpy"
   ]
  },
  {
   "cell_type": "code",
   "execution_count": 7,
   "id": "1b88a2ea",
   "metadata": {},
   "outputs": [],
   "source": [
    "X = iris.to_numpy()[:, (0,1)].astype(\"float32\")"
   ]
  },
  {
   "cell_type": "markdown",
   "id": "e6eed434",
   "metadata": {},
   "source": [
    "### The KMeans Class from scratch"
   ]
  },
  {
   "cell_type": "code",
   "execution_count": 8,
   "id": "e54d20d6",
   "metadata": {},
   "outputs": [],
   "source": [
    "class KMeans_():\n",
    "    \n",
    "    def __init__(self, n_cluster, iterations, n_init):\n",
    "        self.n_cluster = n_cluster\n",
    "        self.iterations = iterations\n",
    "        self.n_init = n_init  # Number of models to choose the best from\n",
    "        \n",
    "    \n",
    "    def one_init_kmeans(self, X, n_cluster, iterations):\n",
    "        # K-means for one random initialization\n",
    "        \n",
    "        m, n = X.shape\n",
    "        init_index = np.random.randint(0, m, size=(n_cluster))\n",
    "        centroids = X[init_index, :]\n",
    "        costs = []\n",
    "\n",
    "        for i in range(iterations):\n",
    "            distances = np.zeros((m, n_cluster))\n",
    "            \n",
    "            for j in range(n_cluster):\n",
    "                distances[:,j] = np.linalg.norm((X-centroids[j]).astype(\"float32\"), axis=1)\n",
    "            cent_index = np.argmin(distances, axis=1)\n",
    "            \n",
    "            for k in np.unique(cent_index):\n",
    "                centroids[k] = X[cent_index==k].mean(axis=0)\n",
    "                \n",
    "            cost = self.distortion_function(X, centroids, cent_index)    \n",
    "            costs.append(cost)\n",
    "\n",
    "        return centroids, cent_index, costs\n",
    "    \n",
    "    \n",
    "    @staticmethod\n",
    "    def assign_centroid(X, clusters, idx):\n",
    "        # Assigning each example to its corresponding centroid\n",
    "        \n",
    "        m, n = X.shape\n",
    "        each_centroid = np.zeros((m, n))\n",
    "        for i in np.unique(idx):\n",
    "            each_centroid[idx==i] = clusters[i]\n",
    "        return each_centroid\n",
    "    \n",
    "    def distortion_function(self, X, clusters, idx):\n",
    "        # Computing the cost function of the model\n",
    "        \n",
    "        each_centroid = self.assign_centroid(X, clusters, idx)\n",
    "        result = np.linalg.norm(X - each_centroid).sum()\n",
    "        return result\n",
    "    \n",
    "    def fit(self, X):\n",
    "        counter = None\n",
    "        for i in range(self.n_init):\n",
    "            model = self.one_init_kmeans(X, self.n_cluster, self.iterations)\n",
    "            cost_final = model[2][-1]\n",
    "            if counter is None or cost_final < counter:  # Deciding between the best model\n",
    "                counter = cost_final\n",
    "                centroids = model[0]\n",
    "                cent_index = model[1]\n",
    "                costs = model[2]\n",
    "        \n",
    "        self.centroids = centroids\n",
    "        self.cent_index = cent_index\n",
    "        self.costs_final = costs\n",
    "    \n",
    "    def fit_transfrom(self, X):\n",
    "        self.fit(X)\n",
    "        result = assign_centroid(X, self.centroids, self.cent_index)\n",
    "        return result\n",
    "        "
   ]
  },
  {
   "cell_type": "markdown",
   "id": "08466c94",
   "metadata": {},
   "source": [
    "#### Evaluation"
   ]
  },
  {
   "cell_type": "code",
   "execution_count": 9,
   "id": "cefc08af",
   "metadata": {
    "scrolled": false
   },
   "outputs": [
    {
     "name": "stdout",
     "output_type": "stream",
     "text": [
      "final_centroids: \n",
      "[[5.5958343  2.0375004 ]\n",
      " [4.269231   1.3423076 ]\n",
      " [1.462      0.24599996]]\n"
     ]
    },
    {
     "data": {
      "image/png": "[encoded data removed]",
      "text/plain": [
       "<Figure size 432x288 with 1 Axes>"
      ]
     },
     "metadata": {
      "needs_background": "light"
     },
     "output_type": "display_data"
    },
    {
     "name": "stdout",
     "output_type": "stream",
     "text": [
      "CPU times: total: 438 ms\n",
      "Wall time: 1.06 s\n"
     ]
    }
   ],
   "source": [
    "%%time\n",
    "model = KMeans_(3, 10, 5)\n",
    "model.fit(X)\n",
    "print(\"final_centroids: \")\n",
    "print(model.centroids)\n",
    "\n",
    "costs = model.costs_final\n",
    "\n",
    "fig, ax = plt.subplots()\n",
    "\n",
    "ax.plot(range(len(costs)), costs)\n",
    "ax.set_xlabel(\"iteration\")\n",
    "ax.set_ylabel(\"cost\")\n",
    "ax.set_title(\"Cost across iteration\")\n",
    "plt.show()"
   ]
  },
  {
   "cell_type": "markdown",
   "id": "b0e62ce6",
   "metadata": {},
   "source": [
    "Convergence is achieved =D"
   ]
  },
  {
   "cell_type": "markdown",
   "id": "aa569bfd",
   "metadata": {},
   "source": [
    "### Comparison with scikit learn kmeans"
   ]
  },
  {
   "cell_type": "code",
   "execution_count": 11,
   "id": "1f79debd",
   "metadata": {
    "scrolled": true
   },
   "outputs": [
    {
     "name": "stdout",
     "output_type": "stream",
     "text": [
      "CPU times: total: 31.2 ms\n",
      "Wall time: 47.7 ms\n"
     ]
    },
    {
     "data": {
      "text/plain": [
       "array([[5.5958343 , 2.0375004 ],\n",
       "       [4.269231  , 1.3423076 ],\n",
       "       [1.462     , 0.24599996]], dtype=float32)"
      ]
     },
     "execution_count": 11,
     "metadata": {},
     "output_type": "execute_result"
    }
   ],
   "source": [
    "%%time\n",
    "model_scikit = KMeans(3, n_init=5)\n",
    "model_scikit.fit(X.astype(\"float32\"))\n",
    "model.centroids"
   ]
  },
  {
   "cell_type": "markdown",
   "id": "59d3c63c",
   "metadata": {},
   "source": [
    "### Plotting the clusters"
   ]
  },
  {
   "cell_type": "code",
   "execution_count": 65,
   "id": "d9a40abc",
   "metadata": {
    "scrolled": false
   },
   "outputs": [
    {
     "data": {
      "image/png": "[encoded data removed]",
      "text/plain": [
       "<Figure size 432x288 with 1 Axes>"
      ]
     },
     "metadata": {
      "needs_background": "light"
     },
     "output_type": "display_data"
    }
   ],
   "source": [
    "setosa = iris[iris.species == \"setosa\"]\n",
    "versicolor = iris[iris.species=='versicolor']\n",
    "virginica = iris[iris.species=='virginica']\n",
    "\n",
    "fig, ax = plt.subplots()\n",
    "\n",
    "# lables and scatter points\n",
    "ax.scatter(setosa['petal length (cm)'], setosa['petal width (cm)'], label=\"Setosa\", facecolor=\"blue\")\n",
    "ax.scatter(versicolor['petal length (cm)'], versicolor['petal width (cm)'], label=\"Versicolor\", facecolor=\"green\")\n",
    "ax.scatter(virginica['petal length (cm)'], virginica['petal width (cm)'], label=\"Virginica\", facecolor=\"red\")\n",
    "\n",
    "# The clusters\n",
    "cluster_x = model.centroids[:,0]\n",
    "cluster_y = model.centroids[:,1]\n",
    "\n",
    "ax.scatter(cluster_x, cluster_y, color=\"black\", label=\"Cluster\", s=150)\n",
    "\n",
    "\n",
    "ax.set_xlabel(\"petal length (cm)\")\n",
    "ax.set_ylabel(\"petal width (cm)\")\n",
    "ax.grid()\n",
    "ax.set_title(\"Iris petals\")\n",
    "ax.legend()\n",
    "plt.show()"
   ]
  },
  {
   "cell_type": "markdown",
   "id": "7853c1e3",
   "metadata": {},
   "source": [
    "Not bad :p"
   ]
  }
 ],
 "metadata": {
  "kernelspec": {
   "display_name": "Python 3 (ipykernel)",
   "language": "python",
   "name": "python3"
  },
  "language_info": {
   "codemirror_mode": {
    "name": "ipython",
    "version": 3
   },
   "file_extension": ".py",
   "mimetype": "text/x-python",
   "name": "python",
   "nbconvert_exporter": "python",
   "pygments_lexer": "ipython3",
   "version": "3.9.12"
  }
 },
 "nbformat": 4,
 "nbformat_minor": 5
}
