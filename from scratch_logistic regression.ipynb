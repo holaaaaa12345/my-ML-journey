{
 "cells": [
  {
   "cell_type": "markdown",
   "id": "a95648d3",
   "metadata": {},
   "source": [
    "### Obj: Implement logistic regression from scratch using iris dataset"
   ]
  },
  {
   "cell_type": "markdown",
   "id": "91307f31",
   "metadata": {},
   "source": [
    "This notebook is a part of the series __From Scratch__, where i try to code machine learning algorithms from scratch (just numpy and math)"
   ]
  },
  {
   "cell_type": "code",
   "execution_count": 1,
   "id": "113855f4",
   "metadata": {},
   "outputs": [],
   "source": [
    "import pandas as pd\n",
    "import numpy as np\n",
    "import matplotlib.pyplot as plt\n",
    "plt.style.use('ggplot')\n",
    "from sklearn.linear_model import LogisticRegression  # Used for validation of the scratch model"
   ]
  },
  {
   "cell_type": "markdown",
   "id": "185198fb",
   "metadata": {},
   "source": [
    "### The Dataset\n",
    "We are going to fit a logistic regression to predict Diagnosis using texture_mean and radius_mean."
   ]
  },
  {
   "cell_type": "code",
   "execution_count": 2,
   "id": "b114a5b6",
   "metadata": {
    "scrolled": true
   },
   "outputs": [
    {
     "data": {
      "text/html": [
       "<div>\n",
       "<style scoped>\n",
       "    .dataframe tbody tr th:only-of-type {\n",
       "        vertical-align: middle;\n",
       "    }\n",
       "\n",
       "    .dataframe tbody tr th {\n",
       "        vertical-align: top;\n",
       "    }\n",
       "\n",
       "    .dataframe thead th {\n",
       "        text-align: right;\n",
       "    }\n",
       "</style>\n",
       "<table border=\"1\" class=\"dataframe\">\n",
       "  <thead>\n",
       "    <tr style=\"text-align: right;\">\n",
       "      <th></th>\n",
       "      <th>diagnosis</th>\n",
       "      <th>texture_mean</th>\n",
       "      <th>radius_mean</th>\n",
       "    </tr>\n",
       "  </thead>\n",
       "  <tbody>\n",
       "    <tr>\n",
       "      <th>0</th>\n",
       "      <td>1</td>\n",
       "      <td>10.38</td>\n",
       "      <td>17.99</td>\n",
       "    </tr>\n",
       "    <tr>\n",
       "      <th>1</th>\n",
       "      <td>1</td>\n",
       "      <td>17.77</td>\n",
       "      <td>20.57</td>\n",
       "    </tr>\n",
       "    <tr>\n",
       "      <th>2</th>\n",
       "      <td>1</td>\n",
       "      <td>21.25</td>\n",
       "      <td>19.69</td>\n",
       "    </tr>\n",
       "    <tr>\n",
       "      <th>3</th>\n",
       "      <td>1</td>\n",
       "      <td>20.38</td>\n",
       "      <td>11.42</td>\n",
       "    </tr>\n",
       "    <tr>\n",
       "      <th>4</th>\n",
       "      <td>1</td>\n",
       "      <td>14.34</td>\n",
       "      <td>20.29</td>\n",
       "    </tr>\n",
       "    <tr>\n",
       "      <th>...</th>\n",
       "      <td>...</td>\n",
       "      <td>...</td>\n",
       "      <td>...</td>\n",
       "    </tr>\n",
       "    <tr>\n",
       "      <th>564</th>\n",
       "      <td>1</td>\n",
       "      <td>22.39</td>\n",
       "      <td>21.56</td>\n",
       "    </tr>\n",
       "    <tr>\n",
       "      <th>565</th>\n",
       "      <td>1</td>\n",
       "      <td>28.25</td>\n",
       "      <td>20.13</td>\n",
       "    </tr>\n",
       "    <tr>\n",
       "      <th>566</th>\n",
       "      <td>1</td>\n",
       "      <td>28.08</td>\n",
       "      <td>16.60</td>\n",
       "    </tr>\n",
       "    <tr>\n",
       "      <th>567</th>\n",
       "      <td>1</td>\n",
       "      <td>29.33</td>\n",
       "      <td>20.60</td>\n",
       "    </tr>\n",
       "    <tr>\n",
       "      <th>568</th>\n",
       "      <td>0</td>\n",
       "      <td>24.54</td>\n",
       "      <td>7.76</td>\n",
       "    </tr>\n",
       "  </tbody>\n",
       "</table>\n",
       "<p>569 rows × 3 columns</p>\n",
       "</div>"
      ],
      "text/plain": [
       "     diagnosis  texture_mean  radius_mean\n",
       "0            1         10.38        17.99\n",
       "1            1         17.77        20.57\n",
       "2            1         21.25        19.69\n",
       "3            1         20.38        11.42\n",
       "4            1         14.34        20.29\n",
       "..         ...           ...          ...\n",
       "564          1         22.39        21.56\n",
       "565          1         28.25        20.13\n",
       "566          1         28.08        16.60\n",
       "567          1         29.33        20.60\n",
       "568          0         24.54         7.76\n",
       "\n",
       "[569 rows x 3 columns]"
      ]
     },
     "execution_count": 2,
     "metadata": {},
     "output_type": "execute_result"
    }
   ],
   "source": [
    "df = pd.read_csv(\"./datasets/bdiag.csv\")[[\"diagnosis\", \"texture_mean\", \"radius_mean\"]]\n",
    "df[\"diagnosis\"] = df[\"diagnosis\"].replace({\"M\":1, \"B\":0})\n",
    "df"
   ]
  },
  {
   "cell_type": "markdown",
   "id": "eeb64938",
   "metadata": {},
   "source": [
    "### Generalized Linear Model"
   ]
  },
  {
   "cell_type": "markdown",
   "id": "2deed8fe",
   "metadata": {},
   "source": [
    "Essentially an extension of linear model, wherein the response variable need not be normally distributed. In logistic regression, the response variable is bernoulli distributed and the assumed link function is the logit, the inverse of which is the sigmoid."
   ]
  },
  {
   "cell_type": "markdown",
   "id": "d03a23e8",
   "metadata": {},
   "source": [
    "### Maximum Likelihood Estimation for Bernoulli Distribution to derive binary cross entropy"
   ]
  },
  {
   "cell_type": "markdown",
   "id": "b7263686",
   "metadata": {},
   "source": [
    "The cost function is called cross-entropy, more specifically log cost. It can be obtained through MLE, i.e. maximizing the likelihood function.\n",
    "\n",
    "$$L(x_{i}; p) = p^{x_{i}}(1-p)^{1-x_{i}}$$ \n",
    "\n",
    "Applying log to both sides (it can be done due to the monotonic nature of log)\n",
    "\n",
    "$$\\log(L(x_{i}; p)) = x_{i}\\log{p}+(1-x_{i})\\log(1-p)$$\n",
    "\n",
    "Adding the negative sign to change the purpose from maximizing to minimizing, adding all obtained loss across example, and multiplying by $\\frac{1}{n}$ to obtain the average loss.\n",
    "\n",
    "$$\\textrm{cross-entropy binary cost function}= -\\frac{1}{n}\\sum_{i=0}^{n}x_{i}\\log{p}+(1-x_{i})\\log(1-p)$$\n",
    "\n"
   ]
  },
  {
   "cell_type": "markdown",
   "id": "31503938",
   "metadata": {},
   "source": [
    "### Cost function for logistic regression"
   ]
  },
  {
   "cell_type": "markdown",
   "id": "22413f78",
   "metadata": {},
   "source": [
    "In logistic regression, the $p$ parameter is assumed to be obtained through the sigmoid of linear combination of input features. The response variable is now denoted as $y$\n",
    "\n",
    "$$\\textrm{sigmoid(x)} = \\frac{1}{1+e^{-x}}$$\n",
    "\n",
    "$$\\textrm{linear combination of input features} = f(x) = \\beta_{0} + \\beta_{1}x_{ij} + ... + \\beta_{n}x_{in}$$ \n",
    "\n",
    "Therefore,\n",
    "\n",
    "$$p = h_{\\theta}(x) = \\frac{1}{1+e^{-f(x)}}$$\n",
    "\n",
    "$$\\textrm{cross-entropy binary cost function}= J(\\vec{\\theta}) = -\\frac{1}{n}\\sum_{i=0}^{n}y\\log(h_{\\theta}(x))+(1-y)\\log(1-h_{\\theta}(x))$$"
   ]
  },
  {
   "cell_type": "markdown",
   "id": "572391ee",
   "metadata": {},
   "source": [
    "### Derivative of the Cost Function wrt its parameters"
   ]
  },
  {
   "cell_type": "markdown",
   "id": "08f26d4f",
   "metadata": {},
   "source": [
    "Its hard to do by hand wkwkwk Imma just head straight to the result :p"
   ]
  },
  {
   "cell_type": "markdown",
   "id": "bc412d97",
   "metadata": {},
   "source": [
    "$$\\frac{\\partial J(\\vec{\\theta})}{\\partial\\vec{\\theta}{j}} =  \\frac{1}{m}\\sum_{i=1}^{n}( h_{\\theta}(x^{(i)}) - y^{(i)})x^i_j$$\n",
    "\n",
    "Convert it to matrix form.\n",
    "\n",
    "$$\\frac{\\partial J(\\vec{\\theta})}{\\partial\\vec{\\theta}} = \\frac{1}{n}X^{T}(h_{\\theta}(X)- \\vec{y})$$\n",
    "\n",
    "Note its resemblance with the derivative of cost function for Linear Regression. Pretty cool wkwk.\n",
    "\n",
    "$$\\frac{\\partial J(\\vec{\\theta})}{\\partial\\vec{\\theta}}\\space \\textrm{linreg} = \\frac{1}{n}X^{T}(X\\vec{w} - \\vec{y})$$"
   ]
  },
  {
   "cell_type": "markdown",
   "id": "f23fb0b4",
   "metadata": {},
   "source": [
    "### Time for the Gradient Descent"
   ]
  },
  {
   "cell_type": "code",
   "execution_count": 106,
   "id": "378deaff",
   "metadata": {},
   "outputs": [],
   "source": [
    "class LogGradientDescent:\n",
    "    def sigmoid(self, lincom):\n",
    "        return 1/(1 + np.exp(-lincom))\n",
    "    \n",
    "    def get_cost(self, p, y, n):\n",
    "        term_1 = np.transpose(y) @ np.log(p)\n",
    "        term_2 = np.transpose(1 - y) @ np.log(1-p)\n",
    "        return -(1/n) * (term_1 + term_2).sum()\n",
    "    \n",
    "    def get_h_0(self, X, w):\n",
    "        lin_comb = X @ w\n",
    "        h_0 = self.sigmoid(lin_comb)        \n",
    "        return h_0        \n",
    "    \n",
    "    def get_gradient(self, X, h_0, y, n):\n",
    "        term = np.transpose(X) @ (h_0 - y) \n",
    "        return (1/n) * term\n",
    "    \n",
    "    def fit(self, feature, target, iterations, alpha):\n",
    "        n, m = feature.shape\n",
    "        X_filled = np.insert(feature, 0, np.array([1]*n), axis=1)\n",
    "        parameter = np.zeros((m+1, 1))\n",
    "        cost = []\n",
    "        for i in range(iterations):\n",
    "            h_0 = self.get_h_0(X_filled, parameter)\n",
    "            dj_dw = self.get_gradient(X_filled, h_0, target, n)\n",
    "            parameter = parameter - alpha * dj_dw\n",
    "            cost.append(self.get_cost(h_0, target, n))\n",
    "        \n",
    "        self.parameter_final = parameter\n",
    "        self.cost_final = cost\n",
    "            \n",
    "            "
   ]
  },
  {
   "cell_type": "markdown",
   "id": "b9e96b58",
   "metadata": {},
   "source": [
    "## Testing process"
   ]
  },
  {
   "cell_type": "markdown",
   "id": "4216f989",
   "metadata": {},
   "source": [
    "#### By the Scikit.Learn library"
   ]
  },
  {
   "cell_type": "code",
   "execution_count": 42,
   "id": "b7a9e563",
   "metadata": {
    "scrolled": false
   },
   "outputs": [
    {
     "name": "stdout",
     "output_type": "stream",
     "text": [
      "[[0.21688595 1.0462619 ]]\n",
      "[-19.67135103]\n"
     ]
    },
    {
     "name": "stderr",
     "output_type": "stream",
     "text": [
      "C:\\Users\\USER\\anaconda3\\lib\\site-packages\\sklearn\\utils\\validation.py:993: DataConversionWarning: A column-vector y was passed when a 1d array was expected. Please change the shape of y to (n_samples, ), for example using ravel().\n",
      "  y = column_or_1d(y, warn=True)\n"
     ]
    }
   ],
   "source": [
    "log = LogisticRegression()\n",
    "fet = df[[\"texture_mean\", \"radius_mean\"]].values\n",
    "tar = df[\"diagnosis\"].values.reshape(-1, 1)\n",
    "log.fit(fet, tar)\n",
    "print(log.coef_)\n",
    "print(log.intercept_)"
   ]
  },
  {
   "cell_type": "markdown",
   "id": "a9e14cfa",
   "metadata": {},
   "source": [
    "#### Decision boundary"
   ]
  },
  {
   "cell_type": "code",
   "execution_count": 43,
   "id": "8125803c",
   "metadata": {},
   "outputs": [
    {
     "data": {
      "text/plain": [
       "[<matplotlib.lines.Line2D at 0x21ee4b53e50>]"
      ]
     },
     "execution_count": 43,
     "metadata": {},
     "output_type": "execute_result"
    },
    {
     "data": {
      "image/png": "[encoded data removed]",
      "text/plain": [
       "<Figure size 432x288 with 1 Axes>"
      ]
     },
     "metadata": {},
     "output_type": "display_data"
    }
   ],
   "source": [
    "colors = df[\"diagnosis\"].replace({1:\"r\", 0:\"b\"}).to_list()\n",
    "\n",
    "x_axis = np.arange(9, 41)\n",
    "y_axis =  19.67135103 - 0.21688595 * x_axis  # the boundary equation is one s.t. f(x)=0\n",
    "\n",
    "fig, ax = plt.subplots()\n",
    "ax.scatter(fet[:,0], fet[:,1], color = colors)\n",
    "ax.plot(x_axis, y_axis, color=\"black\")"
   ]
  },
  {
   "cell_type": "markdown",
   "id": "610562a3",
   "metadata": {},
   "source": [
    "#### By my gradient descent"
   ]
  },
  {
   "cell_type": "code",
   "execution_count": 110,
   "id": "7261d34a",
   "metadata": {},
   "outputs": [
    {
     "name": "stdout",
     "output_type": "stream",
     "text": [
      "[[-17.21547626]\n",
      " [  0.18339844]\n",
      " [  0.92093565]]\n"
     ]
    }
   ],
   "source": [
    "reg = LogGradientDescent()\n",
    "reg.fit(fet, tar, 200000, 0.01)\n",
    "print(reg.parameter_final)"
   ]
  },
  {
   "cell_type": "markdown",
   "id": "eb3d8d31",
   "metadata": {},
   "source": [
    "Wow wkwk. Didnt expect it to be this quick and easy 8)."
   ]
  },
  {
   "cell_type": "markdown",
   "id": "4c293d1b",
   "metadata": {},
   "source": [
    "adding more iterations"
   ]
  },
  {
   "cell_type": "code",
   "execution_count": 107,
   "id": "a78c0fad",
   "metadata": {},
   "outputs": [
    {
     "name": "stdout",
     "output_type": "stream",
     "text": [
      "[[-19.82338273]\n",
      " [  0.21780569]\n",
      " [  1.05574491]]\n"
     ]
    }
   ],
   "source": [
    "reg = LogGradientDescent()\n",
    "reg.fit(fet, tar, 1000000, 0.01)\n",
    "print(reg.parameter_final)"
   ]
  },
  {
   "cell_type": "markdown",
   "id": "2584bea8",
   "metadata": {},
   "source": [
    "### Examining the convergence"
   ]
  },
  {
   "cell_type": "code",
   "execution_count": 108,
   "id": "61af77bf",
   "metadata": {
    "scrolled": true
   },
   "outputs": [
    {
     "data": {
      "image/png": "[encoded data removed]",
      "text/plain": [
       "<Figure size 432x288 with 1 Axes>"
      ]
     },
     "metadata": {},
     "output_type": "display_data"
    }
   ],
   "source": [
    "plt.plot(np.arange(1000000), reg.cost_final)\n",
    "plt.show()"
   ]
  },
  {
   "cell_type": "markdown",
   "id": "170b46ec",
   "metadata": {},
   "source": [
    "## Finally wkwkwk :p"
   ]
  }
 ],
 "metadata": {
  "kernelspec": {
   "display_name": "Python 3 (ipykernel)",
   "language": "python",
   "name": "python3"
  },
  "language_info": {
   "codemirror_mode": {
    "name": "ipython",
    "version": 3
   },
   "file_extension": ".py",
   "mimetype": "text/x-python",
   "name": "python",
   "nbconvert_exporter": "python",
   "pygments_lexer": "ipython3",
   "version": "3.9.12"
  }
 },
 "nbformat": 4,
 "nbformat_minor": 5
}
