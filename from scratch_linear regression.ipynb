{
 "cells": [
  {
   "cell_type": "markdown",
   "id": "a35471cb",
   "metadata": {},
   "source": [
    "## Obj: Implement linear regression from scratch using car price dataset"
   ]
  },
  {
   "cell_type": "markdown",
   "id": "f3f9e8cd",
   "metadata": {},
   "source": [
    "This is the first notebook from the series __From Scratch__, where i try to code machine learning algorithms from scratch (just numpy and math)"
   ]
  },
  {
   "cell_type": "code",
   "execution_count": 52,
   "id": "cfb3767e",
   "metadata": {},
   "outputs": [],
   "source": [
    "import pandas as pd\n",
    "import numpy as np\n",
    "import matplotlib.pyplot as plt\n",
    "from sklearn.linear_model import LinearRegression  # For crosschecking result\n",
    "from sklearn.preprocessing import StandardScaler, MinMaxScaler"
   ]
  },
  {
   "cell_type": "markdown",
   "id": "ced8cd24",
   "metadata": {},
   "source": [
    "## The training Data"
   ]
  },
  {
   "cell_type": "code",
   "execution_count": 2,
   "id": "4cc3fcda",
   "metadata": {},
   "outputs": [
    {
     "data": {
      "text/html": [
       "<div>\n",
       "<style scoped>\n",
       "    .dataframe tbody tr th:only-of-type {\n",
       "        vertical-align: middle;\n",
       "    }\n",
       "\n",
       "    .dataframe tbody tr th {\n",
       "        vertical-align: top;\n",
       "    }\n",
       "\n",
       "    .dataframe thead th {\n",
       "        text-align: right;\n",
       "    }\n",
       "</style>\n",
       "<table border=\"1\" class=\"dataframe\">\n",
       "  <thead>\n",
       "    <tr style=\"text-align: right;\">\n",
       "      <th></th>\n",
       "      <th>car_ID</th>\n",
       "      <th>symboling</th>\n",
       "      <th>CarName</th>\n",
       "      <th>fueltype</th>\n",
       "      <th>aspiration</th>\n",
       "      <th>doornumber</th>\n",
       "      <th>carbody</th>\n",
       "      <th>drivewheel</th>\n",
       "      <th>enginelocation</th>\n",
       "      <th>wheelbase</th>\n",
       "      <th>...</th>\n",
       "      <th>fuelsystem</th>\n",
       "      <th>boreratio</th>\n",
       "      <th>stroke</th>\n",
       "      <th>compressionratio</th>\n",
       "      <th>horsepower</th>\n",
       "      <th>peakrpm</th>\n",
       "      <th>citympg</th>\n",
       "      <th>highwaympg</th>\n",
       "      <th>price</th>\n",
       "      <th>mpgcombined</th>\n",
       "    </tr>\n",
       "  </thead>\n",
       "  <tbody>\n",
       "    <tr>\n",
       "      <th>0</th>\n",
       "      <td>1</td>\n",
       "      <td>3</td>\n",
       "      <td>alfa-romero giulia</td>\n",
       "      <td>gas</td>\n",
       "      <td>std</td>\n",
       "      <td>two</td>\n",
       "      <td>convertible</td>\n",
       "      <td>rwd</td>\n",
       "      <td>front</td>\n",
       "      <td>88.6</td>\n",
       "      <td>...</td>\n",
       "      <td>mpfi</td>\n",
       "      <td>3.47</td>\n",
       "      <td>2.68</td>\n",
       "      <td>9.0</td>\n",
       "      <td>111</td>\n",
       "      <td>5000</td>\n",
       "      <td>21</td>\n",
       "      <td>27</td>\n",
       "      <td>13495.0</td>\n",
       "      <td>48</td>\n",
       "    </tr>\n",
       "    <tr>\n",
       "      <th>1</th>\n",
       "      <td>2</td>\n",
       "      <td>3</td>\n",
       "      <td>alfa-romero stelvio</td>\n",
       "      <td>gas</td>\n",
       "      <td>std</td>\n",
       "      <td>two</td>\n",
       "      <td>convertible</td>\n",
       "      <td>rwd</td>\n",
       "      <td>front</td>\n",
       "      <td>88.6</td>\n",
       "      <td>...</td>\n",
       "      <td>mpfi</td>\n",
       "      <td>3.47</td>\n",
       "      <td>2.68</td>\n",
       "      <td>9.0</td>\n",
       "      <td>111</td>\n",
       "      <td>5000</td>\n",
       "      <td>21</td>\n",
       "      <td>27</td>\n",
       "      <td>16500.0</td>\n",
       "      <td>48</td>\n",
       "    </tr>\n",
       "    <tr>\n",
       "      <th>2</th>\n",
       "      <td>3</td>\n",
       "      <td>1</td>\n",
       "      <td>alfa-romero Quadrifoglio</td>\n",
       "      <td>gas</td>\n",
       "      <td>std</td>\n",
       "      <td>two</td>\n",
       "      <td>hatchback</td>\n",
       "      <td>rwd</td>\n",
       "      <td>front</td>\n",
       "      <td>94.5</td>\n",
       "      <td>...</td>\n",
       "      <td>mpfi</td>\n",
       "      <td>2.68</td>\n",
       "      <td>3.47</td>\n",
       "      <td>9.0</td>\n",
       "      <td>154</td>\n",
       "      <td>5000</td>\n",
       "      <td>19</td>\n",
       "      <td>26</td>\n",
       "      <td>16500.0</td>\n",
       "      <td>45</td>\n",
       "    </tr>\n",
       "    <tr>\n",
       "      <th>3</th>\n",
       "      <td>4</td>\n",
       "      <td>2</td>\n",
       "      <td>audi 100 ls</td>\n",
       "      <td>gas</td>\n",
       "      <td>std</td>\n",
       "      <td>four</td>\n",
       "      <td>sedan</td>\n",
       "      <td>fwd</td>\n",
       "      <td>front</td>\n",
       "      <td>99.8</td>\n",
       "      <td>...</td>\n",
       "      <td>mpfi</td>\n",
       "      <td>3.19</td>\n",
       "      <td>3.40</td>\n",
       "      <td>10.0</td>\n",
       "      <td>102</td>\n",
       "      <td>5500</td>\n",
       "      <td>24</td>\n",
       "      <td>30</td>\n",
       "      <td>13950.0</td>\n",
       "      <td>54</td>\n",
       "    </tr>\n",
       "    <tr>\n",
       "      <th>4</th>\n",
       "      <td>5</td>\n",
       "      <td>2</td>\n",
       "      <td>audi 100ls</td>\n",
       "      <td>gas</td>\n",
       "      <td>std</td>\n",
       "      <td>four</td>\n",
       "      <td>sedan</td>\n",
       "      <td>4wd</td>\n",
       "      <td>front</td>\n",
       "      <td>99.4</td>\n",
       "      <td>...</td>\n",
       "      <td>mpfi</td>\n",
       "      <td>3.19</td>\n",
       "      <td>3.40</td>\n",
       "      <td>8.0</td>\n",
       "      <td>115</td>\n",
       "      <td>5500</td>\n",
       "      <td>18</td>\n",
       "      <td>22</td>\n",
       "      <td>17450.0</td>\n",
       "      <td>40</td>\n",
       "    </tr>\n",
       "    <tr>\n",
       "      <th>...</th>\n",
       "      <td>...</td>\n",
       "      <td>...</td>\n",
       "      <td>...</td>\n",
       "      <td>...</td>\n",
       "      <td>...</td>\n",
       "      <td>...</td>\n",
       "      <td>...</td>\n",
       "      <td>...</td>\n",
       "      <td>...</td>\n",
       "      <td>...</td>\n",
       "      <td>...</td>\n",
       "      <td>...</td>\n",
       "      <td>...</td>\n",
       "      <td>...</td>\n",
       "      <td>...</td>\n",
       "      <td>...</td>\n",
       "      <td>...</td>\n",
       "      <td>...</td>\n",
       "      <td>...</td>\n",
       "      <td>...</td>\n",
       "      <td>...</td>\n",
       "    </tr>\n",
       "    <tr>\n",
       "      <th>200</th>\n",
       "      <td>201</td>\n",
       "      <td>-1</td>\n",
       "      <td>volvo 145e (sw)</td>\n",
       "      <td>gas</td>\n",
       "      <td>std</td>\n",
       "      <td>four</td>\n",
       "      <td>sedan</td>\n",
       "      <td>rwd</td>\n",
       "      <td>front</td>\n",
       "      <td>109.1</td>\n",
       "      <td>...</td>\n",
       "      <td>mpfi</td>\n",
       "      <td>3.78</td>\n",
       "      <td>3.15</td>\n",
       "      <td>9.5</td>\n",
       "      <td>114</td>\n",
       "      <td>5400</td>\n",
       "      <td>23</td>\n",
       "      <td>28</td>\n",
       "      <td>16845.0</td>\n",
       "      <td>51</td>\n",
       "    </tr>\n",
       "    <tr>\n",
       "      <th>201</th>\n",
       "      <td>202</td>\n",
       "      <td>-1</td>\n",
       "      <td>volvo 144ea</td>\n",
       "      <td>gas</td>\n",
       "      <td>turbo</td>\n",
       "      <td>four</td>\n",
       "      <td>sedan</td>\n",
       "      <td>rwd</td>\n",
       "      <td>front</td>\n",
       "      <td>109.1</td>\n",
       "      <td>...</td>\n",
       "      <td>mpfi</td>\n",
       "      <td>3.78</td>\n",
       "      <td>3.15</td>\n",
       "      <td>8.7</td>\n",
       "      <td>160</td>\n",
       "      <td>5300</td>\n",
       "      <td>19</td>\n",
       "      <td>25</td>\n",
       "      <td>19045.0</td>\n",
       "      <td>44</td>\n",
       "    </tr>\n",
       "    <tr>\n",
       "      <th>202</th>\n",
       "      <td>203</td>\n",
       "      <td>-1</td>\n",
       "      <td>volvo 244dl</td>\n",
       "      <td>gas</td>\n",
       "      <td>std</td>\n",
       "      <td>four</td>\n",
       "      <td>sedan</td>\n",
       "      <td>rwd</td>\n",
       "      <td>front</td>\n",
       "      <td>109.1</td>\n",
       "      <td>...</td>\n",
       "      <td>mpfi</td>\n",
       "      <td>3.58</td>\n",
       "      <td>2.87</td>\n",
       "      <td>8.8</td>\n",
       "      <td>134</td>\n",
       "      <td>5500</td>\n",
       "      <td>18</td>\n",
       "      <td>23</td>\n",
       "      <td>21485.0</td>\n",
       "      <td>41</td>\n",
       "    </tr>\n",
       "    <tr>\n",
       "      <th>203</th>\n",
       "      <td>204</td>\n",
       "      <td>-1</td>\n",
       "      <td>volvo 246</td>\n",
       "      <td>diesel</td>\n",
       "      <td>turbo</td>\n",
       "      <td>four</td>\n",
       "      <td>sedan</td>\n",
       "      <td>rwd</td>\n",
       "      <td>front</td>\n",
       "      <td>109.1</td>\n",
       "      <td>...</td>\n",
       "      <td>idi</td>\n",
       "      <td>3.01</td>\n",
       "      <td>3.40</td>\n",
       "      <td>23.0</td>\n",
       "      <td>106</td>\n",
       "      <td>4800</td>\n",
       "      <td>26</td>\n",
       "      <td>27</td>\n",
       "      <td>22470.0</td>\n",
       "      <td>53</td>\n",
       "    </tr>\n",
       "    <tr>\n",
       "      <th>204</th>\n",
       "      <td>205</td>\n",
       "      <td>-1</td>\n",
       "      <td>volvo 264gl</td>\n",
       "      <td>gas</td>\n",
       "      <td>turbo</td>\n",
       "      <td>four</td>\n",
       "      <td>sedan</td>\n",
       "      <td>rwd</td>\n",
       "      <td>front</td>\n",
       "      <td>109.1</td>\n",
       "      <td>...</td>\n",
       "      <td>mpfi</td>\n",
       "      <td>3.78</td>\n",
       "      <td>3.15</td>\n",
       "      <td>9.5</td>\n",
       "      <td>114</td>\n",
       "      <td>5400</td>\n",
       "      <td>19</td>\n",
       "      <td>25</td>\n",
       "      <td>22625.0</td>\n",
       "      <td>44</td>\n",
       "    </tr>\n",
       "  </tbody>\n",
       "</table>\n",
       "<p>205 rows × 27 columns</p>\n",
       "</div>"
      ],
      "text/plain": [
       "     car_ID  symboling                   CarName fueltype aspiration  \\\n",
       "0         1          3        alfa-romero giulia      gas        std   \n",
       "1         2          3       alfa-romero stelvio      gas        std   \n",
       "2         3          1  alfa-romero Quadrifoglio      gas        std   \n",
       "3         4          2               audi 100 ls      gas        std   \n",
       "4         5          2                audi 100ls      gas        std   \n",
       "..      ...        ...                       ...      ...        ...   \n",
       "200     201         -1           volvo 145e (sw)      gas        std   \n",
       "201     202         -1               volvo 144ea      gas      turbo   \n",
       "202     203         -1               volvo 244dl      gas        std   \n",
       "203     204         -1                 volvo 246   diesel      turbo   \n",
       "204     205         -1               volvo 264gl      gas      turbo   \n",
       "\n",
       "    doornumber      carbody drivewheel enginelocation  wheelbase  ...  \\\n",
       "0          two  convertible        rwd          front       88.6  ...   \n",
       "1          two  convertible        rwd          front       88.6  ...   \n",
       "2          two    hatchback        rwd          front       94.5  ...   \n",
       "3         four        sedan        fwd          front       99.8  ...   \n",
       "4         four        sedan        4wd          front       99.4  ...   \n",
       "..         ...          ...        ...            ...        ...  ...   \n",
       "200       four        sedan        rwd          front      109.1  ...   \n",
       "201       four        sedan        rwd          front      109.1  ...   \n",
       "202       four        sedan        rwd          front      109.1  ...   \n",
       "203       four        sedan        rwd          front      109.1  ...   \n",
       "204       four        sedan        rwd          front      109.1  ...   \n",
       "\n",
       "     fuelsystem  boreratio  stroke  compressionratio horsepower peakrpm  \\\n",
       "0          mpfi       3.47    2.68               9.0        111    5000   \n",
       "1          mpfi       3.47    2.68               9.0        111    5000   \n",
       "2          mpfi       2.68    3.47               9.0        154    5000   \n",
       "3          mpfi       3.19    3.40              10.0        102    5500   \n",
       "4          mpfi       3.19    3.40               8.0        115    5500   \n",
       "..          ...        ...     ...               ...        ...     ...   \n",
       "200        mpfi       3.78    3.15               9.5        114    5400   \n",
       "201        mpfi       3.78    3.15               8.7        160    5300   \n",
       "202        mpfi       3.58    2.87               8.8        134    5500   \n",
       "203         idi       3.01    3.40              23.0        106    4800   \n",
       "204        mpfi       3.78    3.15               9.5        114    5400   \n",
       "\n",
       "     citympg highwaympg    price  mpgcombined  \n",
       "0         21         27  13495.0           48  \n",
       "1         21         27  16500.0           48  \n",
       "2         19         26  16500.0           45  \n",
       "3         24         30  13950.0           54  \n",
       "4         18         22  17450.0           40  \n",
       "..       ...        ...      ...          ...  \n",
       "200       23         28  16845.0           51  \n",
       "201       19         25  19045.0           44  \n",
       "202       18         23  21485.0           41  \n",
       "203       26         27  22470.0           53  \n",
       "204       19         25  22625.0           44  \n",
       "\n",
       "[205 rows x 27 columns]"
      ]
     },
     "execution_count": 2,
     "metadata": {},
     "output_type": "execute_result"
    }
   ],
   "source": [
    "df = pd.read_csv(\"CarPrice_Assignment.csv\")\n",
    "df[\"mpgcombined\"] = df[\"citympg\"] + df[\"highwaympg\"]\n",
    "df"
   ]
  },
  {
   "cell_type": "code",
   "execution_count": 16,
   "id": "9853aa65",
   "metadata": {},
   "outputs": [
    {
     "name": "stdout",
     "output_type": "stream",
     "text": [
      "<class 'pandas.core.frame.DataFrame'>\n",
      "RangeIndex: 205 entries, 0 to 204\n",
      "Data columns (total 26 columns):\n",
      " #   Column            Non-Null Count  Dtype  \n",
      "---  ------            --------------  -----  \n",
      " 0   car_ID            205 non-null    int64  \n",
      " 1   symboling         205 non-null    int64  \n",
      " 2   CarName           205 non-null    object \n",
      " 3   fueltype          205 non-null    object \n",
      " 4   aspiration        205 non-null    object \n",
      " 5   doornumber        205 non-null    object \n",
      " 6   carbody           205 non-null    object \n",
      " 7   drivewheel        205 non-null    object \n",
      " 8   enginelocation    205 non-null    object \n",
      " 9   wheelbase         205 non-null    float64\n",
      " 10  carlength         205 non-null    float64\n",
      " 11  carwidth          205 non-null    float64\n",
      " 12  carheight         205 non-null    float64\n",
      " 13  curbweight        205 non-null    int64  \n",
      " 14  enginetype        205 non-null    object \n",
      " 15  cylindernumber    205 non-null    object \n",
      " 16  enginesize        205 non-null    int64  \n",
      " 17  fuelsystem        205 non-null    object \n",
      " 18  boreratio         205 non-null    float64\n",
      " 19  stroke            205 non-null    float64\n",
      " 20  compressionratio  205 non-null    float64\n",
      " 21  horsepower        205 non-null    int64  \n",
      " 22  peakrpm           205 non-null    int64  \n",
      " 23  citympg           205 non-null    int64  \n",
      " 24  highwaympg        205 non-null    int64  \n",
      " 25  price             205 non-null    float64\n",
      "dtypes: float64(8), int64(8), object(10)\n",
      "memory usage: 41.8+ KB\n"
     ]
    }
   ],
   "source": [
    "df.info()"
   ]
  },
  {
   "cell_type": "markdown",
   "id": "7eac3782",
   "metadata": {},
   "source": [
    "# Univariate Linear Regression\n",
    "predicting price using horsepower"
   ]
  },
  {
   "cell_type": "code",
   "execution_count": 67,
   "id": "85da83e4",
   "metadata": {},
   "outputs": [],
   "source": [
    "hp = df[\"horsepower\"].to_numpy().reshape(-1, 1)\n",
    "price = df[\"price\"].to_numpy().reshape(-1, 1)"
   ]
  },
  {
   "cell_type": "markdown",
   "id": "74c293f8",
   "metadata": {},
   "source": [
    "### Analytic Approach"
   ]
  },
  {
   "cell_type": "markdown",
   "id": "3eb0451a",
   "metadata": {},
   "source": [
    "This is the cost function to be minimized\n",
    "$$ J(w,b) = \\frac{1}{2m}\\sum_{i=0}^{m-1}(wx_{(i)}+b-y_{(i)})^{2} $$ \n",
    "\n",
    "Since the cost function is convex, the stationary point will most definitely be critical point. Therefore, to minimize the it, we find the $w$ and $b$ such that $\\nabla J(w,b)=0$. \n",
    "\n",
    "$$\\frac{\\partial J(w,b)}{\\partial w} = \\frac{1}{m}\\sum_{i=0}^{m-1}(wx_{(i)}^{2}+bx_{(i)}-x_{(i)}y_{(i)}) = 0$$\n",
    "\n",
    "\n",
    "$$\\frac{\\partial J(w,b)}{\\partial b} = \\frac{1}{m}\\sum_{i=0}^{m-1}(x_{(i)}+b-y_{(i)}) = 0 $$\n",
    "\n",
    "These results produce two linear equations with two unknowns\n",
    "\n",
    "$$w\\sum_{i=0}^{m-1}x_{(i)}^{2}+\\sum_{i=0}^{m-1}bx_{(i)} = \\sum_{i=0}^{m-1}x_{(i)}y_{(i)} $$\n",
    "$$w\\sum_{i=0}^{m-1}x_{(i)}+bm = \\sum_{i=0}^{m-1}y_{(i)} $$\n",
    "\n",
    "Solving, preferably using matrices, for w gives\n",
    "\n",
    "$$w = \\frac{m\\sum_{i=0}^{m-1}x_{(i)}y_{(i)} - \\sum_{i=0}^{m-1}x_{(i)}\\sum_{i=0}^{m-1}y_{(i)}}{m\\sum_{i=0}^{m-1}x_{(i)}^{2} - (\\sum_{i=0}^{m-1}x_{(i)})^{2}}$$\n",
    "\n",
    "Solving, in terms of w, for b gives\n",
    "\n",
    "$$b = \\bar{y} - w\\bar{x}$$"
   ]
  },
  {
   "cell_type": "code",
   "execution_count": 14,
   "id": "a9c53f70",
   "metadata": {},
   "outputs": [],
   "source": [
    "# Creating a simple linear regression object\n",
    "class AnaUniRegression():\n",
    "    # Defining the attribute to be the resulting parameter\n",
    "    def fit(self, feature, target):\n",
    "        m = len(target)\n",
    "        sigma_x = feature.sum()\n",
    "        sigma_y = target.sum()\n",
    "        sigma_xy = (feature * target).sum()\n",
    "        sigma_x_sqr = (feature**2).sum()\n",
    "        w = (m*sigma_xy - sigma_x*sigma_y)/(m*sigma_x_sqr - sigma_x**2)\n",
    "        b = target.mean() - w*feature.mean()\n",
    "        self.w = w\n",
    "        self.b = b\n",
    "        \n",
    "    # Defining function for predicting based on the parameter\n",
    "    def predict(self, data):\n",
    "        return self.w*data + self.b"
   ]
  },
  {
   "cell_type": "markdown",
   "id": "6833f1f8",
   "metadata": {},
   "source": [
    "#### The resulting parameters"
   ]
  },
  {
   "cell_type": "code",
   "execution_count": 15,
   "id": "d78b212e",
   "metadata": {},
   "outputs": [
    {
     "name": "stdout",
     "output_type": "stream",
     "text": [
      "w: 163.263\n",
      "b: -3721.761\n"
     ]
    }
   ],
   "source": [
    "reg = AnaUniRegression()\n",
    "reg.fit(hp, price)\n",
    "print(f\"w: {reg.w:.3f}\")\n",
    "print(f\"b: {reg.b:.3f}\")"
   ]
  },
  {
   "cell_type": "markdown",
   "id": "3af5adb5",
   "metadata": {},
   "source": [
    "### Numerical Approach (Gradient Descent)"
   ]
  },
  {
   "cell_type": "markdown",
   "id": "11866225",
   "metadata": {},
   "source": [
    "The cost function decreases the most to the direction of the vector  $\\nabla J(w,b)$.\n",
    "\n",
    "Gradient Descent will find the most efficient baby-step to the global minimum. This is guaranteed to succeed due to the convex nature of the cost function.\n",
    "\n",
    "The Algorithm:\n",
    "\n",
    "$$\\begin{align*} \\text{repeat}&\\text{ until the cost function converges:} \\; \\lbrace \\newline\n",
    "\\;  w &= w -  \\alpha \\frac{\\partial J(w,b)}{\\partial w} \\tag{3} = w - \\alpha\\frac{1}{m}\\sum_{i=0}^{m-1}(wx_{(i)}^{2}+bx_{(i)}-x_{(i)}y_{(i)})  \\; \\newline \n",
    " b &= b -  \\alpha \\frac{\\partial J(w,b)}{\\partial b} = b - \\alpha\\frac{1}{m}\\sum_{i=0}^{m-1}(x_{(i)}+b-y_{(i)}) \\newline \\rbrace\n",
    "\\end{align*}$$\n",
    "where w,b are updated simultaneously"
   ]
  },
  {
   "cell_type": "code",
   "execution_count": 28,
   "id": "781e58b1",
   "metadata": {},
   "outputs": [],
   "source": [
    "class NumUniReg():\n",
    "    # Computing the cost function\n",
    "    def cost_function(self, w, b, feature, target):\n",
    "        return (1/(2*len(target)))*(((feature*w + b - target)**2).sum())\n",
    "\n",
    "    # Computing the update for the w parameter\n",
    "    def update_w(self, w, b, feature, target, alpha_w):\n",
    "        return w - (alpha_w*(1/len(feature)) * (feature*(feature*w + b - target)).sum())\n",
    "\n",
    "    # Computing the update for the b parameter\n",
    "    def update_b(self, w, b, feature, target, alpha_b):\n",
    "        return b - (alpha_b*(1/len(feature)) * ((w*feature + b - target)).sum())\n",
    "\n",
    "    # Combining everything to main gradient descent function\n",
    "    def fit(self, feature, target, iterations, w=0, b=0, alpha_w=0.0001, alpha_b=0.0001):\n",
    "        cost = []\n",
    "        for i in range(iterations):\n",
    "            w, b = self.update_w(w, b, feature, target, alpha_w), self.update_b(w, b, feature, target, alpha_b) \n",
    "            # w and b should be updated simultaneously. Otherwise, the input for update_b will not be same as that of w.\n",
    "            cost.append(self.cost_function(w, b, feature, target))\n",
    "        self.w = w\n",
    "        self.b = b\n",
    "        self.costs = cost"
   ]
  },
  {
   "cell_type": "markdown",
   "id": "5e7630ab",
   "metadata": {},
   "source": [
    "#### The resulting parameters"
   ]
  },
  {
   "cell_type": "code",
   "execution_count": 29,
   "id": "c1030df1",
   "metadata": {},
   "outputs": [
    {
     "name": "stdout",
     "output_type": "stream",
     "text": [
      "w: 160.723\n",
      "b: -3419.335\n",
      "CPU times: total: 18.4 s\n",
      "Wall time: 21 s\n"
     ]
    }
   ],
   "source": [
    "%%time\n",
    "reg = NumUniReg()\n",
    "reg.fit(hp, price, 200000)\n",
    "print(f\"w: {reg.w:.3f}\")\n",
    "print(f\"b: {reg.b:.3f}\")"
   ]
  },
  {
   "cell_type": "markdown",
   "id": "20e67243",
   "metadata": {},
   "source": [
    "This should be better with feature scaling"
   ]
  },
  {
   "cell_type": "markdown",
   "id": "498c10cc",
   "metadata": {},
   "source": [
    "#### Convergence testing"
   ]
  },
  {
   "cell_type": "code",
   "execution_count": 30,
   "id": "5d428b41",
   "metadata": {
    "scrolled": true
   },
   "outputs": [
    {
     "data": {
      "image/png": "[encoded data removed]",
      "text/plain": [
       "<Figure size 432x288 with 1 Axes>"
      ]
     },
     "metadata": {
      "needs_background": "light"
     },
     "output_type": "display_data"
    }
   ],
   "source": [
    "plt.plot(range(200000), reg.costs)\n",
    "plt.show()"
   ]
  },
  {
   "cell_type": "markdown",
   "id": "84373425",
   "metadata": {},
   "source": [
    "#### Scaling the features"
   ]
  },
  {
   "cell_type": "code",
   "execution_count": 68,
   "id": "5e487bb6",
   "metadata": {},
   "outputs": [],
   "source": [
    "scaler_hp = StandardScaler()\n",
    "scaler_price = StandardScaler()\n",
    "\n",
    "scaled_hp = scaler_hp.fit_transform(hp)"
   ]
  },
  {
   "cell_type": "code",
   "execution_count": 69,
   "id": "040357dc",
   "metadata": {
    "scrolled": true
   },
   "outputs": [
    {
     "name": "stdout",
     "output_type": "stream",
     "text": [
      "w: 6440.336\n",
      "b: 13276.711\n",
      "CPU times: total: 1.44 s\n",
      "Wall time: 1.53 s\n"
     ]
    }
   ],
   "source": [
    "%%time\n",
    "reg = NumUniReg()\n",
    "reg.fit(scaled_hp, price, 20000, alpha_w=0.001, alpha_b=0.001)\n",
    "print(f\"w: {reg.w:.3f}\")\n",
    "print(f\"b: {reg.b:.3f}\")"
   ]
  },
  {
   "cell_type": "markdown",
   "id": "ab2d0193",
   "metadata": {},
   "source": [
    "#### Convergence testing"
   ]
  },
  {
   "cell_type": "code",
   "execution_count": 71,
   "id": "34b90b67",
   "metadata": {},
   "outputs": [
    {
     "data": {
      "image/png": "[encoded data removed]",
      "text/plain": [
       "<Figure size 432x288 with 1 Axes>"
      ]
     },
     "metadata": {
      "needs_background": "light"
     },
     "output_type": "display_data"
    }
   ],
   "source": [
    "plt.plot(range(20000), reg.costs)\n",
    "plt.show()"
   ]
  },
  {
   "cell_type": "markdown",
   "id": "40c999c5",
   "metadata": {},
   "source": [
    "It appears that because the feature and target are very different in terms of scaling, the gradient descent converges very slowly, hence why feature scaling is vital."
   ]
  },
  {
   "cell_type": "markdown",
   "id": "2a1d289b",
   "metadata": {},
   "source": [
    "# Multiple Linear Regression \n",
    "Predicting price using horsepower and engine size"
   ]
  },
  {
   "cell_type": "code",
   "execution_count": 72,
   "id": "3c5691dc",
   "metadata": {},
   "outputs": [],
   "source": [
    "hp_engine = df[[\"horsepower\", \"enginesize\"]].values\n",
    "price = df[\"price\"].values.reshape(-1, 1)"
   ]
  },
  {
   "cell_type": "markdown",
   "id": "6fbdb3ea",
   "metadata": {},
   "source": [
    "### Analytic Closed Form Solution"
   ]
  },
  {
   "cell_type": "markdown",
   "id": "8f430174",
   "metadata": {},
   "source": [
    "The model is $ \\hat{y} = Xw$ where X is an $n \\times (feature+1)$ matrix and w is a $(feature+1) \\times 1$ matrix. It is $(feature+1)$ because the constant $b$ is incorporated into $w$, which means the first column of $X$ consists of only ones.\n",
    "\n",
    "\n",
    "The cost function to be minimized is $ J(\\vec{w}) = \\frac{1}{2n}(X\\vec{w} - \\vec{y})^{T}(X\\vec{w} - \\vec{y}) $, the output of which is a $(feature+1) \\times 1$ matrix. To minimized it, we set the $ \\frac{\\partial{J(\\vec{w})}}{\\partial{\\vec{w}}} = 0 $ or $\\nabla{J(\\vec{w})}=0$. Since this function produces a scalar, its partial derivative with respect to vector $\\vec{w}$ will have the same dimension as that of $\\vec{w}$.\n",
    "\n",
    "$$ J(\\vec{w}) = \\frac{1}{2n}(X\\vec{w} - \\vec{y})^{T}(X\\vec{w} - \\vec{y}) = \\frac{1}{2n}(\\vec{w}^{T}X^{T}X\\vec{w} - \\vec{w}^{T}X^{T}\\vec{y} - \\vec{y}^{T}X\\vec{w} + \\vec{y}^{T}\\vec{y}) $$\n",
    "\n",
    "$$ \\frac{\\partial{J(\\vec{w})}}{\\partial{\\vec{w}}} = \\frac{1}{2n}(2X^{T}X\\vec{w} - 2X^{T}\\vec{y}) = \\frac{1}{n}X^{T}(X\\vec{w} - \\vec{y}) $$\n",
    "\n",
    "Optimize it to solve for  $\\vec{w}$\n",
    "\n",
    "$$ \\frac{1}{2n}(2X^{T}X\\vec{w} - 2X^{T}\\vec{y})=0$$\n",
    "\n",
    "$$ \\vec{w} = (X^{T}X)^{-1} X^{T}\\vec{y}  $$\n"
   ]
  },
  {
   "cell_type": "code",
   "execution_count": 41,
   "id": "8786dfcd",
   "metadata": {},
   "outputs": [],
   "source": [
    "def analytic_multireg(feature, target):\n",
    "    # feature: n x d numpy array \n",
    "    # target: n x 1 numpy array \n",
    "    X = np.hstack((np.array([1]*len(target)).reshape(-1,1), feature))\n",
    "    X_trans = np.transpose(X)\n",
    "    XX_trans = np.matmul(X_trans, X)\n",
    "    inv = np.linalg.inv(XX_trans)\n",
    "    X_transY = np.matmul(X_trans, target)\n",
    "    return np.matmul(inv, X_transY)"
   ]
  },
  {
   "cell_type": "code",
   "execution_count": 46,
   "id": "725f10e4",
   "metadata": {},
   "outputs": [
    {
     "name": "stdout",
     "output_type": "stream",
     "text": [
      "CPU times: total: 0 ns\n",
      "Wall time: 38.7 ms\n"
     ]
    },
    {
     "data": {
      "text/plain": [
       "array([[-8389.73308932],\n",
       "       [   58.84742172],\n",
       "       [  122.44701649]])"
      ]
     },
     "execution_count": 46,
     "metadata": {},
     "output_type": "execute_result"
    }
   ],
   "source": [
    "%%time\n",
    "analytic_multireg(hp_engine, price)"
   ]
  },
  {
   "cell_type": "markdown",
   "id": "b64470cb",
   "metadata": {},
   "source": [
    "### Gradient Descent Numerical Solution (for loop, no vectorization approach)"
   ]
  },
  {
   "cell_type": "code",
   "execution_count": 59,
   "id": "eacb3141",
   "metadata": {},
   "outputs": [],
   "source": [
    "class GdMultipleLinearRegression():\n",
    "    \n",
    "    def dj_dw(self, X, y, diff, n, m):\n",
    "        result = 0\n",
    "        for i in range(n):\n",
    "            result += diff[i] * X[i]  # the X indexing convert to array to 1d (deletes any (,1) in it)\n",
    "        return (result/n).reshape(-1,1)\n",
    "\n",
    "    def dj_db(self, X, y, diff, n):\n",
    "        return 1/n * (diff.sum())\n",
    "\n",
    "    def err(self, X, y, w, b):\n",
    "        return np.matmul(X, w) + b - y\n",
    "    \n",
    "    def predict(self, data, w, b):\n",
    "        return np.matmul(data, w) + b\n",
    "        \n",
    "    def compute_cost(self, X, y, w, b, n):\n",
    "        expression = np.matmul(X, w) + b - y\n",
    "        return (1/(2*n))*(expression*expression).sum()\n",
    "    \n",
    "    def fit(self, X, y, iterations, alpha):\n",
    "        n, m = X.shape\n",
    "        w = np.zeros((m,1))\n",
    "        b = 0\n",
    "        cost = []\n",
    "\n",
    "        for i in range(iterations):\n",
    "            diff = self.err(X, y, w, b)\n",
    "            w = w - alpha*self.dj_dw(X, y, diff, n , m)\n",
    "            b = b - alpha*self.dj_db(X, y, diff, n)\n",
    "            cost.append(self.compute_cost(X, y, w, b, n))\n",
    "        self.w_final = w\n",
    "        self.b_final = b\n",
    "        self.cost_process = np.array(cost)"
   ]
  },
  {
   "cell_type": "markdown",
   "id": "f65b8990",
   "metadata": {},
   "source": [
    "#### Scaling the features"
   ]
  },
  {
   "cell_type": "markdown",
   "id": "b1a7c6f1",
   "metadata": {},
   "source": [
    "I am scaling the features, as otherwise it would take a long time considering range of the features"
   ]
  },
  {
   "cell_type": "code",
   "execution_count": 63,
   "id": "9deb2e89",
   "metadata": {},
   "outputs": [],
   "source": [
    "scaler = MinMaxScaler(feature_range =(0, 1))\n",
    "hp_engine_scaled = scaler.fit_transform(hp_engine)"
   ]
  },
  {
   "cell_type": "markdown",
   "id": "797d9990",
   "metadata": {},
   "source": [
    "#### Here comes the testing"
   ]
  },
  {
   "cell_type": "code",
   "execution_count": 64,
   "id": "fb56aa8e",
   "metadata": {
    "scrolled": true
   },
   "outputs": [
    {
     "name": "stdout",
     "output_type": "stream",
     "text": [
      "w: [[14123.3812132  32448.45937065]]\n",
      "b: [1904.2111594]\n"
     ]
    }
   ],
   "source": [
    "reg = LinearRegression().fit(hp_engine_scaled, price)\n",
    "print(f\"w: {reg.coef_}\")\n",
    "print(f\"b: {reg.intercept_}\")"
   ]
  },
  {
   "cell_type": "code",
   "execution_count": 65,
   "id": "bb464e24",
   "metadata": {
    "scrolled": true
   },
   "outputs": [
    {
     "name": "stdout",
     "output_type": "stream",
     "text": [
      "w: [14193.99647495 32373.4646517 ]\n",
      "b: 1906.3620426522755\n"
     ]
    }
   ],
   "source": [
    "reg = GdMultipleLinearRegression()\n",
    "reg.fit(hp_engine_scaled, price, 1000, 1)\n",
    "print(f\"w: {reg.w_final.reshape(-1)}\")\n",
    "print(f\"b: {reg.b_final}\")"
   ]
  },
  {
   "cell_type": "markdown",
   "id": "7b2bcaf3",
   "metadata": {},
   "source": [
    "## Fully vectorized and numerical implementation.\n",
    "This involves combining the parameter into a column vector and inserting column of ones to the left of feature data (as in the analytic approach) and use gradient descent for optimization."
   ]
  },
  {
   "cell_type": "markdown",
   "id": "fe8d2e47",
   "metadata": {},
   "source": [
    "$$\\begin{align*} \\text{repeat}&\\text{ until the cost function converges:} \\; \\lbrace \\newline\n",
    "\\;  \\vec{w} &= \\vec{w} -  \\alpha \\frac{\\partial J(\\vec{w})}{\\partial \\vec{w}} \\tag{3} = \\vec{w} - \\alpha\\frac{1}{n}(X^{T}X\\vec{w} - X^{T}\\vec{y}) =  \\newline \\rbrace\n",
    "\\end{align*}$$\n",
    "\n",
    "there's only one parameter to update, since the coefficient and intercept was combined into one vector $\\vec{w}$ "
   ]
  },
  {
   "cell_type": "code",
   "execution_count": 86,
   "id": "8c62aa1a",
   "metadata": {},
   "outputs": [],
   "source": [
    "class GdLinearRegression:\n",
    "    \n",
    "    def update_parameter (self, feature_n, target, parameter_n):\n",
    "        total = np.transpose(feature_n) @ feature_n @ parameter_n - np.transpose(feature_n) @ target\n",
    "        return total/len(target)\n",
    "    \n",
    "    def predict (self, data):\n",
    "        return np.matmul(data, self.parameter_final)\n",
    "    \n",
    "    def compute_cost(self, parameter, X, target, n):\n",
    "        terms = np.transpose(X@parameter - target) @ (X@parameter - target)\n",
    "        return ((1/(2*n))*terms)[0][0] \n",
    "\n",
    "    def fit(self, feature, target, alpha, iterations):\n",
    "        n, m = feature.shape\n",
    "        X_filled = np.insert(feature, 0, np.array([1]*n), axis=1)\n",
    "        parameter = np.zeros((m+1, 1))\n",
    "        cost = []\n",
    "        for i in range(iterations):\n",
    "            parameter = parameter - alpha*self.update_parameter(X_filled, target, parameter)\n",
    "            cost.append(self.compute_cost(parameter, X_filled, target, n))\n",
    "        \n",
    "        self.cost_process = np.array(cost)\n",
    "        self.parameter_final = parameter\n",
    "        self.w_final = parameter[1:]\n",
    "        self.b_final = parameter[0]"
   ]
  },
  {
   "cell_type": "markdown",
   "id": "e55fe8ef",
   "metadata": {},
   "source": [
    "### Testing"
   ]
  },
  {
   "cell_type": "code",
   "execution_count": 90,
   "id": "43cc16c3",
   "metadata": {},
   "outputs": [
    {
     "name": "stdout",
     "output_type": "stream",
     "text": [
      "w: [14193.99647495 32373.4646517 ]\n",
      "b: [1906.36204265]\n"
     ]
    }
   ],
   "source": [
    "reg = GdLinearRegression()\n",
    "reg.fit(hp_engine_scaled, price, 1, 1000)\n",
    "print(f\"w: {reg.w_final.reshape(-1)}\")\n",
    "print(f\"b: {reg.b_final}\")"
   ]
  },
  {
   "cell_type": "code",
   "execution_count": 91,
   "id": "60110e4a",
   "metadata": {},
   "outputs": [
    {
     "data": {
      "image/png": "[encoded data removed]",
      "text/plain": [
       "<Figure size 432x288 with 1 Axes>"
      ]
     },
     "metadata": {
      "needs_background": "light"
     },
     "output_type": "display_data"
    }
   ],
   "source": [
    "costs = reg.cost_process\n",
    "plt.plot(range(1, 1001), costs)\n",
    "plt.show()"
   ]
  },
  {
   "cell_type": "markdown",
   "id": "f3a38926",
   "metadata": {},
   "source": [
    "### Not a bad start for me :P"
   ]
  }
 ],
 "metadata": {
  "kernelspec": {
   "display_name": "Python 3 (ipykernel)",
   "language": "python",
   "name": "python3"
  },
  "language_info": {
   "codemirror_mode": {
    "name": "ipython",
    "version": 3
   },
   "file_extension": ".py",
   "mimetype": "text/x-python",
   "name": "python",
   "nbconvert_exporter": "python",
   "pygments_lexer": "ipython3",
   "version": "3.9.12"
  }
 },
 "nbformat": 4,
 "nbformat_minor": 5
}
